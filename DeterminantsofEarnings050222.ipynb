{
  "nbformat": 4,
  "nbformat_minor": 0,
  "metadata": {
    "colab": {
      "name": "DeterminantsofEarnings050222.ipynb",
      "provenance": [],
      "include_colab_link": true
    },
    "kernelspec": {
      "name": "python3",
      "display_name": "Python 3"
    }
  },
  "cells": [
    {
      "cell_type": "markdown",
      "metadata": {
        "id": "view-in-github",
        "colab_type": "text"
      },
      "source": [
        "<a href=\"https://colab.research.google.com/github/limeng1011/DeterminantsofEarnings/blob/main/DeterminantsofEarnings050222.ipynb\" target=\"_parent\"><img src=\"https://colab.research.google.com/assets/colab-badge.svg\" alt=\"Open In Colab\"/></a>"
      ]
    },
    {
      "cell_type": "markdown",
      "metadata": {
        "id": "BHg0HZz-intQ"
      },
      "source": [
        "# Introduction"
      ]
    },
    {
      "cell_type": "markdown",
      "metadata": {
        "id": "V2RQkgAbiqJv"
      },
      "source": [
        "The National Longitudinal Survey of Youth 1997-2011 dataset is one of the most important databases available to social scientists working with US data. \n",
        "\n",
        "It allows scientists to look at the determinants of earnings as well as educational attainment and has incredible relevance for government policy. It can also shed light on politically sensitive issues like how different educational attainment and salaries are for people of different ethnicity, sex, and other factors. When we have a better understanding how these variables affect education and earnings we can also formulate more suitable government policies. \n",
        "\n",
        "<center><img src=https://i.imgur.com/cxBpQ3I.png height=400></center>\n"
      ]
    },
    {
      "cell_type": "markdown",
      "metadata": {
        "id": "YjCPWWUSirY_"
      },
      "source": [
        "### Upgrade Plotly"
      ]
    },
    {
      "cell_type": "code",
      "metadata": {
        "id": "v74l3QCGirIX",
        "colab": {
          "base_uri": "https://localhost:8080/"
        },
        "outputId": "f235ed44-151c-4dcf-f278-e933457d3aaf"
      },
      "source": [
        "%pip install --upgrade plotly"
      ],
      "execution_count": null,
      "outputs": [
        {
          "output_type": "stream",
          "name": "stdout",
          "text": [
            "Looking in indexes: https://pypi.org/simple, https://us-python.pkg.dev/colab-wheels/public/simple/\n",
            "Requirement already satisfied: plotly in /usr/local/lib/python3.7/dist-packages (5.5.0)\n",
            "Collecting plotly\n",
            "  Downloading plotly-5.8.2-py2.py3-none-any.whl (15.2 MB)\n",
            "\u001b[K     |████████████████████████████████| 15.2 MB 6.9 MB/s \n",
            "\u001b[?25hRequirement already satisfied: tenacity>=6.2.0 in /usr/local/lib/python3.7/dist-packages (from plotly) (8.0.1)\n",
            "Installing collected packages: plotly\n",
            "  Attempting uninstall: plotly\n",
            "    Found existing installation: plotly 5.5.0\n",
            "    Uninstalling plotly-5.5.0:\n",
            "      Successfully uninstalled plotly-5.5.0\n",
            "Successfully installed plotly-5.8.2\n"
          ]
        }
      ]
    },
    {
      "cell_type": "markdown",
      "metadata": {
        "id": "br_QkHBMjC1Q"
      },
      "source": [
        "###  Import Statements\n"
      ]
    },
    {
      "cell_type": "code",
      "metadata": {
        "id": "gSKZx-kwie_u"
      },
      "source": [
        "import pandas as pd\n",
        "import numpy as np\n",
        "\n",
        "import seaborn as sns\n",
        "import plotly.express as px\n",
        "import matplotlib.pyplot as plt\n",
        "\n",
        "from sklearn.linear_model import LinearRegression\n",
        "from sklearn.model_selection import train_test_split"
      ],
      "execution_count": null,
      "outputs": []
    },
    {
      "cell_type": "markdown",
      "metadata": {
        "id": "9pgsrth_izCn"
      },
      "source": [
        "## Notebook Presentation"
      ]
    },
    {
      "cell_type": "code",
      "metadata": {
        "id": "Cgwu-WbBizqY"
      },
      "source": [
        "pd.options.display.float_format = '{:,.2f}'.format"
      ],
      "execution_count": null,
      "outputs": []
    },
    {
      "cell_type": "markdown",
      "metadata": {
        "id": "E5bhysOOjLRr"
      },
      "source": [
        "# Load the Data\n",
        "\n"
      ]
    },
    {
      "cell_type": "code",
      "metadata": {
        "id": "6VngeTQwjM-X",
        "colab": {
          "base_uri": "https://localhost:8080/",
          "height": 300
        },
        "outputId": "09a5faf7-bdda-4af6-b801-7ad0ddf785a9"
      },
      "source": [
        "df_data = pd.read_csv('NLSY97_subset.csv')\n",
        "df_data.head()"
      ],
      "execution_count": null,
      "outputs": [
        {
          "output_type": "execute_result",
          "data": {
            "text/plain": [
              "     ID  EARNINGS   S  EXP  FEMALE  MALE  BYEAR  AGE  AGEMBTH   HHINC97  ...  \\\n",
              "0  4275     18.50  12 9.71       0     1   1984   27    24.00 64,000.00  ...   \n",
              "1  4328     19.23  17 5.71       0     1   1982   29    32.00  6,000.00  ...   \n",
              "2  8763     39.05  14 9.94       0     1   1981   30    23.00 88,252.00  ...   \n",
              "3  8879     16.80  18 1.54       0     1   1983   28    30.00       NaN  ...   \n",
              "4  1994     36.06  15 2.94       0     1   1984   27    23.00 44,188.00  ...   \n",
              "\n",
              "   URBAN  REGNE  REGNC  REGW  REGS  MSA11NO  MSA11NCC  MSA11CC  MSA11NK  \\\n",
              "0      1      0      0     1     0        0         0        1        0   \n",
              "1      2      0      0     1     0        0         1        0        0   \n",
              "2      1      0      0     0     1        0         0        1        0   \n",
              "3      1      0      1     0     0        0         1        0        0   \n",
              "4      1      0      0     0     1        0         0        1        0   \n",
              "\n",
              "   MSA11NIC  \n",
              "0         0  \n",
              "1         0  \n",
              "2         0  \n",
              "3         0  \n",
              "4         0  \n",
              "\n",
              "[5 rows x 96 columns]"
            ],
            "text/html": [
              "\n",
              "  <div id=\"df-abd72a04-73bc-45d6-9374-3964198edb98\">\n",
              "    <div class=\"colab-df-container\">\n",
              "      <div>\n",
              "<style scoped>\n",
              "    .dataframe tbody tr th:only-of-type {\n",
              "        vertical-align: middle;\n",
              "    }\n",
              "\n",
              "    .dataframe tbody tr th {\n",
              "        vertical-align: top;\n",
              "    }\n",
              "\n",
              "    .dataframe thead th {\n",
              "        text-align: right;\n",
              "    }\n",
              "</style>\n",
              "<table border=\"1\" class=\"dataframe\">\n",
              "  <thead>\n",
              "    <tr style=\"text-align: right;\">\n",
              "      <th></th>\n",
              "      <th>ID</th>\n",
              "      <th>EARNINGS</th>\n",
              "      <th>S</th>\n",
              "      <th>EXP</th>\n",
              "      <th>FEMALE</th>\n",
              "      <th>MALE</th>\n",
              "      <th>BYEAR</th>\n",
              "      <th>AGE</th>\n",
              "      <th>AGEMBTH</th>\n",
              "      <th>HHINC97</th>\n",
              "      <th>...</th>\n",
              "      <th>URBAN</th>\n",
              "      <th>REGNE</th>\n",
              "      <th>REGNC</th>\n",
              "      <th>REGW</th>\n",
              "      <th>REGS</th>\n",
              "      <th>MSA11NO</th>\n",
              "      <th>MSA11NCC</th>\n",
              "      <th>MSA11CC</th>\n",
              "      <th>MSA11NK</th>\n",
              "      <th>MSA11NIC</th>\n",
              "    </tr>\n",
              "  </thead>\n",
              "  <tbody>\n",
              "    <tr>\n",
              "      <th>0</th>\n",
              "      <td>4275</td>\n",
              "      <td>18.50</td>\n",
              "      <td>12</td>\n",
              "      <td>9.71</td>\n",
              "      <td>0</td>\n",
              "      <td>1</td>\n",
              "      <td>1984</td>\n",
              "      <td>27</td>\n",
              "      <td>24.00</td>\n",
              "      <td>64,000.00</td>\n",
              "      <td>...</td>\n",
              "      <td>1</td>\n",
              "      <td>0</td>\n",
              "      <td>0</td>\n",
              "      <td>1</td>\n",
              "      <td>0</td>\n",
              "      <td>0</td>\n",
              "      <td>0</td>\n",
              "      <td>1</td>\n",
              "      <td>0</td>\n",
              "      <td>0</td>\n",
              "    </tr>\n",
              "    <tr>\n",
              "      <th>1</th>\n",
              "      <td>4328</td>\n",
              "      <td>19.23</td>\n",
              "      <td>17</td>\n",
              "      <td>5.71</td>\n",
              "      <td>0</td>\n",
              "      <td>1</td>\n",
              "      <td>1982</td>\n",
              "      <td>29</td>\n",
              "      <td>32.00</td>\n",
              "      <td>6,000.00</td>\n",
              "      <td>...</td>\n",
              "      <td>2</td>\n",
              "      <td>0</td>\n",
              "      <td>0</td>\n",
              "      <td>1</td>\n",
              "      <td>0</td>\n",
              "      <td>0</td>\n",
              "      <td>1</td>\n",
              "      <td>0</td>\n",
              "      <td>0</td>\n",
              "      <td>0</td>\n",
              "    </tr>\n",
              "    <tr>\n",
              "      <th>2</th>\n",
              "      <td>8763</td>\n",
              "      <td>39.05</td>\n",
              "      <td>14</td>\n",
              "      <td>9.94</td>\n",
              "      <td>0</td>\n",
              "      <td>1</td>\n",
              "      <td>1981</td>\n",
              "      <td>30</td>\n",
              "      <td>23.00</td>\n",
              "      <td>88,252.00</td>\n",
              "      <td>...</td>\n",
              "      <td>1</td>\n",
              "      <td>0</td>\n",
              "      <td>0</td>\n",
              "      <td>0</td>\n",
              "      <td>1</td>\n",
              "      <td>0</td>\n",
              "      <td>0</td>\n",
              "      <td>1</td>\n",
              "      <td>0</td>\n",
              "      <td>0</td>\n",
              "    </tr>\n",
              "    <tr>\n",
              "      <th>3</th>\n",
              "      <td>8879</td>\n",
              "      <td>16.80</td>\n",
              "      <td>18</td>\n",
              "      <td>1.54</td>\n",
              "      <td>0</td>\n",
              "      <td>1</td>\n",
              "      <td>1983</td>\n",
              "      <td>28</td>\n",
              "      <td>30.00</td>\n",
              "      <td>NaN</td>\n",
              "      <td>...</td>\n",
              "      <td>1</td>\n",
              "      <td>0</td>\n",
              "      <td>1</td>\n",
              "      <td>0</td>\n",
              "      <td>0</td>\n",
              "      <td>0</td>\n",
              "      <td>1</td>\n",
              "      <td>0</td>\n",
              "      <td>0</td>\n",
              "      <td>0</td>\n",
              "    </tr>\n",
              "    <tr>\n",
              "      <th>4</th>\n",
              "      <td>1994</td>\n",
              "      <td>36.06</td>\n",
              "      <td>15</td>\n",
              "      <td>2.94</td>\n",
              "      <td>0</td>\n",
              "      <td>1</td>\n",
              "      <td>1984</td>\n",
              "      <td>27</td>\n",
              "      <td>23.00</td>\n",
              "      <td>44,188.00</td>\n",
              "      <td>...</td>\n",
              "      <td>1</td>\n",
              "      <td>0</td>\n",
              "      <td>0</td>\n",
              "      <td>0</td>\n",
              "      <td>1</td>\n",
              "      <td>0</td>\n",
              "      <td>0</td>\n",
              "      <td>1</td>\n",
              "      <td>0</td>\n",
              "      <td>0</td>\n",
              "    </tr>\n",
              "  </tbody>\n",
              "</table>\n",
              "<p>5 rows × 96 columns</p>\n",
              "</div>\n",
              "      <button class=\"colab-df-convert\" onclick=\"convertToInteractive('df-abd72a04-73bc-45d6-9374-3964198edb98')\"\n",
              "              title=\"Convert this dataframe to an interactive table.\"\n",
              "              style=\"display:none;\">\n",
              "        \n",
              "  <svg xmlns=\"http://www.w3.org/2000/svg\" height=\"24px\"viewBox=\"0 0 24 24\"\n",
              "       width=\"24px\">\n",
              "    <path d=\"M0 0h24v24H0V0z\" fill=\"none\"/>\n",
              "    <path d=\"M18.56 5.44l.94 2.06.94-2.06 2.06-.94-2.06-.94-.94-2.06-.94 2.06-2.06.94zm-11 1L8.5 8.5l.94-2.06 2.06-.94-2.06-.94L8.5 2.5l-.94 2.06-2.06.94zm10 10l.94 2.06.94-2.06 2.06-.94-2.06-.94-.94-2.06-.94 2.06-2.06.94z\"/><path d=\"M17.41 7.96l-1.37-1.37c-.4-.4-.92-.59-1.43-.59-.52 0-1.04.2-1.43.59L10.3 9.45l-7.72 7.72c-.78.78-.78 2.05 0 2.83L4 21.41c.39.39.9.59 1.41.59.51 0 1.02-.2 1.41-.59l7.78-7.78 2.81-2.81c.8-.78.8-2.07 0-2.86zM5.41 20L4 18.59l7.72-7.72 1.47 1.35L5.41 20z\"/>\n",
              "  </svg>\n",
              "      </button>\n",
              "      \n",
              "  <style>\n",
              "    .colab-df-container {\n",
              "      display:flex;\n",
              "      flex-wrap:wrap;\n",
              "      gap: 12px;\n",
              "    }\n",
              "\n",
              "    .colab-df-convert {\n",
              "      background-color: #E8F0FE;\n",
              "      border: none;\n",
              "      border-radius: 50%;\n",
              "      cursor: pointer;\n",
              "      display: none;\n",
              "      fill: #1967D2;\n",
              "      height: 32px;\n",
              "      padding: 0 0 0 0;\n",
              "      width: 32px;\n",
              "    }\n",
              "\n",
              "    .colab-df-convert:hover {\n",
              "      background-color: #E2EBFA;\n",
              "      box-shadow: 0px 1px 2px rgba(60, 64, 67, 0.3), 0px 1px 3px 1px rgba(60, 64, 67, 0.15);\n",
              "      fill: #174EA6;\n",
              "    }\n",
              "\n",
              "    [theme=dark] .colab-df-convert {\n",
              "      background-color: #3B4455;\n",
              "      fill: #D2E3FC;\n",
              "    }\n",
              "\n",
              "    [theme=dark] .colab-df-convert:hover {\n",
              "      background-color: #434B5C;\n",
              "      box-shadow: 0px 1px 3px 1px rgba(0, 0, 0, 0.15);\n",
              "      filter: drop-shadow(0px 1px 2px rgba(0, 0, 0, 0.3));\n",
              "      fill: #FFFFFF;\n",
              "    }\n",
              "  </style>\n",
              "\n",
              "      <script>\n",
              "        const buttonEl =\n",
              "          document.querySelector('#df-abd72a04-73bc-45d6-9374-3964198edb98 button.colab-df-convert');\n",
              "        buttonEl.style.display =\n",
              "          google.colab.kernel.accessAllowed ? 'block' : 'none';\n",
              "\n",
              "        async function convertToInteractive(key) {\n",
              "          const element = document.querySelector('#df-abd72a04-73bc-45d6-9374-3964198edb98');\n",
              "          const dataTable =\n",
              "            await google.colab.kernel.invokeFunction('convertToInteractive',\n",
              "                                                     [key], {});\n",
              "          if (!dataTable) return;\n",
              "\n",
              "          const docLinkHtml = 'Like what you see? Visit the ' +\n",
              "            '<a target=\"_blank\" href=https://colab.research.google.com/notebooks/data_table.ipynb>data table notebook</a>'\n",
              "            + ' to learn more about interactive tables.';\n",
              "          element.innerHTML = '';\n",
              "          dataTable['output_type'] = 'display_data';\n",
              "          await google.colab.output.renderOutput(dataTable, element);\n",
              "          const docLink = document.createElement('div');\n",
              "          docLink.innerHTML = docLinkHtml;\n",
              "          element.appendChild(docLink);\n",
              "        }\n",
              "      </script>\n",
              "    </div>\n",
              "  </div>\n",
              "  "
            ]
          },
          "metadata": {},
          "execution_count": 4
        }
      ]
    },
    {
      "cell_type": "code",
      "source": [
        "df_data.shape"
      ],
      "metadata": {
        "colab": {
          "base_uri": "https://localhost:8080/"
        },
        "id": "Sf3iEC5N9D4-",
        "outputId": "628d1bc3-e9c0-467e-9f7c-419f1629a9d8"
      },
      "execution_count": null,
      "outputs": [
        {
          "output_type": "execute_result",
          "data": {
            "text/plain": [
              "(2000, 96)"
            ]
          },
          "metadata": {},
          "execution_count": 5
        }
      ]
    },
    {
      "cell_type": "code",
      "source": [
        "df_variables = pd.read_csv('NLSY97_Variable_Names_and_Descriptions.csv')\n",
        "df_variables.head(20)"
      ],
      "metadata": {
        "colab": {
          "base_uri": "https://localhost:8080/",
          "height": 677
        },
        "id": "eHky695xNl7J",
        "outputId": "d5c2ad5d-297a-4332-96d4-366c155ed009"
      },
      "execution_count": null,
      "outputs": [
        {
          "output_type": "execute_result",
          "data": {
            "text/plain": [
              "                    Personal variables Variable Type  \\\n",
              "0                               FEMALE             D   \n",
              "1                                 MALE             D   \n",
              "2                                  NaN           NaN   \n",
              "3                           Ethnicity:           NaN   \n",
              "4                             ETHBLACK             D   \n",
              "5                              ETHHISP             D   \n",
              "6                             ETHWHITE             D   \n",
              "7                                  NaN           NaN   \n",
              "8                                  AGE             C   \n",
              "9                                BYEAR             C   \n",
              "10                              HEIGHT             C   \n",
              "11                            WEIGHT04             C   \n",
              "12                            WEIGHT11             C   \n",
              "13                                   S             C   \n",
              "14                                 NaN           NaN   \n",
              "15  Highest educational qualification:           NaN   \n",
              "16                            EDUCPROF             D   \n",
              "17                             EDUCPHD             D   \n",
              "18                            EDUCMAST             D   \n",
              "19                              EDUCBA             D   \n",
              "\n",
              "                                          Description  \n",
              "0          Sex of respondent (0 if male, 1 if female)  \n",
              "1          Sex of respondent (1 if male, 0 if female)  \n",
              "2                                                 NaN  \n",
              "3                                                 NaN  \n",
              "4                                               Black  \n",
              "5                                            Hispanic  \n",
              "6                             Non-black, non-hispanic  \n",
              "7                                                 NaN  \n",
              "8                                         Age in 2011  \n",
              "9                                       Year of birth  \n",
              "10                         Height, in inches, in 2004  \n",
              "11                         Weight, in pounds, in 2004  \n",
              "12                         Weight, in pounds, in 2011  \n",
              "13  Years of schooling (highest grade completed as...  \n",
              "14                                                NaN  \n",
              "15                                                NaN  \n",
              "16                                Professional degree  \n",
              "17                                          Doctorate  \n",
              "18                                    Master's degree  \n",
              "19                                  Bachelor's degree  "
            ],
            "text/html": [
              "\n",
              "  <div id=\"df-1c181030-d828-47b1-a2d4-541cc6ef2f44\">\n",
              "    <div class=\"colab-df-container\">\n",
              "      <div>\n",
              "<style scoped>\n",
              "    .dataframe tbody tr th:only-of-type {\n",
              "        vertical-align: middle;\n",
              "    }\n",
              "\n",
              "    .dataframe tbody tr th {\n",
              "        vertical-align: top;\n",
              "    }\n",
              "\n",
              "    .dataframe thead th {\n",
              "        text-align: right;\n",
              "    }\n",
              "</style>\n",
              "<table border=\"1\" class=\"dataframe\">\n",
              "  <thead>\n",
              "    <tr style=\"text-align: right;\">\n",
              "      <th></th>\n",
              "      <th>Personal variables</th>\n",
              "      <th>Variable Type</th>\n",
              "      <th>Description</th>\n",
              "    </tr>\n",
              "  </thead>\n",
              "  <tbody>\n",
              "    <tr>\n",
              "      <th>0</th>\n",
              "      <td>FEMALE</td>\n",
              "      <td>D</td>\n",
              "      <td>Sex of respondent (0 if male, 1 if female)</td>\n",
              "    </tr>\n",
              "    <tr>\n",
              "      <th>1</th>\n",
              "      <td>MALE</td>\n",
              "      <td>D</td>\n",
              "      <td>Sex of respondent (1 if male, 0 if female)</td>\n",
              "    </tr>\n",
              "    <tr>\n",
              "      <th>2</th>\n",
              "      <td>NaN</td>\n",
              "      <td>NaN</td>\n",
              "      <td>NaN</td>\n",
              "    </tr>\n",
              "    <tr>\n",
              "      <th>3</th>\n",
              "      <td>Ethnicity:</td>\n",
              "      <td>NaN</td>\n",
              "      <td>NaN</td>\n",
              "    </tr>\n",
              "    <tr>\n",
              "      <th>4</th>\n",
              "      <td>ETHBLACK</td>\n",
              "      <td>D</td>\n",
              "      <td>Black</td>\n",
              "    </tr>\n",
              "    <tr>\n",
              "      <th>5</th>\n",
              "      <td>ETHHISP</td>\n",
              "      <td>D</td>\n",
              "      <td>Hispanic</td>\n",
              "    </tr>\n",
              "    <tr>\n",
              "      <th>6</th>\n",
              "      <td>ETHWHITE</td>\n",
              "      <td>D</td>\n",
              "      <td>Non-black, non-hispanic</td>\n",
              "    </tr>\n",
              "    <tr>\n",
              "      <th>7</th>\n",
              "      <td>NaN</td>\n",
              "      <td>NaN</td>\n",
              "      <td>NaN</td>\n",
              "    </tr>\n",
              "    <tr>\n",
              "      <th>8</th>\n",
              "      <td>AGE</td>\n",
              "      <td>C</td>\n",
              "      <td>Age in 2011</td>\n",
              "    </tr>\n",
              "    <tr>\n",
              "      <th>9</th>\n",
              "      <td>BYEAR</td>\n",
              "      <td>C</td>\n",
              "      <td>Year of birth</td>\n",
              "    </tr>\n",
              "    <tr>\n",
              "      <th>10</th>\n",
              "      <td>HEIGHT</td>\n",
              "      <td>C</td>\n",
              "      <td>Height, in inches, in 2004</td>\n",
              "    </tr>\n",
              "    <tr>\n",
              "      <th>11</th>\n",
              "      <td>WEIGHT04</td>\n",
              "      <td>C</td>\n",
              "      <td>Weight, in pounds, in 2004</td>\n",
              "    </tr>\n",
              "    <tr>\n",
              "      <th>12</th>\n",
              "      <td>WEIGHT11</td>\n",
              "      <td>C</td>\n",
              "      <td>Weight, in pounds, in 2011</td>\n",
              "    </tr>\n",
              "    <tr>\n",
              "      <th>13</th>\n",
              "      <td>S</td>\n",
              "      <td>C</td>\n",
              "      <td>Years of schooling (highest grade completed as...</td>\n",
              "    </tr>\n",
              "    <tr>\n",
              "      <th>14</th>\n",
              "      <td>NaN</td>\n",
              "      <td>NaN</td>\n",
              "      <td>NaN</td>\n",
              "    </tr>\n",
              "    <tr>\n",
              "      <th>15</th>\n",
              "      <td>Highest educational qualification:</td>\n",
              "      <td>NaN</td>\n",
              "      <td>NaN</td>\n",
              "    </tr>\n",
              "    <tr>\n",
              "      <th>16</th>\n",
              "      <td>EDUCPROF</td>\n",
              "      <td>D</td>\n",
              "      <td>Professional degree</td>\n",
              "    </tr>\n",
              "    <tr>\n",
              "      <th>17</th>\n",
              "      <td>EDUCPHD</td>\n",
              "      <td>D</td>\n",
              "      <td>Doctorate</td>\n",
              "    </tr>\n",
              "    <tr>\n",
              "      <th>18</th>\n",
              "      <td>EDUCMAST</td>\n",
              "      <td>D</td>\n",
              "      <td>Master's degree</td>\n",
              "    </tr>\n",
              "    <tr>\n",
              "      <th>19</th>\n",
              "      <td>EDUCBA</td>\n",
              "      <td>D</td>\n",
              "      <td>Bachelor's degree</td>\n",
              "    </tr>\n",
              "  </tbody>\n",
              "</table>\n",
              "</div>\n",
              "      <button class=\"colab-df-convert\" onclick=\"convertToInteractive('df-1c181030-d828-47b1-a2d4-541cc6ef2f44')\"\n",
              "              title=\"Convert this dataframe to an interactive table.\"\n",
              "              style=\"display:none;\">\n",
              "        \n",
              "  <svg xmlns=\"http://www.w3.org/2000/svg\" height=\"24px\"viewBox=\"0 0 24 24\"\n",
              "       width=\"24px\">\n",
              "    <path d=\"M0 0h24v24H0V0z\" fill=\"none\"/>\n",
              "    <path d=\"M18.56 5.44l.94 2.06.94-2.06 2.06-.94-2.06-.94-.94-2.06-.94 2.06-2.06.94zm-11 1L8.5 8.5l.94-2.06 2.06-.94-2.06-.94L8.5 2.5l-.94 2.06-2.06.94zm10 10l.94 2.06.94-2.06 2.06-.94-2.06-.94-.94-2.06-.94 2.06-2.06.94z\"/><path d=\"M17.41 7.96l-1.37-1.37c-.4-.4-.92-.59-1.43-.59-.52 0-1.04.2-1.43.59L10.3 9.45l-7.72 7.72c-.78.78-.78 2.05 0 2.83L4 21.41c.39.39.9.59 1.41.59.51 0 1.02-.2 1.41-.59l7.78-7.78 2.81-2.81c.8-.78.8-2.07 0-2.86zM5.41 20L4 18.59l7.72-7.72 1.47 1.35L5.41 20z\"/>\n",
              "  </svg>\n",
              "      </button>\n",
              "      \n",
              "  <style>\n",
              "    .colab-df-container {\n",
              "      display:flex;\n",
              "      flex-wrap:wrap;\n",
              "      gap: 12px;\n",
              "    }\n",
              "\n",
              "    .colab-df-convert {\n",
              "      background-color: #E8F0FE;\n",
              "      border: none;\n",
              "      border-radius: 50%;\n",
              "      cursor: pointer;\n",
              "      display: none;\n",
              "      fill: #1967D2;\n",
              "      height: 32px;\n",
              "      padding: 0 0 0 0;\n",
              "      width: 32px;\n",
              "    }\n",
              "\n",
              "    .colab-df-convert:hover {\n",
              "      background-color: #E2EBFA;\n",
              "      box-shadow: 0px 1px 2px rgba(60, 64, 67, 0.3), 0px 1px 3px 1px rgba(60, 64, 67, 0.15);\n",
              "      fill: #174EA6;\n",
              "    }\n",
              "\n",
              "    [theme=dark] .colab-df-convert {\n",
              "      background-color: #3B4455;\n",
              "      fill: #D2E3FC;\n",
              "    }\n",
              "\n",
              "    [theme=dark] .colab-df-convert:hover {\n",
              "      background-color: #434B5C;\n",
              "      box-shadow: 0px 1px 3px 1px rgba(0, 0, 0, 0.15);\n",
              "      filter: drop-shadow(0px 1px 2px rgba(0, 0, 0, 0.3));\n",
              "      fill: #FFFFFF;\n",
              "    }\n",
              "  </style>\n",
              "\n",
              "      <script>\n",
              "        const buttonEl =\n",
              "          document.querySelector('#df-1c181030-d828-47b1-a2d4-541cc6ef2f44 button.colab-df-convert');\n",
              "        buttonEl.style.display =\n",
              "          google.colab.kernel.accessAllowed ? 'block' : 'none';\n",
              "\n",
              "        async function convertToInteractive(key) {\n",
              "          const element = document.querySelector('#df-1c181030-d828-47b1-a2d4-541cc6ef2f44');\n",
              "          const dataTable =\n",
              "            await google.colab.kernel.invokeFunction('convertToInteractive',\n",
              "                                                     [key], {});\n",
              "          if (!dataTable) return;\n",
              "\n",
              "          const docLinkHtml = 'Like what you see? Visit the ' +\n",
              "            '<a target=\"_blank\" href=https://colab.research.google.com/notebooks/data_table.ipynb>data table notebook</a>'\n",
              "            + ' to learn more about interactive tables.';\n",
              "          element.innerHTML = '';\n",
              "          dataTable['output_type'] = 'display_data';\n",
              "          await google.colab.output.renderOutput(dataTable, element);\n",
              "          const docLink = document.createElement('div');\n",
              "          docLink.innerHTML = docLinkHtml;\n",
              "          element.appendChild(docLink);\n",
              "        }\n",
              "      </script>\n",
              "    </div>\n",
              "  </div>\n",
              "  "
            ]
          },
          "metadata": {},
          "execution_count": 6
        }
      ]
    },
    {
      "cell_type": "code",
      "source": [
        "df_variables.shape"
      ],
      "metadata": {
        "colab": {
          "base_uri": "https://localhost:8080/"
        },
        "id": "h22HDbFU9HE4",
        "outputId": "b75971d3-7747-4ab0-b859-6c0e42ff5f87"
      },
      "execution_count": null,
      "outputs": [
        {
          "output_type": "execute_result",
          "data": {
            "text/plain": [
              "(122, 3)"
            ]
          },
          "metadata": {},
          "execution_count": 7
        }
      ]
    },
    {
      "cell_type": "markdown",
      "metadata": {
        "id": "_ZjIBJ5jjrj0"
      },
      "source": [
        "### Understand the Dataset\n",
        "\n",
        "Have a look at the file entitled `NLSY97_Variable_Names_and_Descriptions.csv`. \n",
        "\n",
        "---------------------------\n",
        "\n",
        "    :Key Variables:  \n",
        "      1. S           Years of schooling (highest grade completed as of 2011)\n",
        "      2. EXP         Total out-of-school work experience (years) as of the 2011 interview.\n",
        "      3. EARNINGS    Current hourly earnings in $ reported at the 2011 interview"
      ]
    },
    {
      "cell_type": "markdown",
      "metadata": {
        "id": "8MkSxkjVnIfW"
      },
      "source": [
        "# Preliminary Data Exploration 🔎\n",
        "\n",
        "**Challenge**\n",
        "\n",
        "* What is the shape of `df_data`? \n",
        "* How many rows and columns does it have?\n",
        "* What are the column names?\n",
        "* Are there any NaN values or duplicates?"
      ]
    },
    {
      "cell_type": "code",
      "metadata": {
        "id": "V_cQguBbjwZv",
        "colab": {
          "base_uri": "https://localhost:8080/"
        },
        "outputId": "ca2a43d2-09a7-44a7-987a-2c97c1c2e730"
      },
      "source": [
        "df_data.shape\n",
        "print(f'The table has {df_data.shape[0]} rows and {df_data.shape[1]} columns.')"
      ],
      "execution_count": null,
      "outputs": [
        {
          "output_type": "stream",
          "name": "stdout",
          "text": [
            "The table has 2000 rows and 96 columns.\n"
          ]
        }
      ]
    },
    {
      "cell_type": "code",
      "source": [
        "df_data.columns"
      ],
      "metadata": {
        "colab": {
          "base_uri": "https://localhost:8080/"
        },
        "id": "RWZyMf-oOXCG",
        "outputId": "5bde45ef-1619-4958-f881-42ddc6e6837f"
      },
      "execution_count": null,
      "outputs": [
        {
          "output_type": "execute_result",
          "data": {
            "text/plain": [
              "Index(['ID', 'EARNINGS', 'S', 'EXP', 'FEMALE', 'MALE', 'BYEAR', 'AGE',\n",
              "       'AGEMBTH', 'HHINC97', 'POVRAT97', 'HHBMBF', 'HHBMOF', 'HHOMBF',\n",
              "       'HHBMONLY', 'HHBFONLY', 'HHOTHER', 'MSA97NO', 'MSA97NCC', 'MSA97CC',\n",
              "       'MSA97NK', 'ETHBLACK', 'ETHHISP', 'ETHWHITE', 'EDUCPROF', 'EDUCPHD',\n",
              "       'EDUCMAST', 'EDUCBA', 'EDUCAA', 'EDUCHSD', 'EDUCGED', 'EDUCDO',\n",
              "       'PRMONM', 'PRMONF', 'PRMSTYUN', 'PRMSTYPE', 'PRMSTYAN', 'PRMSTYAE',\n",
              "       'PRFSTYUN', 'PRFSTYPE', 'PRFSTYAN', 'PRFSTYAE', 'SINGLE', 'MARRIED',\n",
              "       'COHABIT', 'OTHSING', 'FAITHN', 'FAITHP', 'FAITHC', 'FAITHJ', 'FAITHO',\n",
              "       'FAITHM', 'ASVABAR', 'ASVABWK', 'ASVABPC', 'ASVABMK', 'ASVABNO',\n",
              "       'ASVABCS', 'ASVABC', 'ASVABC4', 'VERBAL', 'ASVABMV', 'HEIGHT',\n",
              "       'WEIGHT04', 'WEIGHT11', 'SF', 'SM', 'SFR', 'SMR', 'SIBLINGS', 'REG97NE',\n",
              "       'REG97NC', 'REG97S', 'REG97W', 'RS97RURL', 'RS97URBN', 'RS97UNKN',\n",
              "       'JOBS', 'HOURS', 'TENURE', 'CATGOV', 'CATPRI', 'CATNPO', 'CATMIS',\n",
              "       'CATSE', 'COLLBARG', 'URBAN', 'REGNE', 'REGNC', 'REGW', 'REGS',\n",
              "       'MSA11NO', 'MSA11NCC', 'MSA11CC', 'MSA11NK', 'MSA11NIC'],\n",
              "      dtype='object')"
            ]
          },
          "metadata": {},
          "execution_count": 12
        }
      ]
    },
    {
      "cell_type": "code",
      "source": [
        "df_data.info()"
      ],
      "metadata": {
        "colab": {
          "base_uri": "https://localhost:8080/"
        },
        "id": "tjS9I61SOtEj",
        "outputId": "31a80518-5bf3-4210-f752-405700371336"
      },
      "execution_count": null,
      "outputs": [
        {
          "output_type": "stream",
          "name": "stdout",
          "text": [
            "<class 'pandas.core.frame.DataFrame'>\n",
            "RangeIndex: 2000 entries, 0 to 1999\n",
            "Data columns (total 96 columns):\n",
            " #   Column    Non-Null Count  Dtype  \n",
            "---  ------    --------------  -----  \n",
            " 0   ID        2000 non-null   int64  \n",
            " 1   EARNINGS  2000 non-null   float64\n",
            " 2   S         2000 non-null   int64  \n",
            " 3   EXP       2000 non-null   float64\n",
            " 4   FEMALE    2000 non-null   int64  \n",
            " 5   MALE      2000 non-null   int64  \n",
            " 6   BYEAR     2000 non-null   int64  \n",
            " 7   AGE       2000 non-null   int64  \n",
            " 8   AGEMBTH   1956 non-null   float64\n",
            " 9   HHINC97   1630 non-null   float64\n",
            " 10  POVRAT97  1627 non-null   float64\n",
            " 11  HHBMBF    2000 non-null   int64  \n",
            " 12  HHBMOF    2000 non-null   int64  \n",
            " 13  HHOMBF    2000 non-null   int64  \n",
            " 14  HHBMONLY  2000 non-null   int64  \n",
            " 15  HHBFONLY  2000 non-null   int64  \n",
            " 16  HHOTHER   2000 non-null   int64  \n",
            " 17  MSA97NO   2000 non-null   int64  \n",
            " 18  MSA97NCC  2000 non-null   int64  \n",
            " 19  MSA97CC   2000 non-null   int64  \n",
            " 20  MSA97NK   2000 non-null   int64  \n",
            " 21  ETHBLACK  2000 non-null   int64  \n",
            " 22  ETHHISP   2000 non-null   int64  \n",
            " 23  ETHWHITE  2000 non-null   int64  \n",
            " 24  EDUCPROF  2000 non-null   int64  \n",
            " 25  EDUCPHD   2000 non-null   int64  \n",
            " 26  EDUCMAST  2000 non-null   int64  \n",
            " 27  EDUCBA    2000 non-null   int64  \n",
            " 28  EDUCAA    2000 non-null   int64  \n",
            " 29  EDUCHSD   2000 non-null   int64  \n",
            " 30  EDUCGED   2000 non-null   int64  \n",
            " 31  EDUCDO    2000 non-null   int64  \n",
            " 32  PRMONM    1121 non-null   float64\n",
            " 33  PRMONF    927 non-null    float64\n",
            " 34  PRMSTYUN  1467 non-null   float64\n",
            " 35  PRMSTYPE  1467 non-null   float64\n",
            " 36  PRMSTYAN  1467 non-null   float64\n",
            " 37  PRMSTYAE  1467 non-null   float64\n",
            " 38  PRFSTYUN  1210 non-null   float64\n",
            " 39  PRFSTYPE  1210 non-null   float64\n",
            " 40  PRFSTYAN  1210 non-null   float64\n",
            " 41  PRFSTYAE  1210 non-null   float64\n",
            " 42  SINGLE    2000 non-null   int64  \n",
            " 43  MARRIED   2000 non-null   int64  \n",
            " 44  COHABIT   2000 non-null   int64  \n",
            " 45  OTHSING   2000 non-null   int64  \n",
            " 46  FAITHN    2000 non-null   int64  \n",
            " 47  FAITHP    2000 non-null   int64  \n",
            " 48  FAITHC    2000 non-null   int64  \n",
            " 49  FAITHJ    2000 non-null   int64  \n",
            " 50  FAITHO    2000 non-null   int64  \n",
            " 51  FAITHM    2000 non-null   int64  \n",
            " 52  ASVABAR   2000 non-null   float64\n",
            " 53  ASVABWK   2000 non-null   float64\n",
            " 54  ASVABPC   2000 non-null   float64\n",
            " 55  ASVABMK   2000 non-null   float64\n",
            " 56  ASVABNO   2000 non-null   float64\n",
            " 57  ASVABCS   2000 non-null   float64\n",
            " 58  ASVABC    2000 non-null   float64\n",
            " 59  ASVABC4   2000 non-null   float64\n",
            " 60  VERBAL    2000 non-null   float64\n",
            " 61  ASVABMV   2000 non-null   int64  \n",
            " 62  HEIGHT    2000 non-null   int64  \n",
            " 63  WEIGHT04  2000 non-null   int64  \n",
            " 64  WEIGHT11  2000 non-null   int64  \n",
            " 65  SF        2000 non-null   int64  \n",
            " 66  SM        2000 non-null   int64  \n",
            " 67  SFR       1601 non-null   float64\n",
            " 68  SMR       1918 non-null   float64\n",
            " 69  SIBLINGS  2000 non-null   int64  \n",
            " 70  REG97NE   2000 non-null   int64  \n",
            " 71  REG97NC   2000 non-null   int64  \n",
            " 72  REG97S    2000 non-null   int64  \n",
            " 73  REG97W    2000 non-null   int64  \n",
            " 74  RS97RURL  2000 non-null   int64  \n",
            " 75  RS97URBN  2000 non-null   int64  \n",
            " 76  RS97UNKN  2000 non-null   int64  \n",
            " 77  JOBS      1953 non-null   float64\n",
            " 78  HOURS     2000 non-null   int64  \n",
            " 79  TENURE    2000 non-null   float64\n",
            " 80  CATGOV    2000 non-null   int64  \n",
            " 81  CATPRI    2000 non-null   int64  \n",
            " 82  CATNPO    2000 non-null   int64  \n",
            " 83  CATMIS    2000 non-null   int64  \n",
            " 84  CATSE     2000 non-null   int64  \n",
            " 85  COLLBARG  2000 non-null   int64  \n",
            " 86  URBAN     2000 non-null   int64  \n",
            " 87  REGNE     2000 non-null   int64  \n",
            " 88  REGNC     2000 non-null   int64  \n",
            " 89  REGW      2000 non-null   int64  \n",
            " 90  REGS      2000 non-null   int64  \n",
            " 91  MSA11NO   2000 non-null   int64  \n",
            " 92  MSA11NCC  2000 non-null   int64  \n",
            " 93  MSA11CC   2000 non-null   int64  \n",
            " 94  MSA11NK   2000 non-null   int64  \n",
            " 95  MSA11NIC  2000 non-null   int64  \n",
            "dtypes: float64(28), int64(68)\n",
            "memory usage: 1.5 MB\n"
          ]
        }
      ]
    },
    {
      "cell_type": "code",
      "source": [
        "df_data.duplicated().values.any()"
      ],
      "metadata": {
        "colab": {
          "base_uri": "https://localhost:8080/"
        },
        "id": "6fJLPIH1O1MU",
        "outputId": "720f75b7-8814-401d-8dd4-0f60cf88c415"
      },
      "execution_count": null,
      "outputs": [
        {
          "output_type": "execute_result",
          "data": {
            "text/plain": [
              "True"
            ]
          },
          "metadata": {},
          "execution_count": 13
        }
      ]
    },
    {
      "cell_type": "code",
      "source": [
        "df_data.isna().values.any()"
      ],
      "metadata": {
        "colab": {
          "base_uri": "https://localhost:8080/"
        },
        "id": "XAA_3CSxO4og",
        "outputId": "4d64fab8-e2ef-4355-c6ad-a6d29aeb012f"
      },
      "execution_count": null,
      "outputs": [
        {
          "output_type": "execute_result",
          "data": {
            "text/plain": [
              "True"
            ]
          },
          "metadata": {},
          "execution_count": 14
        }
      ]
    },
    {
      "cell_type": "markdown",
      "metadata": {
        "id": "4itxqgP6nQj3"
      },
      "source": [
        "## Data Cleaning - Check for Missing Values and Duplicates\n",
        "\n",
        "Find and remove any duplicate rows."
      ]
    },
    {
      "cell_type": "code",
      "source": [
        "df_data[df_data.duplicated()]"
      ],
      "metadata": {
        "colab": {
          "base_uri": "https://localhost:8080/",
          "height": 488
        },
        "id": "S1W-e0x6PasV",
        "outputId": "9682ce12-ee77-4444-8b0d-fb835d6a7bb2"
      },
      "execution_count": null,
      "outputs": [
        {
          "output_type": "execute_result",
          "data": {
            "text/plain": [
              "        ID  EARNINGS   S   EXP  FEMALE  MALE  BYEAR  AGE  AGEMBTH   HHINC97  \\\n",
              "1000  4693     14.50  12  7.25       0     1   1981   30    20.00 40,700.00   \n",
              "1004  4827     38.48  16  8.50       0     1   1981   30    34.00 27,700.00   \n",
              "1006  4176      4.29  16  2.04       0     1   1980   31    23.00  2,500.00   \n",
              "1012  3256     10.00  12  8.02       0     1   1984   27    21.00 43,000.00   \n",
              "1015  4600     52.00  17  9.08       0     1   1980   31    28.00 48,900.00   \n",
              "...    ...       ...  ..   ...     ...   ...    ...  ...      ...       ...   \n",
              "1993  2740     14.00  12 12.44       1     0   1980   31    27.00 81,800.00   \n",
              "1996  1119     14.83  18  1.92       1     0   1983   28    28.00 50,000.00   \n",
              "1997  3561     35.88  18  2.67       1     0   1984   27    29.00 77,610.00   \n",
              "1998  5980     25.48  16  4.71       1     0   1982   29    23.00 69,300.00   \n",
              "1999  6221     13.33  14  6.48       1     0   1984   27    30.00 40,020.00   \n",
              "\n",
              "      ...  URBAN  REGNE  REGNC  REGW  REGS  MSA11NO  MSA11NCC  MSA11CC  \\\n",
              "1000  ...      1      0      0     0     1        0         1        0   \n",
              "1004  ...      0      1      0     0     0        0         1        0   \n",
              "1006  ...      1      0      0     1     0        0         1        0   \n",
              "1012  ...      0      0      1     0     0        0         1        0   \n",
              "1015  ...      1      0      0     0     1        0         0        1   \n",
              "...   ...    ...    ...    ...   ...   ...      ...       ...      ...   \n",
              "1993  ...      1      0      1     0     0        0         1        0   \n",
              "1996  ...      1      1      0     0     0        0         1        0   \n",
              "1997  ...      1      0      0     1     0        0         0        1   \n",
              "1998  ...      0      0      0     1     0        0         1        0   \n",
              "1999  ...      1      0      0     1     0        0         1        0   \n",
              "\n",
              "      MSA11NK  MSA11NIC  \n",
              "1000        0         0  \n",
              "1004        0         0  \n",
              "1006        0         0  \n",
              "1012        0         0  \n",
              "1015        0         0  \n",
              "...       ...       ...  \n",
              "1993        0         0  \n",
              "1996        0         0  \n",
              "1997        0         0  \n",
              "1998        0         0  \n",
              "1999        0         0  \n",
              "\n",
              "[513 rows x 96 columns]"
            ],
            "text/html": [
              "\n",
              "  <div id=\"df-6512022f-bc2c-4c1d-bc94-11293862ce83\">\n",
              "    <div class=\"colab-df-container\">\n",
              "      <div>\n",
              "<style scoped>\n",
              "    .dataframe tbody tr th:only-of-type {\n",
              "        vertical-align: middle;\n",
              "    }\n",
              "\n",
              "    .dataframe tbody tr th {\n",
              "        vertical-align: top;\n",
              "    }\n",
              "\n",
              "    .dataframe thead th {\n",
              "        text-align: right;\n",
              "    }\n",
              "</style>\n",
              "<table border=\"1\" class=\"dataframe\">\n",
              "  <thead>\n",
              "    <tr style=\"text-align: right;\">\n",
              "      <th></th>\n",
              "      <th>ID</th>\n",
              "      <th>EARNINGS</th>\n",
              "      <th>S</th>\n",
              "      <th>EXP</th>\n",
              "      <th>FEMALE</th>\n",
              "      <th>MALE</th>\n",
              "      <th>BYEAR</th>\n",
              "      <th>AGE</th>\n",
              "      <th>AGEMBTH</th>\n",
              "      <th>HHINC97</th>\n",
              "      <th>...</th>\n",
              "      <th>URBAN</th>\n",
              "      <th>REGNE</th>\n",
              "      <th>REGNC</th>\n",
              "      <th>REGW</th>\n",
              "      <th>REGS</th>\n",
              "      <th>MSA11NO</th>\n",
              "      <th>MSA11NCC</th>\n",
              "      <th>MSA11CC</th>\n",
              "      <th>MSA11NK</th>\n",
              "      <th>MSA11NIC</th>\n",
              "    </tr>\n",
              "  </thead>\n",
              "  <tbody>\n",
              "    <tr>\n",
              "      <th>1000</th>\n",
              "      <td>4693</td>\n",
              "      <td>14.50</td>\n",
              "      <td>12</td>\n",
              "      <td>7.25</td>\n",
              "      <td>0</td>\n",
              "      <td>1</td>\n",
              "      <td>1981</td>\n",
              "      <td>30</td>\n",
              "      <td>20.00</td>\n",
              "      <td>40,700.00</td>\n",
              "      <td>...</td>\n",
              "      <td>1</td>\n",
              "      <td>0</td>\n",
              "      <td>0</td>\n",
              "      <td>0</td>\n",
              "      <td>1</td>\n",
              "      <td>0</td>\n",
              "      <td>1</td>\n",
              "      <td>0</td>\n",
              "      <td>0</td>\n",
              "      <td>0</td>\n",
              "    </tr>\n",
              "    <tr>\n",
              "      <th>1004</th>\n",
              "      <td>4827</td>\n",
              "      <td>38.48</td>\n",
              "      <td>16</td>\n",
              "      <td>8.50</td>\n",
              "      <td>0</td>\n",
              "      <td>1</td>\n",
              "      <td>1981</td>\n",
              "      <td>30</td>\n",
              "      <td>34.00</td>\n",
              "      <td>27,700.00</td>\n",
              "      <td>...</td>\n",
              "      <td>0</td>\n",
              "      <td>1</td>\n",
              "      <td>0</td>\n",
              "      <td>0</td>\n",
              "      <td>0</td>\n",
              "      <td>0</td>\n",
              "      <td>1</td>\n",
              "      <td>0</td>\n",
              "      <td>0</td>\n",
              "      <td>0</td>\n",
              "    </tr>\n",
              "    <tr>\n",
              "      <th>1006</th>\n",
              "      <td>4176</td>\n",
              "      <td>4.29</td>\n",
              "      <td>16</td>\n",
              "      <td>2.04</td>\n",
              "      <td>0</td>\n",
              "      <td>1</td>\n",
              "      <td>1980</td>\n",
              "      <td>31</td>\n",
              "      <td>23.00</td>\n",
              "      <td>2,500.00</td>\n",
              "      <td>...</td>\n",
              "      <td>1</td>\n",
              "      <td>0</td>\n",
              "      <td>0</td>\n",
              "      <td>1</td>\n",
              "      <td>0</td>\n",
              "      <td>0</td>\n",
              "      <td>1</td>\n",
              "      <td>0</td>\n",
              "      <td>0</td>\n",
              "      <td>0</td>\n",
              "    </tr>\n",
              "    <tr>\n",
              "      <th>1012</th>\n",
              "      <td>3256</td>\n",
              "      <td>10.00</td>\n",
              "      <td>12</td>\n",
              "      <td>8.02</td>\n",
              "      <td>0</td>\n",
              "      <td>1</td>\n",
              "      <td>1984</td>\n",
              "      <td>27</td>\n",
              "      <td>21.00</td>\n",
              "      <td>43,000.00</td>\n",
              "      <td>...</td>\n",
              "      <td>0</td>\n",
              "      <td>0</td>\n",
              "      <td>1</td>\n",
              "      <td>0</td>\n",
              "      <td>0</td>\n",
              "      <td>0</td>\n",
              "      <td>1</td>\n",
              "      <td>0</td>\n",
              "      <td>0</td>\n",
              "      <td>0</td>\n",
              "    </tr>\n",
              "    <tr>\n",
              "      <th>1015</th>\n",
              "      <td>4600</td>\n",
              "      <td>52.00</td>\n",
              "      <td>17</td>\n",
              "      <td>9.08</td>\n",
              "      <td>0</td>\n",
              "      <td>1</td>\n",
              "      <td>1980</td>\n",
              "      <td>31</td>\n",
              "      <td>28.00</td>\n",
              "      <td>48,900.00</td>\n",
              "      <td>...</td>\n",
              "      <td>1</td>\n",
              "      <td>0</td>\n",
              "      <td>0</td>\n",
              "      <td>0</td>\n",
              "      <td>1</td>\n",
              "      <td>0</td>\n",
              "      <td>0</td>\n",
              "      <td>1</td>\n",
              "      <td>0</td>\n",
              "      <td>0</td>\n",
              "    </tr>\n",
              "    <tr>\n",
              "      <th>...</th>\n",
              "      <td>...</td>\n",
              "      <td>...</td>\n",
              "      <td>...</td>\n",
              "      <td>...</td>\n",
              "      <td>...</td>\n",
              "      <td>...</td>\n",
              "      <td>...</td>\n",
              "      <td>...</td>\n",
              "      <td>...</td>\n",
              "      <td>...</td>\n",
              "      <td>...</td>\n",
              "      <td>...</td>\n",
              "      <td>...</td>\n",
              "      <td>...</td>\n",
              "      <td>...</td>\n",
              "      <td>...</td>\n",
              "      <td>...</td>\n",
              "      <td>...</td>\n",
              "      <td>...</td>\n",
              "      <td>...</td>\n",
              "      <td>...</td>\n",
              "    </tr>\n",
              "    <tr>\n",
              "      <th>1993</th>\n",
              "      <td>2740</td>\n",
              "      <td>14.00</td>\n",
              "      <td>12</td>\n",
              "      <td>12.44</td>\n",
              "      <td>1</td>\n",
              "      <td>0</td>\n",
              "      <td>1980</td>\n",
              "      <td>31</td>\n",
              "      <td>27.00</td>\n",
              "      <td>81,800.00</td>\n",
              "      <td>...</td>\n",
              "      <td>1</td>\n",
              "      <td>0</td>\n",
              "      <td>1</td>\n",
              "      <td>0</td>\n",
              "      <td>0</td>\n",
              "      <td>0</td>\n",
              "      <td>1</td>\n",
              "      <td>0</td>\n",
              "      <td>0</td>\n",
              "      <td>0</td>\n",
              "    </tr>\n",
              "    <tr>\n",
              "      <th>1996</th>\n",
              "      <td>1119</td>\n",
              "      <td>14.83</td>\n",
              "      <td>18</td>\n",
              "      <td>1.92</td>\n",
              "      <td>1</td>\n",
              "      <td>0</td>\n",
              "      <td>1983</td>\n",
              "      <td>28</td>\n",
              "      <td>28.00</td>\n",
              "      <td>50,000.00</td>\n",
              "      <td>...</td>\n",
              "      <td>1</td>\n",
              "      <td>1</td>\n",
              "      <td>0</td>\n",
              "      <td>0</td>\n",
              "      <td>0</td>\n",
              "      <td>0</td>\n",
              "      <td>1</td>\n",
              "      <td>0</td>\n",
              "      <td>0</td>\n",
              "      <td>0</td>\n",
              "    </tr>\n",
              "    <tr>\n",
              "      <th>1997</th>\n",
              "      <td>3561</td>\n",
              "      <td>35.88</td>\n",
              "      <td>18</td>\n",
              "      <td>2.67</td>\n",
              "      <td>1</td>\n",
              "      <td>0</td>\n",
              "      <td>1984</td>\n",
              "      <td>27</td>\n",
              "      <td>29.00</td>\n",
              "      <td>77,610.00</td>\n",
              "      <td>...</td>\n",
              "      <td>1</td>\n",
              "      <td>0</td>\n",
              "      <td>0</td>\n",
              "      <td>1</td>\n",
              "      <td>0</td>\n",
              "      <td>0</td>\n",
              "      <td>0</td>\n",
              "      <td>1</td>\n",
              "      <td>0</td>\n",
              "      <td>0</td>\n",
              "    </tr>\n",
              "    <tr>\n",
              "      <th>1998</th>\n",
              "      <td>5980</td>\n",
              "      <td>25.48</td>\n",
              "      <td>16</td>\n",
              "      <td>4.71</td>\n",
              "      <td>1</td>\n",
              "      <td>0</td>\n",
              "      <td>1982</td>\n",
              "      <td>29</td>\n",
              "      <td>23.00</td>\n",
              "      <td>69,300.00</td>\n",
              "      <td>...</td>\n",
              "      <td>0</td>\n",
              "      <td>0</td>\n",
              "      <td>0</td>\n",
              "      <td>1</td>\n",
              "      <td>0</td>\n",
              "      <td>0</td>\n",
              "      <td>1</td>\n",
              "      <td>0</td>\n",
              "      <td>0</td>\n",
              "      <td>0</td>\n",
              "    </tr>\n",
              "    <tr>\n",
              "      <th>1999</th>\n",
              "      <td>6221</td>\n",
              "      <td>13.33</td>\n",
              "      <td>14</td>\n",
              "      <td>6.48</td>\n",
              "      <td>1</td>\n",
              "      <td>0</td>\n",
              "      <td>1984</td>\n",
              "      <td>27</td>\n",
              "      <td>30.00</td>\n",
              "      <td>40,020.00</td>\n",
              "      <td>...</td>\n",
              "      <td>1</td>\n",
              "      <td>0</td>\n",
              "      <td>0</td>\n",
              "      <td>1</td>\n",
              "      <td>0</td>\n",
              "      <td>0</td>\n",
              "      <td>1</td>\n",
              "      <td>0</td>\n",
              "      <td>0</td>\n",
              "      <td>0</td>\n",
              "    </tr>\n",
              "  </tbody>\n",
              "</table>\n",
              "<p>513 rows × 96 columns</p>\n",
              "</div>\n",
              "      <button class=\"colab-df-convert\" onclick=\"convertToInteractive('df-6512022f-bc2c-4c1d-bc94-11293862ce83')\"\n",
              "              title=\"Convert this dataframe to an interactive table.\"\n",
              "              style=\"display:none;\">\n",
              "        \n",
              "  <svg xmlns=\"http://www.w3.org/2000/svg\" height=\"24px\"viewBox=\"0 0 24 24\"\n",
              "       width=\"24px\">\n",
              "    <path d=\"M0 0h24v24H0V0z\" fill=\"none\"/>\n",
              "    <path d=\"M18.56 5.44l.94 2.06.94-2.06 2.06-.94-2.06-.94-.94-2.06-.94 2.06-2.06.94zm-11 1L8.5 8.5l.94-2.06 2.06-.94-2.06-.94L8.5 2.5l-.94 2.06-2.06.94zm10 10l.94 2.06.94-2.06 2.06-.94-2.06-.94-.94-2.06-.94 2.06-2.06.94z\"/><path d=\"M17.41 7.96l-1.37-1.37c-.4-.4-.92-.59-1.43-.59-.52 0-1.04.2-1.43.59L10.3 9.45l-7.72 7.72c-.78.78-.78 2.05 0 2.83L4 21.41c.39.39.9.59 1.41.59.51 0 1.02-.2 1.41-.59l7.78-7.78 2.81-2.81c.8-.78.8-2.07 0-2.86zM5.41 20L4 18.59l7.72-7.72 1.47 1.35L5.41 20z\"/>\n",
              "  </svg>\n",
              "      </button>\n",
              "      \n",
              "  <style>\n",
              "    .colab-df-container {\n",
              "      display:flex;\n",
              "      flex-wrap:wrap;\n",
              "      gap: 12px;\n",
              "    }\n",
              "\n",
              "    .colab-df-convert {\n",
              "      background-color: #E8F0FE;\n",
              "      border: none;\n",
              "      border-radius: 50%;\n",
              "      cursor: pointer;\n",
              "      display: none;\n",
              "      fill: #1967D2;\n",
              "      height: 32px;\n",
              "      padding: 0 0 0 0;\n",
              "      width: 32px;\n",
              "    }\n",
              "\n",
              "    .colab-df-convert:hover {\n",
              "      background-color: #E2EBFA;\n",
              "      box-shadow: 0px 1px 2px rgba(60, 64, 67, 0.3), 0px 1px 3px 1px rgba(60, 64, 67, 0.15);\n",
              "      fill: #174EA6;\n",
              "    }\n",
              "\n",
              "    [theme=dark] .colab-df-convert {\n",
              "      background-color: #3B4455;\n",
              "      fill: #D2E3FC;\n",
              "    }\n",
              "\n",
              "    [theme=dark] .colab-df-convert:hover {\n",
              "      background-color: #434B5C;\n",
              "      box-shadow: 0px 1px 3px 1px rgba(0, 0, 0, 0.15);\n",
              "      filter: drop-shadow(0px 1px 2px rgba(0, 0, 0, 0.3));\n",
              "      fill: #FFFFFF;\n",
              "    }\n",
              "  </style>\n",
              "\n",
              "      <script>\n",
              "        const buttonEl =\n",
              "          document.querySelector('#df-6512022f-bc2c-4c1d-bc94-11293862ce83 button.colab-df-convert');\n",
              "        buttonEl.style.display =\n",
              "          google.colab.kernel.accessAllowed ? 'block' : 'none';\n",
              "\n",
              "        async function convertToInteractive(key) {\n",
              "          const element = document.querySelector('#df-6512022f-bc2c-4c1d-bc94-11293862ce83');\n",
              "          const dataTable =\n",
              "            await google.colab.kernel.invokeFunction('convertToInteractive',\n",
              "                                                     [key], {});\n",
              "          if (!dataTable) return;\n",
              "\n",
              "          const docLinkHtml = 'Like what you see? Visit the ' +\n",
              "            '<a target=\"_blank\" href=https://colab.research.google.com/notebooks/data_table.ipynb>data table notebook</a>'\n",
              "            + ' to learn more about interactive tables.';\n",
              "          element.innerHTML = '';\n",
              "          dataTable['output_type'] = 'display_data';\n",
              "          await google.colab.output.renderOutput(dataTable, element);\n",
              "          const docLink = document.createElement('div');\n",
              "          docLink.innerHTML = docLinkHtml;\n",
              "          element.appendChild(docLink);\n",
              "        }\n",
              "      </script>\n",
              "    </div>\n",
              "  </div>\n",
              "  "
            ]
          },
          "metadata": {},
          "execution_count": 16
        }
      ]
    },
    {
      "cell_type": "code",
      "source": [
        "df_data[df_data['ID']==4693]"
      ],
      "metadata": {
        "colab": {
          "base_uri": "https://localhost:8080/",
          "height": 205
        },
        "id": "5lBuoUjL90gu",
        "outputId": "9e7f4960-93c4-4ced-e18e-f342f32f4263"
      },
      "execution_count": null,
      "outputs": [
        {
          "output_type": "execute_result",
          "data": {
            "text/plain": [
              "        ID  EARNINGS   S  EXP  FEMALE  MALE  BYEAR  AGE  AGEMBTH   HHINC97  \\\n",
              "91    4693     14.50  12 7.25       0     1   1981   30    20.00 40,700.00   \n",
              "1000  4693     14.50  12 7.25       0     1   1981   30    20.00 40,700.00   \n",
              "\n",
              "      ...  URBAN  REGNE  REGNC  REGW  REGS  MSA11NO  MSA11NCC  MSA11CC  \\\n",
              "91    ...      1      0      0     0     1        0         1        0   \n",
              "1000  ...      1      0      0     0     1        0         1        0   \n",
              "\n",
              "      MSA11NK  MSA11NIC  \n",
              "91          0         0  \n",
              "1000        0         0  \n",
              "\n",
              "[2 rows x 96 columns]"
            ],
            "text/html": [
              "\n",
              "  <div id=\"df-7ca61787-9374-4b1e-a1fc-a1cf3ea7b4d0\">\n",
              "    <div class=\"colab-df-container\">\n",
              "      <div>\n",
              "<style scoped>\n",
              "    .dataframe tbody tr th:only-of-type {\n",
              "        vertical-align: middle;\n",
              "    }\n",
              "\n",
              "    .dataframe tbody tr th {\n",
              "        vertical-align: top;\n",
              "    }\n",
              "\n",
              "    .dataframe thead th {\n",
              "        text-align: right;\n",
              "    }\n",
              "</style>\n",
              "<table border=\"1\" class=\"dataframe\">\n",
              "  <thead>\n",
              "    <tr style=\"text-align: right;\">\n",
              "      <th></th>\n",
              "      <th>ID</th>\n",
              "      <th>EARNINGS</th>\n",
              "      <th>S</th>\n",
              "      <th>EXP</th>\n",
              "      <th>FEMALE</th>\n",
              "      <th>MALE</th>\n",
              "      <th>BYEAR</th>\n",
              "      <th>AGE</th>\n",
              "      <th>AGEMBTH</th>\n",
              "      <th>HHINC97</th>\n",
              "      <th>...</th>\n",
              "      <th>URBAN</th>\n",
              "      <th>REGNE</th>\n",
              "      <th>REGNC</th>\n",
              "      <th>REGW</th>\n",
              "      <th>REGS</th>\n",
              "      <th>MSA11NO</th>\n",
              "      <th>MSA11NCC</th>\n",
              "      <th>MSA11CC</th>\n",
              "      <th>MSA11NK</th>\n",
              "      <th>MSA11NIC</th>\n",
              "    </tr>\n",
              "  </thead>\n",
              "  <tbody>\n",
              "    <tr>\n",
              "      <th>91</th>\n",
              "      <td>4693</td>\n",
              "      <td>14.50</td>\n",
              "      <td>12</td>\n",
              "      <td>7.25</td>\n",
              "      <td>0</td>\n",
              "      <td>1</td>\n",
              "      <td>1981</td>\n",
              "      <td>30</td>\n",
              "      <td>20.00</td>\n",
              "      <td>40,700.00</td>\n",
              "      <td>...</td>\n",
              "      <td>1</td>\n",
              "      <td>0</td>\n",
              "      <td>0</td>\n",
              "      <td>0</td>\n",
              "      <td>1</td>\n",
              "      <td>0</td>\n",
              "      <td>1</td>\n",
              "      <td>0</td>\n",
              "      <td>0</td>\n",
              "      <td>0</td>\n",
              "    </tr>\n",
              "    <tr>\n",
              "      <th>1000</th>\n",
              "      <td>4693</td>\n",
              "      <td>14.50</td>\n",
              "      <td>12</td>\n",
              "      <td>7.25</td>\n",
              "      <td>0</td>\n",
              "      <td>1</td>\n",
              "      <td>1981</td>\n",
              "      <td>30</td>\n",
              "      <td>20.00</td>\n",
              "      <td>40,700.00</td>\n",
              "      <td>...</td>\n",
              "      <td>1</td>\n",
              "      <td>0</td>\n",
              "      <td>0</td>\n",
              "      <td>0</td>\n",
              "      <td>1</td>\n",
              "      <td>0</td>\n",
              "      <td>1</td>\n",
              "      <td>0</td>\n",
              "      <td>0</td>\n",
              "      <td>0</td>\n",
              "    </tr>\n",
              "  </tbody>\n",
              "</table>\n",
              "<p>2 rows × 96 columns</p>\n",
              "</div>\n",
              "      <button class=\"colab-df-convert\" onclick=\"convertToInteractive('df-7ca61787-9374-4b1e-a1fc-a1cf3ea7b4d0')\"\n",
              "              title=\"Convert this dataframe to an interactive table.\"\n",
              "              style=\"display:none;\">\n",
              "        \n",
              "  <svg xmlns=\"http://www.w3.org/2000/svg\" height=\"24px\"viewBox=\"0 0 24 24\"\n",
              "       width=\"24px\">\n",
              "    <path d=\"M0 0h24v24H0V0z\" fill=\"none\"/>\n",
              "    <path d=\"M18.56 5.44l.94 2.06.94-2.06 2.06-.94-2.06-.94-.94-2.06-.94 2.06-2.06.94zm-11 1L8.5 8.5l.94-2.06 2.06-.94-2.06-.94L8.5 2.5l-.94 2.06-2.06.94zm10 10l.94 2.06.94-2.06 2.06-.94-2.06-.94-.94-2.06-.94 2.06-2.06.94z\"/><path d=\"M17.41 7.96l-1.37-1.37c-.4-.4-.92-.59-1.43-.59-.52 0-1.04.2-1.43.59L10.3 9.45l-7.72 7.72c-.78.78-.78 2.05 0 2.83L4 21.41c.39.39.9.59 1.41.59.51 0 1.02-.2 1.41-.59l7.78-7.78 2.81-2.81c.8-.78.8-2.07 0-2.86zM5.41 20L4 18.59l7.72-7.72 1.47 1.35L5.41 20z\"/>\n",
              "  </svg>\n",
              "      </button>\n",
              "      \n",
              "  <style>\n",
              "    .colab-df-container {\n",
              "      display:flex;\n",
              "      flex-wrap:wrap;\n",
              "      gap: 12px;\n",
              "    }\n",
              "\n",
              "    .colab-df-convert {\n",
              "      background-color: #E8F0FE;\n",
              "      border: none;\n",
              "      border-radius: 50%;\n",
              "      cursor: pointer;\n",
              "      display: none;\n",
              "      fill: #1967D2;\n",
              "      height: 32px;\n",
              "      padding: 0 0 0 0;\n",
              "      width: 32px;\n",
              "    }\n",
              "\n",
              "    .colab-df-convert:hover {\n",
              "      background-color: #E2EBFA;\n",
              "      box-shadow: 0px 1px 2px rgba(60, 64, 67, 0.3), 0px 1px 3px 1px rgba(60, 64, 67, 0.15);\n",
              "      fill: #174EA6;\n",
              "    }\n",
              "\n",
              "    [theme=dark] .colab-df-convert {\n",
              "      background-color: #3B4455;\n",
              "      fill: #D2E3FC;\n",
              "    }\n",
              "\n",
              "    [theme=dark] .colab-df-convert:hover {\n",
              "      background-color: #434B5C;\n",
              "      box-shadow: 0px 1px 3px 1px rgba(0, 0, 0, 0.15);\n",
              "      filter: drop-shadow(0px 1px 2px rgba(0, 0, 0, 0.3));\n",
              "      fill: #FFFFFF;\n",
              "    }\n",
              "  </style>\n",
              "\n",
              "      <script>\n",
              "        const buttonEl =\n",
              "          document.querySelector('#df-7ca61787-9374-4b1e-a1fc-a1cf3ea7b4d0 button.colab-df-convert');\n",
              "        buttonEl.style.display =\n",
              "          google.colab.kernel.accessAllowed ? 'block' : 'none';\n",
              "\n",
              "        async function convertToInteractive(key) {\n",
              "          const element = document.querySelector('#df-7ca61787-9374-4b1e-a1fc-a1cf3ea7b4d0');\n",
              "          const dataTable =\n",
              "            await google.colab.kernel.invokeFunction('convertToInteractive',\n",
              "                                                     [key], {});\n",
              "          if (!dataTable) return;\n",
              "\n",
              "          const docLinkHtml = 'Like what you see? Visit the ' +\n",
              "            '<a target=\"_blank\" href=https://colab.research.google.com/notebooks/data_table.ipynb>data table notebook</a>'\n",
              "            + ' to learn more about interactive tables.';\n",
              "          element.innerHTML = '';\n",
              "          dataTable['output_type'] = 'display_data';\n",
              "          await google.colab.output.renderOutput(dataTable, element);\n",
              "          const docLink = document.createElement('div');\n",
              "          docLink.innerHTML = docLinkHtml;\n",
              "          element.appendChild(docLink);\n",
              "        }\n",
              "      </script>\n",
              "    </div>\n",
              "  </div>\n",
              "  "
            ]
          },
          "metadata": {},
          "execution_count": 18
        }
      ]
    },
    {
      "cell_type": "code",
      "metadata": {
        "id": "J3DHEFXWnS2N",
        "colab": {
          "base_uri": "https://localhost:8080/"
        },
        "outputId": "ae6c5098-6408-4282-e4c1-459639111d82"
      },
      "source": [
        "clean_df = df_data.drop_duplicates(keep='first')\n",
        "clean_df.duplicated().values.any()"
      ],
      "execution_count": null,
      "outputs": [
        {
          "output_type": "execute_result",
          "data": {
            "text/plain": [
              "False"
            ]
          },
          "metadata": {},
          "execution_count": 19
        }
      ]
    },
    {
      "cell_type": "code",
      "source": [
        "clean_df.info()"
      ],
      "metadata": {
        "colab": {
          "base_uri": "https://localhost:8080/"
        },
        "id": "MsIh57RwPpAL",
        "outputId": "6a3b3c60-e9cd-4b27-84e6-7255f2f75401"
      },
      "execution_count": null,
      "outputs": [
        {
          "output_type": "stream",
          "name": "stdout",
          "text": [
            "<class 'pandas.core.frame.DataFrame'>\n",
            "Int64Index: 1487 entries, 0 to 1995\n",
            "Data columns (total 96 columns):\n",
            " #   Column    Non-Null Count  Dtype  \n",
            "---  ------    --------------  -----  \n",
            " 0   ID        1487 non-null   int64  \n",
            " 1   EARNINGS  1487 non-null   float64\n",
            " 2   S         1487 non-null   int64  \n",
            " 3   EXP       1487 non-null   float64\n",
            " 4   FEMALE    1487 non-null   int64  \n",
            " 5   MALE      1487 non-null   int64  \n",
            " 6   BYEAR     1487 non-null   int64  \n",
            " 7   AGE       1487 non-null   int64  \n",
            " 8   AGEMBTH   1453 non-null   float64\n",
            " 9   HHINC97   1205 non-null   float64\n",
            " 10  POVRAT97  1203 non-null   float64\n",
            " 11  HHBMBF    1487 non-null   int64  \n",
            " 12  HHBMOF    1487 non-null   int64  \n",
            " 13  HHOMBF    1487 non-null   int64  \n",
            " 14  HHBMONLY  1487 non-null   int64  \n",
            " 15  HHBFONLY  1487 non-null   int64  \n",
            " 16  HHOTHER   1487 non-null   int64  \n",
            " 17  MSA97NO   1487 non-null   int64  \n",
            " 18  MSA97NCC  1487 non-null   int64  \n",
            " 19  MSA97CC   1487 non-null   int64  \n",
            " 20  MSA97NK   1487 non-null   int64  \n",
            " 21  ETHBLACK  1487 non-null   int64  \n",
            " 22  ETHHISP   1487 non-null   int64  \n",
            " 23  ETHWHITE  1487 non-null   int64  \n",
            " 24  EDUCPROF  1487 non-null   int64  \n",
            " 25  EDUCPHD   1487 non-null   int64  \n",
            " 26  EDUCMAST  1487 non-null   int64  \n",
            " 27  EDUCBA    1487 non-null   int64  \n",
            " 28  EDUCAA    1487 non-null   int64  \n",
            " 29  EDUCHSD   1487 non-null   int64  \n",
            " 30  EDUCGED   1487 non-null   int64  \n",
            " 31  EDUCDO    1487 non-null   int64  \n",
            " 32  PRMONM    851 non-null    float64\n",
            " 33  PRMONF    698 non-null    float64\n",
            " 34  PRMSTYUN  1100 non-null   float64\n",
            " 35  PRMSTYPE  1100 non-null   float64\n",
            " 36  PRMSTYAN  1100 non-null   float64\n",
            " 37  PRMSTYAE  1100 non-null   float64\n",
            " 38  PRFSTYUN  904 non-null    float64\n",
            " 39  PRFSTYPE  904 non-null    float64\n",
            " 40  PRFSTYAN  904 non-null    float64\n",
            " 41  PRFSTYAE  904 non-null    float64\n",
            " 42  SINGLE    1487 non-null   int64  \n",
            " 43  MARRIED   1487 non-null   int64  \n",
            " 44  COHABIT   1487 non-null   int64  \n",
            " 45  OTHSING   1487 non-null   int64  \n",
            " 46  FAITHN    1487 non-null   int64  \n",
            " 47  FAITHP    1487 non-null   int64  \n",
            " 48  FAITHC    1487 non-null   int64  \n",
            " 49  FAITHJ    1487 non-null   int64  \n",
            " 50  FAITHO    1487 non-null   int64  \n",
            " 51  FAITHM    1487 non-null   int64  \n",
            " 52  ASVABAR   1487 non-null   float64\n",
            " 53  ASVABWK   1487 non-null   float64\n",
            " 54  ASVABPC   1487 non-null   float64\n",
            " 55  ASVABMK   1487 non-null   float64\n",
            " 56  ASVABNO   1487 non-null   float64\n",
            " 57  ASVABCS   1487 non-null   float64\n",
            " 58  ASVABC    1487 non-null   float64\n",
            " 59  ASVABC4   1487 non-null   float64\n",
            " 60  VERBAL    1487 non-null   float64\n",
            " 61  ASVABMV   1487 non-null   int64  \n",
            " 62  HEIGHT    1487 non-null   int64  \n",
            " 63  WEIGHT04  1487 non-null   int64  \n",
            " 64  WEIGHT11  1487 non-null   int64  \n",
            " 65  SF        1487 non-null   int64  \n",
            " 66  SM        1487 non-null   int64  \n",
            " 67  SFR       1197 non-null   float64\n",
            " 68  SMR       1430 non-null   float64\n",
            " 69  SIBLINGS  1487 non-null   int64  \n",
            " 70  REG97NE   1487 non-null   int64  \n",
            " 71  REG97NC   1487 non-null   int64  \n",
            " 72  REG97S    1487 non-null   int64  \n",
            " 73  REG97W    1487 non-null   int64  \n",
            " 74  RS97RURL  1487 non-null   int64  \n",
            " 75  RS97URBN  1487 non-null   int64  \n",
            " 76  RS97UNKN  1487 non-null   int64  \n",
            " 77  JOBS      1449 non-null   float64\n",
            " 78  HOURS     1487 non-null   int64  \n",
            " 79  TENURE    1487 non-null   float64\n",
            " 80  CATGOV    1487 non-null   int64  \n",
            " 81  CATPRI    1487 non-null   int64  \n",
            " 82  CATNPO    1487 non-null   int64  \n",
            " 83  CATMIS    1487 non-null   int64  \n",
            " 84  CATSE     1487 non-null   int64  \n",
            " 85  COLLBARG  1487 non-null   int64  \n",
            " 86  URBAN     1487 non-null   int64  \n",
            " 87  REGNE     1487 non-null   int64  \n",
            " 88  REGNC     1487 non-null   int64  \n",
            " 89  REGW      1487 non-null   int64  \n",
            " 90  REGS      1487 non-null   int64  \n",
            " 91  MSA11NO   1487 non-null   int64  \n",
            " 92  MSA11NCC  1487 non-null   int64  \n",
            " 93  MSA11CC   1487 non-null   int64  \n",
            " 94  MSA11NK   1487 non-null   int64  \n",
            " 95  MSA11NIC  1487 non-null   int64  \n",
            "dtypes: float64(28), int64(68)\n",
            "memory usage: 1.1 MB\n"
          ]
        }
      ]
    },
    {
      "cell_type": "code",
      "source": [
        "clean_df = clean_df.dropna(axis=0)\n",
        "clean_df.isna().values.any()\n",
        "clean_df.shape"
      ],
      "metadata": {
        "colab": {
          "base_uri": "https://localhost:8080/"
        },
        "id": "vodatYjUF7Qz",
        "outputId": "55190981-5723-4ae5-ed15-2e552d59f793"
      },
      "execution_count": null,
      "outputs": [
        {
          "output_type": "execute_result",
          "data": {
            "text/plain": [
              "(492, 96)"
            ]
          },
          "metadata": {},
          "execution_count": 21
        }
      ]
    },
    {
      "cell_type": "markdown",
      "metadata": {
        "id": "gGmBBPxZnVKC"
      },
      "source": [
        "## Descriptive Statistics"
      ]
    },
    {
      "cell_type": "code",
      "metadata": {
        "id": "I5VP2BMVnVrt",
        "colab": {
          "base_uri": "https://localhost:8080/",
          "height": 394
        },
        "outputId": "5ce75e4a-f543-4312-eddf-20bfe9730a78"
      },
      "source": [
        "clean_df.describe()"
      ],
      "execution_count": null,
      "outputs": [
        {
          "output_type": "execute_result",
          "data": {
            "text/plain": [
              "            ID  EARNINGS      S    EXP  FEMALE   MALE    BYEAR    AGE  \\\n",
              "count   492.00    492.00 492.00 492.00  492.00 492.00   492.00 492.00   \n",
              "mean  3,530.57     19.13  14.89   5.92    0.49   0.51 1,982.98  28.02   \n",
              "std   1,948.08     11.54   2.69   2.51    0.50   0.50     0.82   0.82   \n",
              "min      28.00      2.13   8.00   0.00    0.00   0.00 1,982.00  27.00   \n",
              "25%   1,833.25     12.00  12.00   4.24    0.00   0.00 1,982.00  27.00   \n",
              "50%   3,470.50     16.00  16.00   5.75    0.00   1.00 1,983.00  28.00   \n",
              "75%   5,186.75     24.04  17.00   7.75    1.00   1.00 1,984.00  29.00   \n",
              "max   8,978.00    123.08  20.00  12.33    1.00   1.00 1,984.00  29.00   \n",
              "\n",
              "       AGEMBTH    HHINC97  ...  URBAN  REGNE  REGNC   REGW   REGS  MSA11NO  \\\n",
              "count   492.00     492.00  ... 492.00 492.00 492.00 492.00 492.00   492.00   \n",
              "mean     26.74  66,732.78  ...   0.75   0.13   0.31   0.35   0.21     0.05   \n",
              "std       4.71  44,951.87  ...   0.44   0.33   0.46   0.48   0.41     0.22   \n",
              "min      17.00       0.00  ...   0.00   0.00   0.00   0.00   0.00     0.00   \n",
              "25%      24.00  40,725.00  ...   0.00   0.00   0.00   0.00   0.00     0.00   \n",
              "50%      26.00  58,027.50  ...   1.00   0.00   0.00   0.00   0.00     0.00   \n",
              "75%      30.00  77,432.50  ...   1.00   0.00   1.00   1.00   0.00     0.00   \n",
              "max      41.00 246,474.00  ...   2.00   1.00   1.00   1.00   1.00     1.00   \n",
              "\n",
              "       MSA11NCC  MSA11CC  MSA11NK  MSA11NIC  \n",
              "count    492.00   492.00   492.00    492.00  \n",
              "mean       0.54     0.41     0.00      0.00  \n",
              "std        0.50     0.49     0.05      0.00  \n",
              "min        0.00     0.00     0.00      0.00  \n",
              "25%        0.00     0.00     0.00      0.00  \n",
              "50%        1.00     0.00     0.00      0.00  \n",
              "75%        1.00     1.00     0.00      0.00  \n",
              "max        1.00     1.00     1.00      0.00  \n",
              "\n",
              "[8 rows x 96 columns]"
            ],
            "text/html": [
              "\n",
              "  <div id=\"df-7294d83f-6b5e-419e-b2e1-aa6917d5402d\">\n",
              "    <div class=\"colab-df-container\">\n",
              "      <div>\n",
              "<style scoped>\n",
              "    .dataframe tbody tr th:only-of-type {\n",
              "        vertical-align: middle;\n",
              "    }\n",
              "\n",
              "    .dataframe tbody tr th {\n",
              "        vertical-align: top;\n",
              "    }\n",
              "\n",
              "    .dataframe thead th {\n",
              "        text-align: right;\n",
              "    }\n",
              "</style>\n",
              "<table border=\"1\" class=\"dataframe\">\n",
              "  <thead>\n",
              "    <tr style=\"text-align: right;\">\n",
              "      <th></th>\n",
              "      <th>ID</th>\n",
              "      <th>EARNINGS</th>\n",
              "      <th>S</th>\n",
              "      <th>EXP</th>\n",
              "      <th>FEMALE</th>\n",
              "      <th>MALE</th>\n",
              "      <th>BYEAR</th>\n",
              "      <th>AGE</th>\n",
              "      <th>AGEMBTH</th>\n",
              "      <th>HHINC97</th>\n",
              "      <th>...</th>\n",
              "      <th>URBAN</th>\n",
              "      <th>REGNE</th>\n",
              "      <th>REGNC</th>\n",
              "      <th>REGW</th>\n",
              "      <th>REGS</th>\n",
              "      <th>MSA11NO</th>\n",
              "      <th>MSA11NCC</th>\n",
              "      <th>MSA11CC</th>\n",
              "      <th>MSA11NK</th>\n",
              "      <th>MSA11NIC</th>\n",
              "    </tr>\n",
              "  </thead>\n",
              "  <tbody>\n",
              "    <tr>\n",
              "      <th>count</th>\n",
              "      <td>492.00</td>\n",
              "      <td>492.00</td>\n",
              "      <td>492.00</td>\n",
              "      <td>492.00</td>\n",
              "      <td>492.00</td>\n",
              "      <td>492.00</td>\n",
              "      <td>492.00</td>\n",
              "      <td>492.00</td>\n",
              "      <td>492.00</td>\n",
              "      <td>492.00</td>\n",
              "      <td>...</td>\n",
              "      <td>492.00</td>\n",
              "      <td>492.00</td>\n",
              "      <td>492.00</td>\n",
              "      <td>492.00</td>\n",
              "      <td>492.00</td>\n",
              "      <td>492.00</td>\n",
              "      <td>492.00</td>\n",
              "      <td>492.00</td>\n",
              "      <td>492.00</td>\n",
              "      <td>492.00</td>\n",
              "    </tr>\n",
              "    <tr>\n",
              "      <th>mean</th>\n",
              "      <td>3,530.57</td>\n",
              "      <td>19.13</td>\n",
              "      <td>14.89</td>\n",
              "      <td>5.92</td>\n",
              "      <td>0.49</td>\n",
              "      <td>0.51</td>\n",
              "      <td>1,982.98</td>\n",
              "      <td>28.02</td>\n",
              "      <td>26.74</td>\n",
              "      <td>66,732.78</td>\n",
              "      <td>...</td>\n",
              "      <td>0.75</td>\n",
              "      <td>0.13</td>\n",
              "      <td>0.31</td>\n",
              "      <td>0.35</td>\n",
              "      <td>0.21</td>\n",
              "      <td>0.05</td>\n",
              "      <td>0.54</td>\n",
              "      <td>0.41</td>\n",
              "      <td>0.00</td>\n",
              "      <td>0.00</td>\n",
              "    </tr>\n",
              "    <tr>\n",
              "      <th>std</th>\n",
              "      <td>1,948.08</td>\n",
              "      <td>11.54</td>\n",
              "      <td>2.69</td>\n",
              "      <td>2.51</td>\n",
              "      <td>0.50</td>\n",
              "      <td>0.50</td>\n",
              "      <td>0.82</td>\n",
              "      <td>0.82</td>\n",
              "      <td>4.71</td>\n",
              "      <td>44,951.87</td>\n",
              "      <td>...</td>\n",
              "      <td>0.44</td>\n",
              "      <td>0.33</td>\n",
              "      <td>0.46</td>\n",
              "      <td>0.48</td>\n",
              "      <td>0.41</td>\n",
              "      <td>0.22</td>\n",
              "      <td>0.50</td>\n",
              "      <td>0.49</td>\n",
              "      <td>0.05</td>\n",
              "      <td>0.00</td>\n",
              "    </tr>\n",
              "    <tr>\n",
              "      <th>min</th>\n",
              "      <td>28.00</td>\n",
              "      <td>2.13</td>\n",
              "      <td>8.00</td>\n",
              "      <td>0.00</td>\n",
              "      <td>0.00</td>\n",
              "      <td>0.00</td>\n",
              "      <td>1,982.00</td>\n",
              "      <td>27.00</td>\n",
              "      <td>17.00</td>\n",
              "      <td>0.00</td>\n",
              "      <td>...</td>\n",
              "      <td>0.00</td>\n",
              "      <td>0.00</td>\n",
              "      <td>0.00</td>\n",
              "      <td>0.00</td>\n",
              "      <td>0.00</td>\n",
              "      <td>0.00</td>\n",
              "      <td>0.00</td>\n",
              "      <td>0.00</td>\n",
              "      <td>0.00</td>\n",
              "      <td>0.00</td>\n",
              "    </tr>\n",
              "    <tr>\n",
              "      <th>25%</th>\n",
              "      <td>1,833.25</td>\n",
              "      <td>12.00</td>\n",
              "      <td>12.00</td>\n",
              "      <td>4.24</td>\n",
              "      <td>0.00</td>\n",
              "      <td>0.00</td>\n",
              "      <td>1,982.00</td>\n",
              "      <td>27.00</td>\n",
              "      <td>24.00</td>\n",
              "      <td>40,725.00</td>\n",
              "      <td>...</td>\n",
              "      <td>0.00</td>\n",
              "      <td>0.00</td>\n",
              "      <td>0.00</td>\n",
              "      <td>0.00</td>\n",
              "      <td>0.00</td>\n",
              "      <td>0.00</td>\n",
              "      <td>0.00</td>\n",
              "      <td>0.00</td>\n",
              "      <td>0.00</td>\n",
              "      <td>0.00</td>\n",
              "    </tr>\n",
              "    <tr>\n",
              "      <th>50%</th>\n",
              "      <td>3,470.50</td>\n",
              "      <td>16.00</td>\n",
              "      <td>16.00</td>\n",
              "      <td>5.75</td>\n",
              "      <td>0.00</td>\n",
              "      <td>1.00</td>\n",
              "      <td>1,983.00</td>\n",
              "      <td>28.00</td>\n",
              "      <td>26.00</td>\n",
              "      <td>58,027.50</td>\n",
              "      <td>...</td>\n",
              "      <td>1.00</td>\n",
              "      <td>0.00</td>\n",
              "      <td>0.00</td>\n",
              "      <td>0.00</td>\n",
              "      <td>0.00</td>\n",
              "      <td>0.00</td>\n",
              "      <td>1.00</td>\n",
              "      <td>0.00</td>\n",
              "      <td>0.00</td>\n",
              "      <td>0.00</td>\n",
              "    </tr>\n",
              "    <tr>\n",
              "      <th>75%</th>\n",
              "      <td>5,186.75</td>\n",
              "      <td>24.04</td>\n",
              "      <td>17.00</td>\n",
              "      <td>7.75</td>\n",
              "      <td>1.00</td>\n",
              "      <td>1.00</td>\n",
              "      <td>1,984.00</td>\n",
              "      <td>29.00</td>\n",
              "      <td>30.00</td>\n",
              "      <td>77,432.50</td>\n",
              "      <td>...</td>\n",
              "      <td>1.00</td>\n",
              "      <td>0.00</td>\n",
              "      <td>1.00</td>\n",
              "      <td>1.00</td>\n",
              "      <td>0.00</td>\n",
              "      <td>0.00</td>\n",
              "      <td>1.00</td>\n",
              "      <td>1.00</td>\n",
              "      <td>0.00</td>\n",
              "      <td>0.00</td>\n",
              "    </tr>\n",
              "    <tr>\n",
              "      <th>max</th>\n",
              "      <td>8,978.00</td>\n",
              "      <td>123.08</td>\n",
              "      <td>20.00</td>\n",
              "      <td>12.33</td>\n",
              "      <td>1.00</td>\n",
              "      <td>1.00</td>\n",
              "      <td>1,984.00</td>\n",
              "      <td>29.00</td>\n",
              "      <td>41.00</td>\n",
              "      <td>246,474.00</td>\n",
              "      <td>...</td>\n",
              "      <td>2.00</td>\n",
              "      <td>1.00</td>\n",
              "      <td>1.00</td>\n",
              "      <td>1.00</td>\n",
              "      <td>1.00</td>\n",
              "      <td>1.00</td>\n",
              "      <td>1.00</td>\n",
              "      <td>1.00</td>\n",
              "      <td>1.00</td>\n",
              "      <td>0.00</td>\n",
              "    </tr>\n",
              "  </tbody>\n",
              "</table>\n",
              "<p>8 rows × 96 columns</p>\n",
              "</div>\n",
              "      <button class=\"colab-df-convert\" onclick=\"convertToInteractive('df-7294d83f-6b5e-419e-b2e1-aa6917d5402d')\"\n",
              "              title=\"Convert this dataframe to an interactive table.\"\n",
              "              style=\"display:none;\">\n",
              "        \n",
              "  <svg xmlns=\"http://www.w3.org/2000/svg\" height=\"24px\"viewBox=\"0 0 24 24\"\n",
              "       width=\"24px\">\n",
              "    <path d=\"M0 0h24v24H0V0z\" fill=\"none\"/>\n",
              "    <path d=\"M18.56 5.44l.94 2.06.94-2.06 2.06-.94-2.06-.94-.94-2.06-.94 2.06-2.06.94zm-11 1L8.5 8.5l.94-2.06 2.06-.94-2.06-.94L8.5 2.5l-.94 2.06-2.06.94zm10 10l.94 2.06.94-2.06 2.06-.94-2.06-.94-.94-2.06-.94 2.06-2.06.94z\"/><path d=\"M17.41 7.96l-1.37-1.37c-.4-.4-.92-.59-1.43-.59-.52 0-1.04.2-1.43.59L10.3 9.45l-7.72 7.72c-.78.78-.78 2.05 0 2.83L4 21.41c.39.39.9.59 1.41.59.51 0 1.02-.2 1.41-.59l7.78-7.78 2.81-2.81c.8-.78.8-2.07 0-2.86zM5.41 20L4 18.59l7.72-7.72 1.47 1.35L5.41 20z\"/>\n",
              "  </svg>\n",
              "      </button>\n",
              "      \n",
              "  <style>\n",
              "    .colab-df-container {\n",
              "      display:flex;\n",
              "      flex-wrap:wrap;\n",
              "      gap: 12px;\n",
              "    }\n",
              "\n",
              "    .colab-df-convert {\n",
              "      background-color: #E8F0FE;\n",
              "      border: none;\n",
              "      border-radius: 50%;\n",
              "      cursor: pointer;\n",
              "      display: none;\n",
              "      fill: #1967D2;\n",
              "      height: 32px;\n",
              "      padding: 0 0 0 0;\n",
              "      width: 32px;\n",
              "    }\n",
              "\n",
              "    .colab-df-convert:hover {\n",
              "      background-color: #E2EBFA;\n",
              "      box-shadow: 0px 1px 2px rgba(60, 64, 67, 0.3), 0px 1px 3px 1px rgba(60, 64, 67, 0.15);\n",
              "      fill: #174EA6;\n",
              "    }\n",
              "\n",
              "    [theme=dark] .colab-df-convert {\n",
              "      background-color: #3B4455;\n",
              "      fill: #D2E3FC;\n",
              "    }\n",
              "\n",
              "    [theme=dark] .colab-df-convert:hover {\n",
              "      background-color: #434B5C;\n",
              "      box-shadow: 0px 1px 3px 1px rgba(0, 0, 0, 0.15);\n",
              "      filter: drop-shadow(0px 1px 2px rgba(0, 0, 0, 0.3));\n",
              "      fill: #FFFFFF;\n",
              "    }\n",
              "  </style>\n",
              "\n",
              "      <script>\n",
              "        const buttonEl =\n",
              "          document.querySelector('#df-7294d83f-6b5e-419e-b2e1-aa6917d5402d button.colab-df-convert');\n",
              "        buttonEl.style.display =\n",
              "          google.colab.kernel.accessAllowed ? 'block' : 'none';\n",
              "\n",
              "        async function convertToInteractive(key) {\n",
              "          const element = document.querySelector('#df-7294d83f-6b5e-419e-b2e1-aa6917d5402d');\n",
              "          const dataTable =\n",
              "            await google.colab.kernel.invokeFunction('convertToInteractive',\n",
              "                                                     [key], {});\n",
              "          if (!dataTable) return;\n",
              "\n",
              "          const docLinkHtml = 'Like what you see? Visit the ' +\n",
              "            '<a target=\"_blank\" href=https://colab.research.google.com/notebooks/data_table.ipynb>data table notebook</a>'\n",
              "            + ' to learn more about interactive tables.';\n",
              "          element.innerHTML = '';\n",
              "          dataTable['output_type'] = 'display_data';\n",
              "          await google.colab.output.renderOutput(dataTable, element);\n",
              "          const docLink = document.createElement('div');\n",
              "          docLink.innerHTML = docLinkHtml;\n",
              "          element.appendChild(docLink);\n",
              "        }\n",
              "      </script>\n",
              "    </div>\n",
              "  </div>\n",
              "  "
            ]
          },
          "metadata": {},
          "execution_count": 22
        }
      ]
    },
    {
      "cell_type": "code",
      "source": [
        "df_variables = pd.read_csv('NLSY97_Variable_Names_and_Descriptions.csv')\n",
        "df_variables.head(20)"
      ],
      "metadata": {
        "colab": {
          "base_uri": "https://localhost:8080/",
          "height": 677
        },
        "id": "DTiiBcf2Ns7g",
        "outputId": "4d472a76-1366-4533-a687-5ae7010db5c7"
      },
      "execution_count": null,
      "outputs": [
        {
          "output_type": "execute_result",
          "data": {
            "text/plain": [
              "                    Personal variables Variable Type  \\\n",
              "0                               FEMALE             D   \n",
              "1                                 MALE             D   \n",
              "2                                  NaN           NaN   \n",
              "3                           Ethnicity:           NaN   \n",
              "4                             ETHBLACK             D   \n",
              "5                              ETHHISP             D   \n",
              "6                             ETHWHITE             D   \n",
              "7                                  NaN           NaN   \n",
              "8                                  AGE             C   \n",
              "9                                BYEAR             C   \n",
              "10                              HEIGHT             C   \n",
              "11                            WEIGHT04             C   \n",
              "12                            WEIGHT11             C   \n",
              "13                                   S             C   \n",
              "14                                 NaN           NaN   \n",
              "15  Highest educational qualification:           NaN   \n",
              "16                            EDUCPROF             D   \n",
              "17                             EDUCPHD             D   \n",
              "18                            EDUCMAST             D   \n",
              "19                              EDUCBA             D   \n",
              "\n",
              "                                          Description  \n",
              "0          Sex of respondent (0 if male, 1 if female)  \n",
              "1          Sex of respondent (1 if male, 0 if female)  \n",
              "2                                                 NaN  \n",
              "3                                                 NaN  \n",
              "4                                               Black  \n",
              "5                                            Hispanic  \n",
              "6                             Non-black, non-hispanic  \n",
              "7                                                 NaN  \n",
              "8                                         Age in 2011  \n",
              "9                                       Year of birth  \n",
              "10                         Height, in inches, in 2004  \n",
              "11                         Weight, in pounds, in 2004  \n",
              "12                         Weight, in pounds, in 2011  \n",
              "13  Years of schooling (highest grade completed as...  \n",
              "14                                                NaN  \n",
              "15                                                NaN  \n",
              "16                                Professional degree  \n",
              "17                                          Doctorate  \n",
              "18                                    Master's degree  \n",
              "19                                  Bachelor's degree  "
            ],
            "text/html": [
              "\n",
              "  <div id=\"df-43157422-fecc-411d-9f6a-9f598336440a\">\n",
              "    <div class=\"colab-df-container\">\n",
              "      <div>\n",
              "<style scoped>\n",
              "    .dataframe tbody tr th:only-of-type {\n",
              "        vertical-align: middle;\n",
              "    }\n",
              "\n",
              "    .dataframe tbody tr th {\n",
              "        vertical-align: top;\n",
              "    }\n",
              "\n",
              "    .dataframe thead th {\n",
              "        text-align: right;\n",
              "    }\n",
              "</style>\n",
              "<table border=\"1\" class=\"dataframe\">\n",
              "  <thead>\n",
              "    <tr style=\"text-align: right;\">\n",
              "      <th></th>\n",
              "      <th>Personal variables</th>\n",
              "      <th>Variable Type</th>\n",
              "      <th>Description</th>\n",
              "    </tr>\n",
              "  </thead>\n",
              "  <tbody>\n",
              "    <tr>\n",
              "      <th>0</th>\n",
              "      <td>FEMALE</td>\n",
              "      <td>D</td>\n",
              "      <td>Sex of respondent (0 if male, 1 if female)</td>\n",
              "    </tr>\n",
              "    <tr>\n",
              "      <th>1</th>\n",
              "      <td>MALE</td>\n",
              "      <td>D</td>\n",
              "      <td>Sex of respondent (1 if male, 0 if female)</td>\n",
              "    </tr>\n",
              "    <tr>\n",
              "      <th>2</th>\n",
              "      <td>NaN</td>\n",
              "      <td>NaN</td>\n",
              "      <td>NaN</td>\n",
              "    </tr>\n",
              "    <tr>\n",
              "      <th>3</th>\n",
              "      <td>Ethnicity:</td>\n",
              "      <td>NaN</td>\n",
              "      <td>NaN</td>\n",
              "    </tr>\n",
              "    <tr>\n",
              "      <th>4</th>\n",
              "      <td>ETHBLACK</td>\n",
              "      <td>D</td>\n",
              "      <td>Black</td>\n",
              "    </tr>\n",
              "    <tr>\n",
              "      <th>5</th>\n",
              "      <td>ETHHISP</td>\n",
              "      <td>D</td>\n",
              "      <td>Hispanic</td>\n",
              "    </tr>\n",
              "    <tr>\n",
              "      <th>6</th>\n",
              "      <td>ETHWHITE</td>\n",
              "      <td>D</td>\n",
              "      <td>Non-black, non-hispanic</td>\n",
              "    </tr>\n",
              "    <tr>\n",
              "      <th>7</th>\n",
              "      <td>NaN</td>\n",
              "      <td>NaN</td>\n",
              "      <td>NaN</td>\n",
              "    </tr>\n",
              "    <tr>\n",
              "      <th>8</th>\n",
              "      <td>AGE</td>\n",
              "      <td>C</td>\n",
              "      <td>Age in 2011</td>\n",
              "    </tr>\n",
              "    <tr>\n",
              "      <th>9</th>\n",
              "      <td>BYEAR</td>\n",
              "      <td>C</td>\n",
              "      <td>Year of birth</td>\n",
              "    </tr>\n",
              "    <tr>\n",
              "      <th>10</th>\n",
              "      <td>HEIGHT</td>\n",
              "      <td>C</td>\n",
              "      <td>Height, in inches, in 2004</td>\n",
              "    </tr>\n",
              "    <tr>\n",
              "      <th>11</th>\n",
              "      <td>WEIGHT04</td>\n",
              "      <td>C</td>\n",
              "      <td>Weight, in pounds, in 2004</td>\n",
              "    </tr>\n",
              "    <tr>\n",
              "      <th>12</th>\n",
              "      <td>WEIGHT11</td>\n",
              "      <td>C</td>\n",
              "      <td>Weight, in pounds, in 2011</td>\n",
              "    </tr>\n",
              "    <tr>\n",
              "      <th>13</th>\n",
              "      <td>S</td>\n",
              "      <td>C</td>\n",
              "      <td>Years of schooling (highest grade completed as...</td>\n",
              "    </tr>\n",
              "    <tr>\n",
              "      <th>14</th>\n",
              "      <td>NaN</td>\n",
              "      <td>NaN</td>\n",
              "      <td>NaN</td>\n",
              "    </tr>\n",
              "    <tr>\n",
              "      <th>15</th>\n",
              "      <td>Highest educational qualification:</td>\n",
              "      <td>NaN</td>\n",
              "      <td>NaN</td>\n",
              "    </tr>\n",
              "    <tr>\n",
              "      <th>16</th>\n",
              "      <td>EDUCPROF</td>\n",
              "      <td>D</td>\n",
              "      <td>Professional degree</td>\n",
              "    </tr>\n",
              "    <tr>\n",
              "      <th>17</th>\n",
              "      <td>EDUCPHD</td>\n",
              "      <td>D</td>\n",
              "      <td>Doctorate</td>\n",
              "    </tr>\n",
              "    <tr>\n",
              "      <th>18</th>\n",
              "      <td>EDUCMAST</td>\n",
              "      <td>D</td>\n",
              "      <td>Master's degree</td>\n",
              "    </tr>\n",
              "    <tr>\n",
              "      <th>19</th>\n",
              "      <td>EDUCBA</td>\n",
              "      <td>D</td>\n",
              "      <td>Bachelor's degree</td>\n",
              "    </tr>\n",
              "  </tbody>\n",
              "</table>\n",
              "</div>\n",
              "      <button class=\"colab-df-convert\" onclick=\"convertToInteractive('df-43157422-fecc-411d-9f6a-9f598336440a')\"\n",
              "              title=\"Convert this dataframe to an interactive table.\"\n",
              "              style=\"display:none;\">\n",
              "        \n",
              "  <svg xmlns=\"http://www.w3.org/2000/svg\" height=\"24px\"viewBox=\"0 0 24 24\"\n",
              "       width=\"24px\">\n",
              "    <path d=\"M0 0h24v24H0V0z\" fill=\"none\"/>\n",
              "    <path d=\"M18.56 5.44l.94 2.06.94-2.06 2.06-.94-2.06-.94-.94-2.06-.94 2.06-2.06.94zm-11 1L8.5 8.5l.94-2.06 2.06-.94-2.06-.94L8.5 2.5l-.94 2.06-2.06.94zm10 10l.94 2.06.94-2.06 2.06-.94-2.06-.94-.94-2.06-.94 2.06-2.06.94z\"/><path d=\"M17.41 7.96l-1.37-1.37c-.4-.4-.92-.59-1.43-.59-.52 0-1.04.2-1.43.59L10.3 9.45l-7.72 7.72c-.78.78-.78 2.05 0 2.83L4 21.41c.39.39.9.59 1.41.59.51 0 1.02-.2 1.41-.59l7.78-7.78 2.81-2.81c.8-.78.8-2.07 0-2.86zM5.41 20L4 18.59l7.72-7.72 1.47 1.35L5.41 20z\"/>\n",
              "  </svg>\n",
              "      </button>\n",
              "      \n",
              "  <style>\n",
              "    .colab-df-container {\n",
              "      display:flex;\n",
              "      flex-wrap:wrap;\n",
              "      gap: 12px;\n",
              "    }\n",
              "\n",
              "    .colab-df-convert {\n",
              "      background-color: #E8F0FE;\n",
              "      border: none;\n",
              "      border-radius: 50%;\n",
              "      cursor: pointer;\n",
              "      display: none;\n",
              "      fill: #1967D2;\n",
              "      height: 32px;\n",
              "      padding: 0 0 0 0;\n",
              "      width: 32px;\n",
              "    }\n",
              "\n",
              "    .colab-df-convert:hover {\n",
              "      background-color: #E2EBFA;\n",
              "      box-shadow: 0px 1px 2px rgba(60, 64, 67, 0.3), 0px 1px 3px 1px rgba(60, 64, 67, 0.15);\n",
              "      fill: #174EA6;\n",
              "    }\n",
              "\n",
              "    [theme=dark] .colab-df-convert {\n",
              "      background-color: #3B4455;\n",
              "      fill: #D2E3FC;\n",
              "    }\n",
              "\n",
              "    [theme=dark] .colab-df-convert:hover {\n",
              "      background-color: #434B5C;\n",
              "      box-shadow: 0px 1px 3px 1px rgba(0, 0, 0, 0.15);\n",
              "      filter: drop-shadow(0px 1px 2px rgba(0, 0, 0, 0.3));\n",
              "      fill: #FFFFFF;\n",
              "    }\n",
              "  </style>\n",
              "\n",
              "      <script>\n",
              "        const buttonEl =\n",
              "          document.querySelector('#df-43157422-fecc-411d-9f6a-9f598336440a button.colab-df-convert');\n",
              "        buttonEl.style.display =\n",
              "          google.colab.kernel.accessAllowed ? 'block' : 'none';\n",
              "\n",
              "        async function convertToInteractive(key) {\n",
              "          const element = document.querySelector('#df-43157422-fecc-411d-9f6a-9f598336440a');\n",
              "          const dataTable =\n",
              "            await google.colab.kernel.invokeFunction('convertToInteractive',\n",
              "                                                     [key], {});\n",
              "          if (!dataTable) return;\n",
              "\n",
              "          const docLinkHtml = 'Like what you see? Visit the ' +\n",
              "            '<a target=\"_blank\" href=https://colab.research.google.com/notebooks/data_table.ipynb>data table notebook</a>'\n",
              "            + ' to learn more about interactive tables.';\n",
              "          element.innerHTML = '';\n",
              "          dataTable['output_type'] = 'display_data';\n",
              "          await google.colab.output.renderOutput(dataTable, element);\n",
              "          const docLink = document.createElement('div');\n",
              "          docLink.innerHTML = docLinkHtml;\n",
              "          element.appendChild(docLink);\n",
              "        }\n",
              "      </script>\n",
              "    </div>\n",
              "  </div>\n",
              "  "
            ]
          },
          "metadata": {},
          "execution_count": 18
        }
      ]
    },
    {
      "cell_type": "markdown",
      "metadata": {
        "id": "ZO-86NXbnWSH"
      },
      "source": [
        "## Visualise the Features"
      ]
    },
    {
      "cell_type": "code",
      "metadata": {
        "id": "hFZJjbsKncPM",
        "colab": {
          "base_uri": "https://localhost:8080/",
          "height": 282
        },
        "outputId": "6b392bdf-d079-430d-a6a5-0e87bf5e8ae7"
      },
      "source": [
        "plt.scatter(clean_df.S, clean_df.EARNINGS)"
      ],
      "execution_count": null,
      "outputs": [
        {
          "output_type": "execute_result",
          "data": {
            "text/plain": [
              "<matplotlib.collections.PathCollection at 0x7f42ed6dc910>"
            ]
          },
          "metadata": {},
          "execution_count": 23
        },
        {
          "output_type": "display_data",
          "data": {
            "text/plain": [
              "<Figure size 432x288 with 1 Axes>"
            ],
            "image/png": "[encoded data removed]"
          },
          "metadata": {
            "needs_background": "light"
          }
        }
      ]
    },
    {
      "cell_type": "code",
      "source": [
        "px.scatter(x = clean_df['S'],\n",
        "           y = clean_df['EARNINGS'])"
      ],
      "metadata": {
        "colab": {
          "base_uri": "https://localhost:8080/",
          "height": 542
        },
        "id": "V0vW8_UW_TX1",
        "outputId": "a4e93590-2e3c-41ca-e846-3f91ce47db70"
      },
      "execution_count": null,
      "outputs": [
        {
          "output_type": "display_data",
          "data": {
            "text/html": [
              "<html>\n",
              "<head><meta charset=\"utf-8\" /></head>\n",
              "<body>\n",
              "    <div>            <script src=\"https://cdnjs.cloudflare.com/ajax/libs/mathjax/2.7.5/MathJax.js?config=TeX-AMS-MML_SVG\"></script><script type=\"text/javascript\">if (window.MathJax && window.MathJax.Hub && window.MathJax.Hub.Config) {window.MathJax.Hub.Config({SVG: {font: \"STIX-Web\"}});}</script>                <script type=\"text/javascript\">window.PlotlyConfig = {MathJaxConfig: 'local'};</script>\n",
              "        <script src=\"https://cdn.plot.ly/plotly-2.12.1.min.js\"></script>                <div id=\"2df0bea7-5edb-4d77-b06b-cf930f1f5505\" class=\"plotly-graph-div\" style=\"height:525px; width:100%;\"></div>            <script type=\"text/javascript\">                                    window.PLOTLYENV=window.PLOTLYENV || {};                                    if (document.getElementById(\"2df0bea7-5edb-4d77-b06b-cf930f1f5505\")) {                    Plotly.newPlot(                        \"2df0bea7-5edb-4d77-b06b-cf930f1f5505\",                        [{\"hovertemplate\":\"x=%{x}<br>y=%{y}<extra></extra>\",\"legendgroup\":\"\",\"marker\":{\"color\":\"#636efa\",\"symbol\":\"circle\"},\"mode\":\"markers\",\"name\":\"\",\"orientation\":\"v\",\"showlegend\":false,\"x\":[12,15,12,13,14,16,16,18,12,12,20,18,14,12,15,12,17,16,16,13,12,8,17,20,16,17,13,13,18,14,11,16,15,18,15,13,16,17,14,16,14,18,16,17,12,16,12,13,13,16,14,17,17,14,14,12,12,13,12,18,17,12,16,18,13,16,13,16,11,12,14,18,16,16,16,12,12,16,12,20,18,12,16,16,15,10,16,14,16,17,15,16,12,12,16,13,12,18,17,19,18,20,16,13,17,16,17,14,12,17,11,19,11,16,16,14,13,17,12,11,15,17,19,18,19,20,19,16,12,14,17,17,17,16,13,16,10,14,18,17,17,16,15,16,16,16,17,16,12,17,20,15,12,18,18,16,16,14,14,16,18,12,18,11,12,12,15,18,16,18,12,13,20,12,10,12,12,20,12,14,16,14,12,14,15,13,18,14,16,16,14,12,16,15,15,18,16,14,16,20,20,9,12,20,18,13,15,17,15,12,12,15,14,9,14,16,14,17,12,13,17,8,14,12,16,9,16,15,13,16,9,14,12,18,16,19,13,16,18,16,15,12,14,16,16,12,16,16,17,16,17,12,18,20,14,12,17,17,16,13,16,18,16,16,17,13,16,18,17,19,16,9,18,17,16,12,16,16,18,17,15,12,15,17,18,16,15,16,14,18,12,19,18,10,16,14,13,19,18,12,17,15,12,16,16,17,12,17,14,12,17,16,18,13,15,20,13,12,18,12,12,18,8,12,14,12,17,11,12,16,13,13,15,16,20,16,16,16,13,11,20,12,16,16,13,13,17,16,12,12,16,17,17,18,9,14,12,20,14,14,16,10,12,19,17,16,12,17,18,8,17,18,12,16,16,16,18,17,9,18,16,12,16,16,16,12,14,12,20,14,18,16,18,19,17,13,8,19,16,17,12,18,16,19,17,12,12,17,13,13,13,16,17,13,16,17,16,14,12,14,9,16,12,10,9,14,12,14,19,16,11,16,16,11,14,12,17,12,17,9,12,17,16,20,14,9,16,12,14,17,13,16,17,10,12,11,16,17,16,13,16,18,12,17,12,12,17,11,16,8,13,18,18,13,16,16,18,18,12,16,16,13,13,16,17,18,10,16,12,14,12,12],\"xaxis\":\"x\",\"y\":[18.5,36.06,13.14,10.0,20.19,10.0,19.65,31.73,25.6,65.0,13.74,38.46,28.52,38.0,7.5,25.6,18.5,20.0,24.13,12.0,11.25,10.64,22.5,29.07,16.67,13.46,30.23,25.21,31.54,9.5,20.0,35.58,14.19,15.63,3.15,10.0,17.2,22.0,27.65,18.0,24.8,34.07,19.66,25.64,47.4,11.3,11.11,12.0,9.42,15.0,19.5,46.49,12.5,5.76,24.0,14.95,17.78,35.0,14.0,19.5,20.98,18.5,38.46,36.15,15.94,27.5,10.0,27.0,8.5,3.49,15.0,17.36,26.44,14.0,25.64,15.0,123.08,11.54,18.45,10.16,14.83,15.0,6.74,28.21,16.0,9.5,14.96,19.77,24.04,18.75,10.3,15.38,11.81,11.87,21.1,15.5,18.4,13.5,26.15,15.21,41.35,21.57,34.01,9.74,32.42,22.0,30.0,10.0,5.0,25.0,10.24,29.62,7.5,48.56,13.5,5.0,11.09,29.91,11.54,7.25,22.19,23.08,10.0,30.0,67.45,13.52,15.87,16.7,12.0,8.25,14.1,16.0,17.5,27.13,7.52,25.58,8.5,14.24,20.5,20.3,19.64,11.0,12.75,2.13,14.5,11.89,24.04,26.0,15.7,38.46,25.0,15.0,13.0,19.88,24.04,22.6,19.0,41.2,8.5,15.8,25.5,14.0,22.31,6.25,17.0,2.63,20.67,15.09,16.83,13.0,11.5,17.0,25.0,62.02,12.32,15.62,26.0,13.74,10.0,35.0,19.23,15.0,12.0,10.0,19.72,25.0,22.3,15.97,18.36,28.72,25.16,6.43,12.48,18.38,33.65,15.35,45.0,10.41,36.94,23.99,10.0,9.85,12.08,13.22,15.0,7.2,14.1,40.38,3.03,31.95,15.45,18.0,12.0,13.0,15.0,24.04,14.45,34.34,13.0,10.47,14.5,19.77,14.24,14.55,15.38,11.11,25.15,14.86,9.45,34.62,11.63,11.25,13.17,12.74,11.54,35.0,21.92,12.0,21.0,35.0,7.25,11.3,12.0,23.4,23.5,7.27,22.0,12.0,17.2,25.48,32.69,6.0,34.0,42.86,13.5,14.0,16.0,20.51,22.12,3.75,9.0,13.0,7.5,18.27,36.32,14.42,23.08,13.0,13.46,28.85,8.5,10.47,19.83,23.08,15.38,15.77,14.69,19.71,32.21,29.0,8.75,25.64,7.4,20.0,16.83,16.16,10.0,20.51,14.3,21.63,14.4,15.38,8.65,10.58,17.31,12.11,9.0,67.0,12.85,14.25,20.0,28.52,7.25,25.64,22.6,30.77,16.2,20.6,15.5,7.6,20.46,37.0,19.05,13.77,10.0,28.95,10.95,25.0,26.24,22.29,12.5,20.16,7.75,13.0,13.5,26.42,19.0,9.0,37.5,18.0,11.42,19.8,17.16,19.0,91.67,22.3,15.0,38.46,11.5,9.0,13.46,23.0,22.6,34.19,18.55,11.1,35.03,39.74,15.0,19.0,19.23,11.5,16.16,12.5,10.0,16.0,19.0,2.78,16.67,11.0,9.27,14.0,17.51,18.18,18.75,17.86,17.75,7.75,26.92,10.25,7.05,8.5,11.98,12.0,41.96,12.5,16.0,4.38,11.0,23.26,10.0,22.5,16.82,28.85,24.23,13.5,9.75,12.25,17.31,10.0,8.75,15.79,26.5,25.0,21.63,13.35,14.0,40.38,15.0,25.0,7.6,17.5,13.46,37.25,13.5,14.57,7.25,15.75,15.2,8.95,17.3,9.97,14.69,11.0,18.46,20.09,24.65,18.01,17.5,14.5,14.0,26.44,10.5,21.15,17.0,14.5,10.0,28.5,10.82,10.5,12.0,20.0,40.77,14.17,26.0,13.25,23.08,15.0,55.94,19.5,15.0,26.92,28.46,32.0,34.95,17.25,12.31,21.0,10.5,28.85,12.5,40.0,17.44,18.75,17.0,14.35,14.62,45.67,48.5,10.44,19.72,28.75,3.65,15.12,11.78,7.08,24.04,10.5,23.58,7.25,25.0,16.0,12.0,12.06,5.0,28.85,14.0,16.35,10.25,25.0,18.25,15.75,11.0,24.52,40.0,27.5,8.5,28.85,2.33,10.0,9.0,8.0],\"yaxis\":\"y\",\"type\":\"scatter\"}],                        {\"template\":{\"data\":{\"histogram2dcontour\":[{\"type\":\"histogram2dcontour\",\"colorbar\":{\"outlinewidth\":0,\"ticks\":\"\"},\"colorscale\":[[0.0,\"#0d0887\"],[0.1111111111111111,\"#46039f\"],[0.2222222222222222,\"#7201a8\"],[0.3333333333333333,\"#9c179e\"],[0.4444444444444444,\"#bd3786\"],[0.5555555555555556,\"#d8576b\"],[0.6666666666666666,\"#ed7953\"],[0.7777777777777778,\"#fb9f3a\"],[0.8888888888888888,\"#fdca26\"],[1.0,\"#f0f921\"]]}],\"choropleth\":[{\"type\":\"choropleth\",\"colorbar\":{\"outlinewidth\":0,\"ticks\":\"\"}}],\"histogram2d\":[{\"type\":\"histogram2d\",\"colorbar\":{\"outlinewidth\":0,\"ticks\":\"\"},\"colorscale\":[[0.0,\"#0d0887\"],[0.1111111111111111,\"#46039f\"],[0.2222222222222222,\"#7201a8\"],[0.3333333333333333,\"#9c179e\"],[0.4444444444444444,\"#bd3786\"],[0.5555555555555556,\"#d8576b\"],[0.6666666666666666,\"#ed7953\"],[0.7777777777777778,\"#fb9f3a\"],[0.8888888888888888,\"#fdca26\"],[1.0,\"#f0f921\"]]}],\"heatmap\":[{\"type\":\"heatmap\",\"colorbar\":{\"outlinewidth\":0,\"ticks\":\"\"},\"colorscale\":[[0.0,\"#0d0887\"],[0.1111111111111111,\"#46039f\"],[0.2222222222222222,\"#7201a8\"],[0.3333333333333333,\"#9c179e\"],[0.4444444444444444,\"#bd3786\"],[0.5555555555555556,\"#d8576b\"],[0.6666666666666666,\"#ed7953\"],[0.7777777777777778,\"#fb9f3a\"],[0.8888888888888888,\"#fdca26\"],[1.0,\"#f0f921\"]]}],\"heatmapgl\":[{\"type\":\"heatmapgl\",\"colorbar\":{\"outlinewidth\":0,\"ticks\":\"\"},\"colorscale\":[[0.0,\"#0d0887\"],[0.1111111111111111,\"#46039f\"],[0.2222222222222222,\"#7201a8\"],[0.3333333333333333,\"#9c179e\"],[0.4444444444444444,\"#bd3786\"],[0.5555555555555556,\"#d8576b\"],[0.6666666666666666,\"#ed7953\"],[0.7777777777777778,\"#fb9f3a\"],[0.8888888888888888,\"#fdca26\"],[1.0,\"#f0f921\"]]}],\"contourcarpet\":[{\"type\":\"contourcarpet\",\"colorbar\":{\"outlinewidth\":0,\"ticks\":\"\"}}],\"contour\":[{\"type\":\"contour\",\"colorbar\":{\"outlinewidth\":0,\"ticks\":\"\"},\"colorscale\":[[0.0,\"#0d0887\"],[0.1111111111111111,\"#46039f\"],[0.2222222222222222,\"#7201a8\"],[0.3333333333333333,\"#9c179e\"],[0.4444444444444444,\"#bd3786\"],[0.5555555555555556,\"#d8576b\"],[0.6666666666666666,\"#ed7953\"],[0.7777777777777778,\"#fb9f3a\"],[0.8888888888888888,\"#fdca26\"],[1.0,\"#f0f921\"]]}],\"surface\":[{\"type\":\"surface\",\"colorbar\":{\"outlinewidth\":0,\"ticks\":\"\"},\"colorscale\":[[0.0,\"#0d0887\"],[0.1111111111111111,\"#46039f\"],[0.2222222222222222,\"#7201a8\"],[0.3333333333333333,\"#9c179e\"],[0.4444444444444444,\"#bd3786\"],[0.5555555555555556,\"#d8576b\"],[0.6666666666666666,\"#ed7953\"],[0.7777777777777778,\"#fb9f3a\"],[0.8888888888888888,\"#fdca26\"],[1.0,\"#f0f921\"]]}],\"mesh3d\":[{\"type\":\"mesh3d\",\"colorbar\":{\"outlinewidth\":0,\"ticks\":\"\"}}],\"scatter\":[{\"fillpattern\":{\"fillmode\":\"overlay\",\"size\":10,\"solidity\":0.2},\"type\":\"scatter\"}],\"parcoords\":[{\"type\":\"parcoords\",\"line\":{\"colorbar\":{\"outlinewidth\":0,\"ticks\":\"\"}}}],\"scatterpolargl\":[{\"type\":\"scatterpolargl\",\"marker\":{\"colorbar\":{\"outlinewidth\":0,\"ticks\":\"\"}}}],\"bar\":[{\"error_x\":{\"color\":\"#2a3f5f\"},\"error_y\":{\"color\":\"#2a3f5f\"},\"marker\":{\"line\":{\"color\":\"#E5ECF6\",\"width\":0.5},\"pattern\":{\"fillmode\":\"overlay\",\"size\":10,\"solidity\":0.2}},\"type\":\"bar\"}],\"scattergeo\":[{\"type\":\"scattergeo\",\"marker\":{\"colorbar\":{\"outlinewidth\":0,\"ticks\":\"\"}}}],\"scatterpolar\":[{\"type\":\"scatterpolar\",\"marker\":{\"colorbar\":{\"outlinewidth\":0,\"ticks\":\"\"}}}],\"histogram\":[{\"marker\":{\"pattern\":{\"fillmode\":\"overlay\",\"size\":10,\"solidity\":0.2}},\"type\":\"histogram\"}],\"scattergl\":[{\"type\":\"scattergl\",\"marker\":{\"colorbar\":{\"outlinewidth\":0,\"ticks\":\"\"}}}],\"scatter3d\":[{\"type\":\"scatter3d\",\"line\":{\"colorbar\":{\"outlinewidth\":0,\"ticks\":\"\"}},\"marker\":{\"colorbar\":{\"outlinewidth\":0,\"ticks\":\"\"}}}],\"scattermapbox\":[{\"type\":\"scattermapbox\",\"marker\":{\"colorbar\":{\"outlinewidth\":0,\"ticks\":\"\"}}}],\"scatterternary\":[{\"type\":\"scatterternary\",\"marker\":{\"colorbar\":{\"outlinewidth\":0,\"ticks\":\"\"}}}],\"scattercarpet\":[{\"type\":\"scattercarpet\",\"marker\":{\"colorbar\":{\"outlinewidth\":0,\"ticks\":\"\"}}}],\"carpet\":[{\"aaxis\":{\"endlinecolor\":\"#2a3f5f\",\"gridcolor\":\"white\",\"linecolor\":\"white\",\"minorgridcolor\":\"white\",\"startlinecolor\":\"#2a3f5f\"},\"baxis\":{\"endlinecolor\":\"#2a3f5f\",\"gridcolor\":\"white\",\"linecolor\":\"white\",\"minorgridcolor\":\"white\",\"startlinecolor\":\"#2a3f5f\"},\"type\":\"carpet\"}],\"table\":[{\"cells\":{\"fill\":{\"color\":\"#EBF0F8\"},\"line\":{\"color\":\"white\"}},\"header\":{\"fill\":{\"color\":\"#C8D4E3\"},\"line\":{\"color\":\"white\"}},\"type\":\"table\"}],\"barpolar\":[{\"marker\":{\"line\":{\"color\":\"#E5ECF6\",\"width\":0.5},\"pattern\":{\"fillmode\":\"overlay\",\"size\":10,\"solidity\":0.2}},\"type\":\"barpolar\"}],\"pie\":[{\"automargin\":true,\"type\":\"pie\"}]},\"layout\":{\"autotypenumbers\":\"strict\",\"colorway\":[\"#636efa\",\"#EF553B\",\"#00cc96\",\"#ab63fa\",\"#FFA15A\",\"#19d3f3\",\"#FF6692\",\"#B6E880\",\"#FF97FF\",\"#FECB52\"],\"font\":{\"color\":\"#2a3f5f\"},\"hovermode\":\"closest\",\"hoverlabel\":{\"align\":\"left\"},\"paper_bgcolor\":\"white\",\"plot_bgcolor\":\"#E5ECF6\",\"polar\":{\"bgcolor\":\"#E5ECF6\",\"angularaxis\":{\"gridcolor\":\"white\",\"linecolor\":\"white\",\"ticks\":\"\"},\"radialaxis\":{\"gridcolor\":\"white\",\"linecolor\":\"white\",\"ticks\":\"\"}},\"ternary\":{\"bgcolor\":\"#E5ECF6\",\"aaxis\":{\"gridcolor\":\"white\",\"linecolor\":\"white\",\"ticks\":\"\"},\"baxis\":{\"gridcolor\":\"white\",\"linecolor\":\"white\",\"ticks\":\"\"},\"caxis\":{\"gridcolor\":\"white\",\"linecolor\":\"white\",\"ticks\":\"\"}},\"coloraxis\":{\"colorbar\":{\"outlinewidth\":0,\"ticks\":\"\"}},\"colorscale\":{\"sequential\":[[0.0,\"#0d0887\"],[0.1111111111111111,\"#46039f\"],[0.2222222222222222,\"#7201a8\"],[0.3333333333333333,\"#9c179e\"],[0.4444444444444444,\"#bd3786\"],[0.5555555555555556,\"#d8576b\"],[0.6666666666666666,\"#ed7953\"],[0.7777777777777778,\"#fb9f3a\"],[0.8888888888888888,\"#fdca26\"],[1.0,\"#f0f921\"]],\"sequentialminus\":[[0.0,\"#0d0887\"],[0.1111111111111111,\"#46039f\"],[0.2222222222222222,\"#7201a8\"],[0.3333333333333333,\"#9c179e\"],[0.4444444444444444,\"#bd3786\"],[0.5555555555555556,\"#d8576b\"],[0.6666666666666666,\"#ed7953\"],[0.7777777777777778,\"#fb9f3a\"],[0.8888888888888888,\"#fdca26\"],[1.0,\"#f0f921\"]],\"diverging\":[[0,\"#8e0152\"],[0.1,\"#c51b7d\"],[0.2,\"#de77ae\"],[0.3,\"#f1b6da\"],[0.4,\"#fde0ef\"],[0.5,\"#f7f7f7\"],[0.6,\"#e6f5d0\"],[0.7,\"#b8e186\"],[0.8,\"#7fbc41\"],[0.9,\"#4d9221\"],[1,\"#276419\"]]},\"xaxis\":{\"gridcolor\":\"white\",\"linecolor\":\"white\",\"ticks\":\"\",\"title\":{\"standoff\":15},\"zerolinecolor\":\"white\",\"automargin\":true,\"zerolinewidth\":2},\"yaxis\":{\"gridcolor\":\"white\",\"linecolor\":\"white\",\"ticks\":\"\",\"title\":{\"standoff\":15},\"zerolinecolor\":\"white\",\"automargin\":true,\"zerolinewidth\":2},\"scene\":{\"xaxis\":{\"backgroundcolor\":\"#E5ECF6\",\"gridcolor\":\"white\",\"linecolor\":\"white\",\"showbackground\":true,\"ticks\":\"\",\"zerolinecolor\":\"white\",\"gridwidth\":2},\"yaxis\":{\"backgroundcolor\":\"#E5ECF6\",\"gridcolor\":\"white\",\"linecolor\":\"white\",\"showbackground\":true,\"ticks\":\"\",\"zerolinecolor\":\"white\",\"gridwidth\":2},\"zaxis\":{\"backgroundcolor\":\"#E5ECF6\",\"gridcolor\":\"white\",\"linecolor\":\"white\",\"showbackground\":true,\"ticks\":\"\",\"zerolinecolor\":\"white\",\"gridwidth\":2}},\"shapedefaults\":{\"line\":{\"color\":\"#2a3f5f\"}},\"annotationdefaults\":{\"arrowcolor\":\"#2a3f5f\",\"arrowhead\":0,\"arrowwidth\":1},\"geo\":{\"bgcolor\":\"white\",\"landcolor\":\"#E5ECF6\",\"subunitcolor\":\"white\",\"showland\":true,\"showlakes\":true,\"lakecolor\":\"white\"},\"title\":{\"x\":0.05},\"mapbox\":{\"style\":\"light\"}}},\"xaxis\":{\"anchor\":\"y\",\"domain\":[0.0,1.0],\"title\":{\"text\":\"x\"}},\"yaxis\":{\"anchor\":\"x\",\"domain\":[0.0,1.0],\"title\":{\"text\":\"y\"}},\"legend\":{\"tracegroupgap\":0},\"margin\":{\"t\":60}},                        {\"responsive\": true}                    ).then(function(){\n",
              "                            \n",
              "var gd = document.getElementById('2df0bea7-5edb-4d77-b06b-cf930f1f5505');\n",
              "var x = new MutationObserver(function (mutations, observer) {{\n",
              "        var display = window.getComputedStyle(gd).display;\n",
              "        if (!display || display === 'none') {{\n",
              "            console.log([gd, 'removed!']);\n",
              "            Plotly.purge(gd);\n",
              "            observer.disconnect();\n",
              "        }}\n",
              "}});\n",
              "\n",
              "// Listen for the removal of the full notebook cells\n",
              "var notebookContainer = gd.closest('#notebook-container');\n",
              "if (notebookContainer) {{\n",
              "    x.observe(notebookContainer, {childList: true});\n",
              "}}\n",
              "\n",
              "// Listen for the clearing of the current output cell\n",
              "var outputEl = gd.closest('.output');\n",
              "if (outputEl) {{\n",
              "    x.observe(outputEl, {childList: true});\n",
              "}}\n",
              "\n",
              "                        })                };                            </script>        </div>\n",
              "</body>\n",
              "</html>"
            ]
          },
          "metadata": {}
        }
      ]
    },
    {
      "cell_type": "code",
      "source": [
        "px.scatter(clean_df,\n",
        "           x = 'EARNINGS', \n",
        "           y = ['S', 'EXP'])"
      ],
      "metadata": {
        "colab": {
          "base_uri": "https://localhost:8080/",
          "height": 542
        },
        "id": "HoFbz_jOB3fX",
        "outputId": "131e3e56-18cb-478b-ca95-780d76eff8cd"
      },
      "execution_count": null,
      "outputs": [
        {
          "output_type": "display_data",
          "data": {
            "text/html": [
              "<html>\n",
              "<head><meta charset=\"utf-8\" /></head>\n",
              "<body>\n",
              "    <div>            <script src=\"https://cdnjs.cloudflare.com/ajax/libs/mathjax/2.7.5/MathJax.js?config=TeX-AMS-MML_SVG\"></script><script type=\"text/javascript\">if (window.MathJax && window.MathJax.Hub && window.MathJax.Hub.Config) {window.MathJax.Hub.Config({SVG: {font: \"STIX-Web\"}});}</script>                <script type=\"text/javascript\">window.PlotlyConfig = {MathJaxConfig: 'local'};</script>\n",
              "        <script src=\"https://cdn.plot.ly/plotly-2.12.1.min.js\"></script>                <div id=\"cde485f5-3e5b-43c0-8b2f-bcf13da83980\" class=\"plotly-graph-div\" style=\"height:525px; width:100%;\"></div>            <script type=\"text/javascript\">                                    window.PLOTLYENV=window.PLOTLYENV || {};                                    if (document.getElementById(\"cde485f5-3e5b-43c0-8b2f-bcf13da83980\")) {                    Plotly.newPlot(                        \"cde485f5-3e5b-43c0-8b2f-bcf13da83980\",                        [{\"hovertemplate\":\"variable=S<br>EARNINGS=%{x}<br>value=%{y}<extra></extra>\",\"legendgroup\":\"S\",\"marker\":{\"color\":\"#636efa\",\"symbol\":\"circle\"},\"mode\":\"markers\",\"name\":\"S\",\"orientation\":\"v\",\"showlegend\":true,\"x\":[18.5,36.06,13.14,10.0,20.19,10.0,19.65,31.73,25.6,65.0,13.74,38.46,28.52,38.0,7.5,25.6,18.5,20.0,24.13,12.0,11.25,10.64,22.5,29.07,16.67,13.46,30.23,25.21,31.54,9.5,20.0,35.58,14.19,15.63,3.15,10.0,17.2,22.0,27.65,18.0,24.8,34.07,19.66,25.64,47.4,11.3,11.11,12.0,9.42,15.0,19.5,46.49,12.5,5.76,24.0,14.95,17.78,35.0,14.0,19.5,20.98,18.5,38.46,36.15,15.94,27.5,10.0,27.0,8.5,3.49,15.0,17.36,26.44,14.0,25.64,15.0,123.08,11.54,18.45,10.16,14.83,15.0,6.74,28.21,16.0,9.5,14.96,19.77,24.04,18.75,10.3,15.38,11.81,11.87,21.1,15.5,18.4,13.5,26.15,15.21,41.35,21.57,34.01,9.74,32.42,22.0,30.0,10.0,5.0,25.0,10.24,29.62,7.5,48.56,13.5,5.0,11.09,29.91,11.54,7.25,22.19,23.08,10.0,30.0,67.45,13.52,15.87,16.7,12.0,8.25,14.1,16.0,17.5,27.13,7.52,25.58,8.5,14.24,20.5,20.3,19.64,11.0,12.75,2.13,14.5,11.89,24.04,26.0,15.7,38.46,25.0,15.0,13.0,19.88,24.04,22.6,19.0,41.2,8.5,15.8,25.5,14.0,22.31,6.25,17.0,2.63,20.67,15.09,16.83,13.0,11.5,17.0,25.0,62.02,12.32,15.62,26.0,13.74,10.0,35.0,19.23,15.0,12.0,10.0,19.72,25.0,22.3,15.97,18.36,28.72,25.16,6.43,12.48,18.38,33.65,15.35,45.0,10.41,36.94,23.99,10.0,9.85,12.08,13.22,15.0,7.2,14.1,40.38,3.03,31.95,15.45,18.0,12.0,13.0,15.0,24.04,14.45,34.34,13.0,10.47,14.5,19.77,14.24,14.55,15.38,11.11,25.15,14.86,9.45,34.62,11.63,11.25,13.17,12.74,11.54,35.0,21.92,12.0,21.0,35.0,7.25,11.3,12.0,23.4,23.5,7.27,22.0,12.0,17.2,25.48,32.69,6.0,34.0,42.86,13.5,14.0,16.0,20.51,22.12,3.75,9.0,13.0,7.5,18.27,36.32,14.42,23.08,13.0,13.46,28.85,8.5,10.47,19.83,23.08,15.38,15.77,14.69,19.71,32.21,29.0,8.75,25.64,7.4,20.0,16.83,16.16,10.0,20.51,14.3,21.63,14.4,15.38,8.65,10.58,17.31,12.11,9.0,67.0,12.85,14.25,20.0,28.52,7.25,25.64,22.6,30.77,16.2,20.6,15.5,7.6,20.46,37.0,19.05,13.77,10.0,28.95,10.95,25.0,26.24,22.29,12.5,20.16,7.75,13.0,13.5,26.42,19.0,9.0,37.5,18.0,11.42,19.8,17.16,19.0,91.67,22.3,15.0,38.46,11.5,9.0,13.46,23.0,22.6,34.19,18.55,11.1,35.03,39.74,15.0,19.0,19.23,11.5,16.16,12.5,10.0,16.0,19.0,2.78,16.67,11.0,9.27,14.0,17.51,18.18,18.75,17.86,17.75,7.75,26.92,10.25,7.05,8.5,11.98,12.0,41.96,12.5,16.0,4.38,11.0,23.26,10.0,22.5,16.82,28.85,24.23,13.5,9.75,12.25,17.31,10.0,8.75,15.79,26.5,25.0,21.63,13.35,14.0,40.38,15.0,25.0,7.6,17.5,13.46,37.25,13.5,14.57,7.25,15.75,15.2,8.95,17.3,9.97,14.69,11.0,18.46,20.09,24.65,18.01,17.5,14.5,14.0,26.44,10.5,21.15,17.0,14.5,10.0,28.5,10.82,10.5,12.0,20.0,40.77,14.17,26.0,13.25,23.08,15.0,55.94,19.5,15.0,26.92,28.46,32.0,34.95,17.25,12.31,21.0,10.5,28.85,12.5,40.0,17.44,18.75,17.0,14.35,14.62,45.67,48.5,10.44,19.72,28.75,3.65,15.12,11.78,7.08,24.04,10.5,23.58,7.25,25.0,16.0,12.0,12.06,5.0,28.85,14.0,16.35,10.25,25.0,18.25,15.75,11.0,24.52,40.0,27.5,8.5,28.85,2.33,10.0,9.0,8.0],\"xaxis\":\"x\",\"y\":[12.0,15.0,12.0,13.0,14.0,16.0,16.0,18.0,12.0,12.0,20.0,18.0,14.0,12.0,15.0,12.0,17.0,16.0,16.0,13.0,12.0,8.0,17.0,20.0,16.0,17.0,13.0,13.0,18.0,14.0,11.0,16.0,15.0,18.0,15.0,13.0,16.0,17.0,14.0,16.0,14.0,18.0,16.0,17.0,12.0,16.0,12.0,13.0,13.0,16.0,14.0,17.0,17.0,14.0,14.0,12.0,12.0,13.0,12.0,18.0,17.0,12.0,16.0,18.0,13.0,16.0,13.0,16.0,11.0,12.0,14.0,18.0,16.0,16.0,16.0,12.0,12.0,16.0,12.0,20.0,18.0,12.0,16.0,16.0,15.0,10.0,16.0,14.0,16.0,17.0,15.0,16.0,12.0,12.0,16.0,13.0,12.0,18.0,17.0,19.0,18.0,20.0,16.0,13.0,17.0,16.0,17.0,14.0,12.0,17.0,11.0,19.0,11.0,16.0,16.0,14.0,13.0,17.0,12.0,11.0,15.0,17.0,19.0,18.0,19.0,20.0,19.0,16.0,12.0,14.0,17.0,17.0,17.0,16.0,13.0,16.0,10.0,14.0,18.0,17.0,17.0,16.0,15.0,16.0,16.0,16.0,17.0,16.0,12.0,17.0,20.0,15.0,12.0,18.0,18.0,16.0,16.0,14.0,14.0,16.0,18.0,12.0,18.0,11.0,12.0,12.0,15.0,18.0,16.0,18.0,12.0,13.0,20.0,12.0,10.0,12.0,12.0,20.0,12.0,14.0,16.0,14.0,12.0,14.0,15.0,13.0,18.0,14.0,16.0,16.0,14.0,12.0,16.0,15.0,15.0,18.0,16.0,14.0,16.0,20.0,20.0,9.0,12.0,20.0,18.0,13.0,15.0,17.0,15.0,12.0,12.0,15.0,14.0,9.0,14.0,16.0,14.0,17.0,12.0,13.0,17.0,8.0,14.0,12.0,16.0,9.0,16.0,15.0,13.0,16.0,9.0,14.0,12.0,18.0,16.0,19.0,13.0,16.0,18.0,16.0,15.0,12.0,14.0,16.0,16.0,12.0,16.0,16.0,17.0,16.0,17.0,12.0,18.0,20.0,14.0,12.0,17.0,17.0,16.0,13.0,16.0,18.0,16.0,16.0,17.0,13.0,16.0,18.0,17.0,19.0,16.0,9.0,18.0,17.0,16.0,12.0,16.0,16.0,18.0,17.0,15.0,12.0,15.0,17.0,18.0,16.0,15.0,16.0,14.0,18.0,12.0,19.0,18.0,10.0,16.0,14.0,13.0,19.0,18.0,12.0,17.0,15.0,12.0,16.0,16.0,17.0,12.0,17.0,14.0,12.0,17.0,16.0,18.0,13.0,15.0,20.0,13.0,12.0,18.0,12.0,12.0,18.0,8.0,12.0,14.0,12.0,17.0,11.0,12.0,16.0,13.0,13.0,15.0,16.0,20.0,16.0,16.0,16.0,13.0,11.0,20.0,12.0,16.0,16.0,13.0,13.0,17.0,16.0,12.0,12.0,16.0,17.0,17.0,18.0,9.0,14.0,12.0,20.0,14.0,14.0,16.0,10.0,12.0,19.0,17.0,16.0,12.0,17.0,18.0,8.0,17.0,18.0,12.0,16.0,16.0,16.0,18.0,17.0,9.0,18.0,16.0,12.0,16.0,16.0,16.0,12.0,14.0,12.0,20.0,14.0,18.0,16.0,18.0,19.0,17.0,13.0,8.0,19.0,16.0,17.0,12.0,18.0,16.0,19.0,17.0,12.0,12.0,17.0,13.0,13.0,13.0,16.0,17.0,13.0,16.0,17.0,16.0,14.0,12.0,14.0,9.0,16.0,12.0,10.0,9.0,14.0,12.0,14.0,19.0,16.0,11.0,16.0,16.0,11.0,14.0,12.0,17.0,12.0,17.0,9.0,12.0,17.0,16.0,20.0,14.0,9.0,16.0,12.0,14.0,17.0,13.0,16.0,17.0,10.0,12.0,11.0,16.0,17.0,16.0,13.0,16.0,18.0,12.0,17.0,12.0,12.0,17.0,11.0,16.0,8.0,13.0,18.0,18.0,13.0,16.0,16.0,18.0,18.0,12.0,16.0,16.0,13.0,13.0,16.0,17.0,18.0,10.0,16.0,12.0,14.0,12.0,12.0],\"yaxis\":\"y\",\"type\":\"scatter\"},{\"hovertemplate\":\"variable=EXP<br>EARNINGS=%{x}<br>value=%{y}<extra></extra>\",\"legendgroup\":\"EXP\",\"marker\":{\"color\":\"#EF553B\",\"symbol\":\"circle\"},\"mode\":\"markers\",\"name\":\"EXP\",\"orientation\":\"v\",\"showlegend\":true,\"x\":[18.5,36.06,13.14,10.0,20.19,10.0,19.65,31.73,25.6,65.0,13.74,38.46,28.52,38.0,7.5,25.6,18.5,20.0,24.13,12.0,11.25,10.64,22.5,29.07,16.67,13.46,30.23,25.21,31.54,9.5,20.0,35.58,14.19,15.63,3.15,10.0,17.2,22.0,27.65,18.0,24.8,34.07,19.66,25.64,47.4,11.3,11.11,12.0,9.42,15.0,19.5,46.49,12.5,5.76,24.0,14.95,17.78,35.0,14.0,19.5,20.98,18.5,38.46,36.15,15.94,27.5,10.0,27.0,8.5,3.49,15.0,17.36,26.44,14.0,25.64,15.0,123.08,11.54,18.45,10.16,14.83,15.0,6.74,28.21,16.0,9.5,14.96,19.77,24.04,18.75,10.3,15.38,11.81,11.87,21.1,15.5,18.4,13.5,26.15,15.21,41.35,21.57,34.01,9.74,32.42,22.0,30.0,10.0,5.0,25.0,10.24,29.62,7.5,48.56,13.5,5.0,11.09,29.91,11.54,7.25,22.19,23.08,10.0,30.0,67.45,13.52,15.87,16.7,12.0,8.25,14.1,16.0,17.5,27.13,7.52,25.58,8.5,14.24,20.5,20.3,19.64,11.0,12.75,2.13,14.5,11.89,24.04,26.0,15.7,38.46,25.0,15.0,13.0,19.88,24.04,22.6,19.0,41.2,8.5,15.8,25.5,14.0,22.31,6.25,17.0,2.63,20.67,15.09,16.83,13.0,11.5,17.0,25.0,62.02,12.32,15.62,26.0,13.74,10.0,35.0,19.23,15.0,12.0,10.0,19.72,25.0,22.3,15.97,18.36,28.72,25.16,6.43,12.48,18.38,33.65,15.35,45.0,10.41,36.94,23.99,10.0,9.85,12.08,13.22,15.0,7.2,14.1,40.38,3.03,31.95,15.45,18.0,12.0,13.0,15.0,24.04,14.45,34.34,13.0,10.47,14.5,19.77,14.24,14.55,15.38,11.11,25.15,14.86,9.45,34.62,11.63,11.25,13.17,12.74,11.54,35.0,21.92,12.0,21.0,35.0,7.25,11.3,12.0,23.4,23.5,7.27,22.0,12.0,17.2,25.48,32.69,6.0,34.0,42.86,13.5,14.0,16.0,20.51,22.12,3.75,9.0,13.0,7.5,18.27,36.32,14.42,23.08,13.0,13.46,28.85,8.5,10.47,19.83,23.08,15.38,15.77,14.69,19.71,32.21,29.0,8.75,25.64,7.4,20.0,16.83,16.16,10.0,20.51,14.3,21.63,14.4,15.38,8.65,10.58,17.31,12.11,9.0,67.0,12.85,14.25,20.0,28.52,7.25,25.64,22.6,30.77,16.2,20.6,15.5,7.6,20.46,37.0,19.05,13.77,10.0,28.95,10.95,25.0,26.24,22.29,12.5,20.16,7.75,13.0,13.5,26.42,19.0,9.0,37.5,18.0,11.42,19.8,17.16,19.0,91.67,22.3,15.0,38.46,11.5,9.0,13.46,23.0,22.6,34.19,18.55,11.1,35.03,39.74,15.0,19.0,19.23,11.5,16.16,12.5,10.0,16.0,19.0,2.78,16.67,11.0,9.27,14.0,17.51,18.18,18.75,17.86,17.75,7.75,26.92,10.25,7.05,8.5,11.98,12.0,41.96,12.5,16.0,4.38,11.0,23.26,10.0,22.5,16.82,28.85,24.23,13.5,9.75,12.25,17.31,10.0,8.75,15.79,26.5,25.0,21.63,13.35,14.0,40.38,15.0,25.0,7.6,17.5,13.46,37.25,13.5,14.57,7.25,15.75,15.2,8.95,17.3,9.97,14.69,11.0,18.46,20.09,24.65,18.01,17.5,14.5,14.0,26.44,10.5,21.15,17.0,14.5,10.0,28.5,10.82,10.5,12.0,20.0,40.77,14.17,26.0,13.25,23.08,15.0,55.94,19.5,15.0,26.92,28.46,32.0,34.95,17.25,12.31,21.0,10.5,28.85,12.5,40.0,17.44,18.75,17.0,14.35,14.62,45.67,48.5,10.44,19.72,28.75,3.65,15.12,11.78,7.08,24.04,10.5,23.58,7.25,25.0,16.0,12.0,12.06,5.0,28.85,14.0,16.35,10.25,25.0,18.25,15.75,11.0,24.52,40.0,27.5,8.5,28.85,2.33,10.0,9.0,8.0],\"xaxis\":\"x\",\"y\":[9.711538,2.942308,8.019231,9.788462,6.846154,0.9807692,2.730769,4.923077,6.326923,9.807693,1.730769,6.865385,6.807693,9.75,2.788461,4.75,2.596154,5.634615,3.923077,6.980769,8.961538,9.461538,6.192307,0.0,4.692307,1.846154,5.903846,7.423077,5.076923,6.788462,10.59615,3.865385,5.365385,4.0,2.923077,7.0,5.038462,5.076923,7.903846,3.0,6.153846,3.365385,5.403846,3.865385,6.538462,1.384615,6.442307,9.596154,6.403846,4.307693,5.884615,3.769231,2.961539,9.596154,8.461538,4.076923,9.769231,6.846154,4.961538,2.288461,3.461539,8.596154,4.423077,2.75,9.653846,7.519231,5.961538,7.769231,8.288462,7.096154,5.634615,3.634615,4.865385,6.788462,6.75,7.403846,9.846154,6.692307,9.326923,3.807692,1.923077,10.92308,1.711538,5.134615,5.673077,3.384615,6.653846,9.288462,7.403846,0.3653846,2.807692,3.865385,6.615385,8.730769,8.673077,7.903846,8.519231,7.769231,6.75,3.057692,3.519231,3.25,6.634615,4.884615,4.576923,6.480769,3.365385,5.865385,5.730769,2.826923,6.442307,4.788462,9.115385,7.461538,3.961539,5.673077,8.038462,5.807693,11.51923,1.980769,1.788462,4.673077,2.288461,3.5,2.788461,6.653846,4.75,5.903846,9.461538,7.807693,5.673077,4.673077,6.480769,3.788461,8.134615,5.769231,5.730769,5.596154,2.692308,2.846154,5.75,7.980769,6.596154,6.269231,5.596154,5.807693,5.788462,7.442307,8.538462,5.557693,4.5,1.0,8.423077,3.173077,3.230769,5.730769,5.0,10.75,11.15385,4.442307,2.711539,11.59615,2.0,5.480769,9.365385,7.807693,1.0,3.0,3.75,2.653846,9.307693,7.692307,1.173077,8.807693,9.673077,4.384615,8.769231,1.230769,7.596154,6.576923,5.769231,8.769231,9.826923,5.923077,2.769231,7.0,2.75,3.461539,6.903846,6.230769,8.75,8.403846,5.442307,3.384615,7.75,3.903846,7.403846,5.769231,4.923077,4.75,1.884615,8.692307,11.01923,1.730769,0.4807692,4.365385,1.461538,6.538462,3.0,9.692307,8.173077,4.769231,6.403846,8.480769,5.0,6.673077,5.134615,4.730769,8.019231,4.038462,5.826923,7.288462,3.634615,9.865385,6.615385,7.269231,4.846154,4.653846,3.230769,6.403846,11.13461,7.5,3.884615,4.557693,5.75,4.730769,8.634615,4.557693,2.711539,1.269231,4.461538,9.403846,7.519231,8.307693,7.153846,5.192307,4.596154,6.942307,5.596154,4.711538,3.826923,5.480769,0.9423077,3.365385,6.307693,7.307693,5.807693,5.730769,4.423077,10.71154,5.096154,3.057692,4.923077,4.923077,4.596154,7.269231,7.307693,1.538462,4.365385,1.365385,4.442307,6.192307,5.192307,5.769231,6.75,8.557693,5.076923,5.0,5.384615,5.807693,7.692307,10.92308,4.461538,4.653846,3.307692,4.692307,6.519231,6.173077,8.711538,2.75,9.211538,4.0,4.307693,9.980769,7.846154,6.307693,8.692307,1.730769,6.230769,8.692307,4.903846,5.730769,7.961538,6.942307,5.711538,4.5,9.788462,4.961538,1.807692,5.384615,4.442307,4.211538,5.769231,10.63461,5.346154,1.365385,8.461538,10.69231,4.173077,7.365385,9.519231,4.269231,6.307693,6.596154,9.115385,7.923077,5.730769,8.711538,9.903846,5.769231,7.923077,10.92308,5.192307,5.576923,2.923077,7.384615,4.307693,6.0,5.961538,8.769231,0.0,8.923077,5.788462,5.653846,4.5,7.365385,3.326923,5.576923,10.13461,9.711538,4.076923,4.75,4.711538,2.865385,6.673077,7.615385,9.615385,2.096154,1.423077,5.115385,4.096154,10.44231,8.653846,2.615385,5.634615,4.0,8.903846,4.326923,3.423077,8.365385,4.0,2.576923,7.961538,4.653846,4.634615,4.0,4.673077,5.846154,6.346154,2.076923,4.25,12.32692,4.75,6.134615,5.826923,9.788462,4.269231,8.480769,2.884615,2.75,3.288461,3.634615,7.538462,2.211539,6.730769,7.884615,8.038462,3.384615,5.711538,4.634615,5.576923,2.653846,4.5,3.519231,3.519231,9.019231,5.788462,4.115385,4.923077,4.173077,7.711538,4.653846,5.75,11.80769,1.903846,2.0,7.653846,7.730769,9.173077,9.365385,8.230769,6.711538,7.557693,11.01923,9.865385,5.538462,6.326923,8.846154,1.519231,4.211538,8.884615,6.730769,8.961538,11.78846,7.576923,8.576923,5.557693,10.53846,3.557692,10.26923,8.865385,5.384615,5.673077,5.25,7.0,9.134615,4.519231,8.596154,4.634615,2.865385,8.269231,4.788462,4.711538,10.80769,9.711538,6.461538,1.75,5.769231,5.576923,6.211538,4.75,3.442308,6.230769,4.653846,6.096154,11.28846,5.557693,7.480769,5.884615,6.480769,8.442307,2.865385,2.730769,8.038462,6.346154,6.807693,4.615385,7.0,9.269231,4.365385,5.173077,7.115385,6.75,7.403846,4.769231,5.0,2.442308,3.230769,7.865385,8.769231,10.82692,9.365385],\"yaxis\":\"y\",\"type\":\"scatter\"}],                        {\"template\":{\"data\":{\"histogram2dcontour\":[{\"type\":\"histogram2dcontour\",\"colorbar\":{\"outlinewidth\":0,\"ticks\":\"\"},\"colorscale\":[[0.0,\"#0d0887\"],[0.1111111111111111,\"#46039f\"],[0.2222222222222222,\"#7201a8\"],[0.3333333333333333,\"#9c179e\"],[0.4444444444444444,\"#bd3786\"],[0.5555555555555556,\"#d8576b\"],[0.6666666666666666,\"#ed7953\"],[0.7777777777777778,\"#fb9f3a\"],[0.8888888888888888,\"#fdca26\"],[1.0,\"#f0f921\"]]}],\"choropleth\":[{\"type\":\"choropleth\",\"colorbar\":{\"outlinewidth\":0,\"ticks\":\"\"}}],\"histogram2d\":[{\"type\":\"histogram2d\",\"colorbar\":{\"outlinewidth\":0,\"ticks\":\"\"},\"colorscale\":[[0.0,\"#0d0887\"],[0.1111111111111111,\"#46039f\"],[0.2222222222222222,\"#7201a8\"],[0.3333333333333333,\"#9c179e\"],[0.4444444444444444,\"#bd3786\"],[0.5555555555555556,\"#d8576b\"],[0.6666666666666666,\"#ed7953\"],[0.7777777777777778,\"#fb9f3a\"],[0.8888888888888888,\"#fdca26\"],[1.0,\"#f0f921\"]]}],\"heatmap\":[{\"type\":\"heatmap\",\"colorbar\":{\"outlinewidth\":0,\"ticks\":\"\"},\"colorscale\":[[0.0,\"#0d0887\"],[0.1111111111111111,\"#46039f\"],[0.2222222222222222,\"#7201a8\"],[0.3333333333333333,\"#9c179e\"],[0.4444444444444444,\"#bd3786\"],[0.5555555555555556,\"#d8576b\"],[0.6666666666666666,\"#ed7953\"],[0.7777777777777778,\"#fb9f3a\"],[0.8888888888888888,\"#fdca26\"],[1.0,\"#f0f921\"]]}],\"heatmapgl\":[{\"type\":\"heatmapgl\",\"colorbar\":{\"outlinewidth\":0,\"ticks\":\"\"},\"colorscale\":[[0.0,\"#0d0887\"],[0.1111111111111111,\"#46039f\"],[0.2222222222222222,\"#7201a8\"],[0.3333333333333333,\"#9c179e\"],[0.4444444444444444,\"#bd3786\"],[0.5555555555555556,\"#d8576b\"],[0.6666666666666666,\"#ed7953\"],[0.7777777777777778,\"#fb9f3a\"],[0.8888888888888888,\"#fdca26\"],[1.0,\"#f0f921\"]]}],\"contourcarpet\":[{\"type\":\"contourcarpet\",\"colorbar\":{\"outlinewidth\":0,\"ticks\":\"\"}}],\"contour\":[{\"type\":\"contour\",\"colorbar\":{\"outlinewidth\":0,\"ticks\":\"\"},\"colorscale\":[[0.0,\"#0d0887\"],[0.1111111111111111,\"#46039f\"],[0.2222222222222222,\"#7201a8\"],[0.3333333333333333,\"#9c179e\"],[0.4444444444444444,\"#bd3786\"],[0.5555555555555556,\"#d8576b\"],[0.6666666666666666,\"#ed7953\"],[0.7777777777777778,\"#fb9f3a\"],[0.8888888888888888,\"#fdca26\"],[1.0,\"#f0f921\"]]}],\"surface\":[{\"type\":\"surface\",\"colorbar\":{\"outlinewidth\":0,\"ticks\":\"\"},\"colorscale\":[[0.0,\"#0d0887\"],[0.1111111111111111,\"#46039f\"],[0.2222222222222222,\"#7201a8\"],[0.3333333333333333,\"#9c179e\"],[0.4444444444444444,\"#bd3786\"],[0.5555555555555556,\"#d8576b\"],[0.6666666666666666,\"#ed7953\"],[0.7777777777777778,\"#fb9f3a\"],[0.8888888888888888,\"#fdca26\"],[1.0,\"#f0f921\"]]}],\"mesh3d\":[{\"type\":\"mesh3d\",\"colorbar\":{\"outlinewidth\":0,\"ticks\":\"\"}}],\"scatter\":[{\"fillpattern\":{\"fillmode\":\"overlay\",\"size\":10,\"solidity\":0.2},\"type\":\"scatter\"}],\"parcoords\":[{\"type\":\"parcoords\",\"line\":{\"colorbar\":{\"outlinewidth\":0,\"ticks\":\"\"}}}],\"scatterpolargl\":[{\"type\":\"scatterpolargl\",\"marker\":{\"colorbar\":{\"outlinewidth\":0,\"ticks\":\"\"}}}],\"bar\":[{\"error_x\":{\"color\":\"#2a3f5f\"},\"error_y\":{\"color\":\"#2a3f5f\"},\"marker\":{\"line\":{\"color\":\"#E5ECF6\",\"width\":0.5},\"pattern\":{\"fillmode\":\"overlay\",\"size\":10,\"solidity\":0.2}},\"type\":\"bar\"}],\"scattergeo\":[{\"type\":\"scattergeo\",\"marker\":{\"colorbar\":{\"outlinewidth\":0,\"ticks\":\"\"}}}],\"scatterpolar\":[{\"type\":\"scatterpolar\",\"marker\":{\"colorbar\":{\"outlinewidth\":0,\"ticks\":\"\"}}}],\"histogram\":[{\"marker\":{\"pattern\":{\"fillmode\":\"overlay\",\"size\":10,\"solidity\":0.2}},\"type\":\"histogram\"}],\"scattergl\":[{\"type\":\"scattergl\",\"marker\":{\"colorbar\":{\"outlinewidth\":0,\"ticks\":\"\"}}}],\"scatter3d\":[{\"type\":\"scatter3d\",\"line\":{\"colorbar\":{\"outlinewidth\":0,\"ticks\":\"\"}},\"marker\":{\"colorbar\":{\"outlinewidth\":0,\"ticks\":\"\"}}}],\"scattermapbox\":[{\"type\":\"scattermapbox\",\"marker\":{\"colorbar\":{\"outlinewidth\":0,\"ticks\":\"\"}}}],\"scatterternary\":[{\"type\":\"scatterternary\",\"marker\":{\"colorbar\":{\"outlinewidth\":0,\"ticks\":\"\"}}}],\"scattercarpet\":[{\"type\":\"scattercarpet\",\"marker\":{\"colorbar\":{\"outlinewidth\":0,\"ticks\":\"\"}}}],\"carpet\":[{\"aaxis\":{\"endlinecolor\":\"#2a3f5f\",\"gridcolor\":\"white\",\"linecolor\":\"white\",\"minorgridcolor\":\"white\",\"startlinecolor\":\"#2a3f5f\"},\"baxis\":{\"endlinecolor\":\"#2a3f5f\",\"gridcolor\":\"white\",\"linecolor\":\"white\",\"minorgridcolor\":\"white\",\"startlinecolor\":\"#2a3f5f\"},\"type\":\"carpet\"}],\"table\":[{\"cells\":{\"fill\":{\"color\":\"#EBF0F8\"},\"line\":{\"color\":\"white\"}},\"header\":{\"fill\":{\"color\":\"#C8D4E3\"},\"line\":{\"color\":\"white\"}},\"type\":\"table\"}],\"barpolar\":[{\"marker\":{\"line\":{\"color\":\"#E5ECF6\",\"width\":0.5},\"pattern\":{\"fillmode\":\"overlay\",\"size\":10,\"solidity\":0.2}},\"type\":\"barpolar\"}],\"pie\":[{\"automargin\":true,\"type\":\"pie\"}]},\"layout\":{\"autotypenumbers\":\"strict\",\"colorway\":[\"#636efa\",\"#EF553B\",\"#00cc96\",\"#ab63fa\",\"#FFA15A\",\"#19d3f3\",\"#FF6692\",\"#B6E880\",\"#FF97FF\",\"#FECB52\"],\"font\":{\"color\":\"#2a3f5f\"},\"hovermode\":\"closest\",\"hoverlabel\":{\"align\":\"left\"},\"paper_bgcolor\":\"white\",\"plot_bgcolor\":\"#E5ECF6\",\"polar\":{\"bgcolor\":\"#E5ECF6\",\"angularaxis\":{\"gridcolor\":\"white\",\"linecolor\":\"white\",\"ticks\":\"\"},\"radialaxis\":{\"gridcolor\":\"white\",\"linecolor\":\"white\",\"ticks\":\"\"}},\"ternary\":{\"bgcolor\":\"#E5ECF6\",\"aaxis\":{\"gridcolor\":\"white\",\"linecolor\":\"white\",\"ticks\":\"\"},\"baxis\":{\"gridcolor\":\"white\",\"linecolor\":\"white\",\"ticks\":\"\"},\"caxis\":{\"gridcolor\":\"white\",\"linecolor\":\"white\",\"ticks\":\"\"}},\"coloraxis\":{\"colorbar\":{\"outlinewidth\":0,\"ticks\":\"\"}},\"colorscale\":{\"sequential\":[[0.0,\"#0d0887\"],[0.1111111111111111,\"#46039f\"],[0.2222222222222222,\"#7201a8\"],[0.3333333333333333,\"#9c179e\"],[0.4444444444444444,\"#bd3786\"],[0.5555555555555556,\"#d8576b\"],[0.6666666666666666,\"#ed7953\"],[0.7777777777777778,\"#fb9f3a\"],[0.8888888888888888,\"#fdca26\"],[1.0,\"#f0f921\"]],\"sequentialminus\":[[0.0,\"#0d0887\"],[0.1111111111111111,\"#46039f\"],[0.2222222222222222,\"#7201a8\"],[0.3333333333333333,\"#9c179e\"],[0.4444444444444444,\"#bd3786\"],[0.5555555555555556,\"#d8576b\"],[0.6666666666666666,\"#ed7953\"],[0.7777777777777778,\"#fb9f3a\"],[0.8888888888888888,\"#fdca26\"],[1.0,\"#f0f921\"]],\"diverging\":[[0,\"#8e0152\"],[0.1,\"#c51b7d\"],[0.2,\"#de77ae\"],[0.3,\"#f1b6da\"],[0.4,\"#fde0ef\"],[0.5,\"#f7f7f7\"],[0.6,\"#e6f5d0\"],[0.7,\"#b8e186\"],[0.8,\"#7fbc41\"],[0.9,\"#4d9221\"],[1,\"#276419\"]]},\"xaxis\":{\"gridcolor\":\"white\",\"linecolor\":\"white\",\"ticks\":\"\",\"title\":{\"standoff\":15},\"zerolinecolor\":\"white\",\"automargin\":true,\"zerolinewidth\":2},\"yaxis\":{\"gridcolor\":\"white\",\"linecolor\":\"white\",\"ticks\":\"\",\"title\":{\"standoff\":15},\"zerolinecolor\":\"white\",\"automargin\":true,\"zerolinewidth\":2},\"scene\":{\"xaxis\":{\"backgroundcolor\":\"#E5ECF6\",\"gridcolor\":\"white\",\"linecolor\":\"white\",\"showbackground\":true,\"ticks\":\"\",\"zerolinecolor\":\"white\",\"gridwidth\":2},\"yaxis\":{\"backgroundcolor\":\"#E5ECF6\",\"gridcolor\":\"white\",\"linecolor\":\"white\",\"showbackground\":true,\"ticks\":\"\",\"zerolinecolor\":\"white\",\"gridwidth\":2},\"zaxis\":{\"backgroundcolor\":\"#E5ECF6\",\"gridcolor\":\"white\",\"linecolor\":\"white\",\"showbackground\":true,\"ticks\":\"\",\"zerolinecolor\":\"white\",\"gridwidth\":2}},\"shapedefaults\":{\"line\":{\"color\":\"#2a3f5f\"}},\"annotationdefaults\":{\"arrowcolor\":\"#2a3f5f\",\"arrowhead\":0,\"arrowwidth\":1},\"geo\":{\"bgcolor\":\"white\",\"landcolor\":\"#E5ECF6\",\"subunitcolor\":\"white\",\"showland\":true,\"showlakes\":true,\"lakecolor\":\"white\"},\"title\":{\"x\":0.05},\"mapbox\":{\"style\":\"light\"}}},\"xaxis\":{\"anchor\":\"y\",\"domain\":[0.0,1.0],\"title\":{\"text\":\"EARNINGS\"}},\"yaxis\":{\"anchor\":\"x\",\"domain\":[0.0,1.0],\"title\":{\"text\":\"value\"}},\"legend\":{\"title\":{\"text\":\"variable\"},\"tracegroupgap\":0},\"margin\":{\"t\":60}},                        {\"responsive\": true}                    ).then(function(){\n",
              "                            \n",
              "var gd = document.getElementById('cde485f5-3e5b-43c0-8b2f-bcf13da83980');\n",
              "var x = new MutationObserver(function (mutations, observer) {{\n",
              "        var display = window.getComputedStyle(gd).display;\n",
              "        if (!display || display === 'none') {{\n",
              "            console.log([gd, 'removed!']);\n",
              "            Plotly.purge(gd);\n",
              "            observer.disconnect();\n",
              "        }}\n",
              "}});\n",
              "\n",
              "// Listen for the removal of the full notebook cells\n",
              "var notebookContainer = gd.closest('#notebook-container');\n",
              "if (notebookContainer) {{\n",
              "    x.observe(notebookContainer, {childList: true});\n",
              "}}\n",
              "\n",
              "// Listen for the clearing of the current output cell\n",
              "var outputEl = gd.closest('.output');\n",
              "if (outputEl) {{\n",
              "    x.observe(outputEl, {childList: true});\n",
              "}}\n",
              "\n",
              "                        })                };                            </script>        </div>\n",
              "</body>\n",
              "</html>"
            ]
          },
          "metadata": {}
        }
      ]
    },
    {
      "cell_type": "code",
      "source": [
        "sns.displot(clean_df,\n",
        "            x = 'AGE',\n",
        "            y = 'EARNINGS')"
      ],
      "metadata": {
        "colab": {
          "base_uri": "https://localhost:8080/",
          "height": 386
        },
        "id": "-1RDKHAiCa1B",
        "outputId": "1d8e9fce-0da7-4c8c-a522-e4798f1fe2d7"
      },
      "execution_count": null,
      "outputs": [
        {
          "output_type": "execute_result",
          "data": {
            "text/plain": [
              "<seaborn.axisgrid.FacetGrid at 0x7f42ec3f7d90>"
            ]
          },
          "metadata": {},
          "execution_count": 26
        },
        {
          "output_type": "display_data",
          "data": {
            "text/plain": [
              "<Figure size 360x360 with 1 Axes>"
            ],
            "image/png": "[encoded data removed]"
          },
          "metadata": {
            "needs_background": "light"
          }
        }
      ]
    },
    {
      "cell_type": "code",
      "source": [
        "sns.histplot(clean_df,\n",
        "             x = 'AGE',)"
      ],
      "metadata": {
        "colab": {
          "base_uri": "https://localhost:8080/",
          "height": 296
        },
        "id": "vju695CeC0ub",
        "outputId": "e989ae3d-3aa7-4324-a79e-5a23452d41a0"
      },
      "execution_count": null,
      "outputs": [
        {
          "output_type": "execute_result",
          "data": {
            "text/plain": [
              "<matplotlib.axes._subplots.AxesSubplot at 0x7f42e9927810>"
            ]
          },
          "metadata": {},
          "execution_count": 27
        },
        {
          "output_type": "display_data",
          "data": {
            "text/plain": [
              "<Figure size 432x288 with 1 Axes>"
            ],
            "image/png": "[encoded data removed]"
          },
          "metadata": {
            "needs_background": "light"
          }
        }
      ]
    },
    {
      "cell_type": "code",
      "source": [
        "clean_df['AGE'].value_counts()"
      ],
      "metadata": {
        "colab": {
          "base_uri": "https://localhost:8080/"
        },
        "id": "H4Np2j3v_frj",
        "outputId": "76d60d31-6a2d-44fe-8e12-fdf28a105dcb"
      },
      "execution_count": null,
      "outputs": [
        {
          "output_type": "execute_result",
          "data": {
            "text/plain": [
              "29    169\n",
              "28    165\n",
              "27    158\n",
              "Name: AGE, dtype: int64"
            ]
          },
          "metadata": {},
          "execution_count": 28
        }
      ]
    },
    {
      "cell_type": "code",
      "source": [
        "clean_df['BYEAR'].value_counts()"
      ],
      "metadata": {
        "colab": {
          "base_uri": "https://localhost:8080/"
        },
        "id": "v-ofWqO8DFM3",
        "outputId": "2cc7e55b-db3f-4c2b-a00f-95d3f4b6f5f8"
      },
      "execution_count": null,
      "outputs": [
        {
          "output_type": "execute_result",
          "data": {
            "text/plain": [
              "1982    169\n",
              "1983    165\n",
              "1984    158\n",
              "Name: BYEAR, dtype: int64"
            ]
          },
          "metadata": {},
          "execution_count": 29
        }
      ]
    },
    {
      "cell_type": "markdown",
      "metadata": {
        "id": "9i4zHYG4nhDL"
      },
      "source": [
        "# Split Training & Test Dataset\n",
        "\n",
        "We *can't* use all the entries in our dataset to train our model. Keep 20% of the data for later as a testing dataset (out-of-sample data).  "
      ]
    },
    {
      "cell_type": "code",
      "metadata": {
        "id": "M_OfRSyunkA1"
      },
      "source": [
        "target = clean_df['EARNINGS']"
      ],
      "execution_count": null,
      "outputs": []
    },
    {
      "cell_type": "code",
      "source": [
        "feature = np.array(clean_df['S'])"
      ],
      "metadata": {
        "id": "XVc-5SSIUtVj"
      },
      "execution_count": null,
      "outputs": []
    },
    {
      "cell_type": "code",
      "source": [
        "feature.shape"
      ],
      "metadata": {
        "colab": {
          "base_uri": "https://localhost:8080/"
        },
        "id": "o18CxTN3FCdI",
        "outputId": "aef4cda8-6a57-4e11-8d16-f942a88c24be"
      },
      "execution_count": null,
      "outputs": [
        {
          "output_type": "execute_result",
          "data": {
            "text/plain": [
              "(492,)"
            ]
          },
          "metadata": {},
          "execution_count": 39
        }
      ]
    },
    {
      "cell_type": "code",
      "source": [
        "feature = feature.reshape(-1,1)"
      ],
      "metadata": {
        "id": "VM31RiI7D3Gf"
      },
      "execution_count": null,
      "outputs": []
    },
    {
      "cell_type": "code",
      "source": [
        "X_train, X_test, y_train, y_test = train_test_split(feature, target, test_size=0.2, random_state=10)"
      ],
      "metadata": {
        "id": "JDWNG1QWZYBP"
      },
      "execution_count": null,
      "outputs": []
    },
    {
      "cell_type": "markdown",
      "metadata": {
        "id": "EM99NOH0noFS"
      },
      "source": [
        "# Simple Linear Regression\n",
        "\n",
        "Only use the years of schooling to predict earnings. Use sklearn to run the regression on the training dataset. How high is the r-squared for the regression on the training data? "
      ]
    },
    {
      "cell_type": "code",
      "metadata": {
        "id": "J_MViuoNnvHf"
      },
      "source": [
        "liregr = LinearRegression()"
      ],
      "execution_count": null,
      "outputs": []
    },
    {
      "cell_type": "code",
      "source": [
        "liregr.fit(X_train, y_train)"
      ],
      "metadata": {
        "colab": {
          "base_uri": "https://localhost:8080/"
        },
        "id": "3cj5CtY5DipH",
        "outputId": "ffafeb8c-2987-4e8f-b5e6-78d5c70b106a"
      },
      "execution_count": null,
      "outputs": [
        {
          "output_type": "execute_result",
          "data": {
            "text/plain": [
              "LinearRegression()"
            ]
          },
          "metadata": {},
          "execution_count": 47
        }
      ]
    },
    {
      "cell_type": "code",
      "source": [
        "print(f'Coefficients: {liregr.coef_}')"
      ],
      "metadata": {
        "colab": {
          "base_uri": "https://localhost:8080/"
        },
        "id": "w4Yy_ZcPDitK",
        "outputId": "d57cb842-1e10-4fec-a929-f1a9b4c9326f"
      },
      "execution_count": null,
      "outputs": [
        {
          "output_type": "stream",
          "name": "stdout",
          "text": [
            "Coefficients: [1.1280176]\n"
          ]
        }
      ]
    },
    {
      "cell_type": "code",
      "source": [
        "from sklearn.metrics import r2_score, mean_squared_error"
      ],
      "metadata": {
        "id": "3uypCKTkDixB"
      },
      "execution_count": null,
      "outputs": []
    },
    {
      "cell_type": "markdown",
      "metadata": {
        "id": "s2TeWKs7oJSa"
      },
      "source": [
        "### Evaluate the Coefficients of the Model\n",
        "\n",
        "Here we do a sense check on our regression coefficients. The first thing to look for is if the coefficients have the expected sign (positive or negative). \n",
        "\n",
        "Interpret the regression. How many extra dollars can one expect to earn for an additional year of schooling?"
      ]
    },
    {
      "cell_type": "code",
      "metadata": {
        "id": "QmhzZAmAoW4t",
        "colab": {
          "base_uri": "https://localhost:8080/"
        },
        "outputId": "3982d60f-3eaa-40ed-fb08-51ba900ffe96"
      },
      "source": [
        "print(f'Mean squared error: {mean_squared_error(X_train, y_train)}')"
      ],
      "execution_count": null,
      "outputs": [
        {
          "output_type": "stream",
          "name": "stdout",
          "text": [
            "Mean squared error: 150.81490050890585\n"
          ]
        }
      ]
    },
    {
      "cell_type": "code",
      "source": [
        "print(f'Coefficient of determination: {r2_score(X_train, y_train)}')"
      ],
      "metadata": {
        "colab": {
          "base_uri": "https://localhost:8080/"
        },
        "id": "eQ4SbouHQiDf",
        "outputId": "c8b61ee5-47e6-4ab4-b771-2ea7ddcb09b4"
      },
      "execution_count": null,
      "outputs": [
        {
          "output_type": "stream",
          "name": "stdout",
          "text": [
            "Coefficient of determination: -19.334713152188144\n"
          ]
        }
      ]
    },
    {
      "cell_type": "code",
      "source": [
        "reg = liregr.fit(X_train, y_train)"
      ],
      "metadata": {
        "id": "XHwknGmbQiHV"
      },
      "execution_count": null,
      "outputs": []
    },
    {
      "cell_type": "code",
      "metadata": {
        "id": "e9hpdAt3oWnq",
        "colab": {
          "base_uri": "https://localhost:8080/"
        },
        "outputId": "f3a2b318-cb16-43d9-c8a5-cfba949dfaf6"
      },
      "source": [
        "reg.score(X_train, y_train)"
      ],
      "execution_count": null,
      "outputs": [
        {
          "output_type": "execute_result",
          "data": {
            "text/plain": [
              "0.06583332219487104"
            ]
          },
          "metadata": {},
          "execution_count": 55
        }
      ]
    },
    {
      "cell_type": "code",
      "source": [
        "reg.coef_"
      ],
      "metadata": {
        "colab": {
          "base_uri": "https://localhost:8080/"
        },
        "id": "439IbDngRMKp",
        "outputId": "419d027f-5b56-47ab-8696-ecc451d331ea"
      },
      "execution_count": null,
      "outputs": [
        {
          "output_type": "execute_result",
          "data": {
            "text/plain": [
              "array([1.1280176])"
            ]
          },
          "metadata": {},
          "execution_count": 56
        }
      ]
    },
    {
      "cell_type": "code",
      "source": [
        "reg.intercept_"
      ],
      "metadata": {
        "colab": {
          "base_uri": "https://localhost:8080/"
        },
        "id": "Mpvai3R8RXVV",
        "outputId": "57e4683b-536c-400d-84ae-ca174d878834"
      },
      "execution_count": null,
      "outputs": [
        {
          "output_type": "execute_result",
          "data": {
            "text/plain": [
              "2.194919222341529"
            ]
          },
          "metadata": {},
          "execution_count": 58
        }
      ]
    },
    {
      "cell_type": "markdown",
      "metadata": {
        "id": "WIyMPXXYobx8"
      },
      "source": [
        "### Analyse the Estimated Values & Regression Residuals\n",
        "\n",
        "How good our regression is also depends on the residuals - the difference between the model's predictions ( 𝑦̂ 𝑖 ) and the true values ( 𝑦𝑖 ) inside y_train. Do you see any patterns in the distribution of the residuals?"
      ]
    },
    {
      "cell_type": "code",
      "metadata": {
        "id": "khkgscweosP_"
      },
      "source": [
        "predicted_y = reg.predict(X_train)"
      ],
      "execution_count": null,
      "outputs": []
    },
    {
      "cell_type": "code",
      "source": [
        "predicted_y1 = liregr.predict(X_train)"
      ],
      "metadata": {
        "id": "XEk_5trUcn3o"
      },
      "execution_count": null,
      "outputs": []
    },
    {
      "cell_type": "code",
      "source": [
        "plt.figure(figsize=(12,8), dpi=120)\n",
        "plt.plot(predicted_y, predicted_y1)"
      ],
      "metadata": {
        "colab": {
          "base_uri": "https://localhost:8080/",
          "height": 812
        },
        "id": "YC4S8Eqsctat",
        "outputId": "fb3a0314-2587-4fe4-86cc-0da95fac2cae"
      },
      "execution_count": null,
      "outputs": [
        {
          "output_type": "execute_result",
          "data": {
            "text/plain": [
              "[<matplotlib.lines.Line2D at 0x7f42e4e8df90>]"
            ]
          },
          "metadata": {},
          "execution_count": 105
        },
        {
          "output_type": "display_data",
          "data": {
            "text/plain": [
              "<Figure size 1440x960 with 1 Axes>"
            ],
            "image/png": "[encoded data removed]"
          },
          "metadata": {
            "needs_background": "light"
          }
        }
      ]
    },
    {
      "cell_type": "code",
      "source": [
        "predicted_y"
      ],
      "metadata": {
        "colab": {
          "base_uri": "https://localhost:8080/"
        },
        "id": "IiKs4JlMc3F3",
        "outputId": "0fad692f-ba99-44a3-ab2d-adff010924d5"
      },
      "execution_count": null,
      "outputs": [
        {
          "output_type": "execute_result",
          "data": {
            "text/plain": [
              "array([14.60311282, 16.85914802, 17.98716561, 16.85914802, 17.98716561,\n",
              "       15.73113042, 20.24320081, 15.73113042, 21.37121841, 17.98716561,\n",
              "       14.60311282, 21.37121841, 15.73113042, 17.98716561, 20.24320081,\n",
              "       20.24320081, 15.73113042, 16.85914802, 15.73113042, 22.49923601,\n",
              "       20.24320081, 17.98716561, 19.11518321, 23.62725361, 15.73113042,\n",
              "       22.49923601, 19.11518321, 17.98716561, 20.24320081, 21.37121841,\n",
              "       17.98716561, 23.62725361, 22.49923601, 15.73113042, 22.49923601,\n",
              "       23.62725361, 20.24320081, 20.24320081, 21.37121841, 23.62725361,\n",
              "       19.11518321, 15.73113042, 21.37121841, 16.85914802, 20.24320081,\n",
              "       17.98716561, 22.49923601, 21.37121841, 15.73113042, 19.11518321,\n",
              "       15.73113042, 21.37121841, 24.75527121, 17.98716561, 20.24320081,\n",
              "       12.34707762, 20.24320081, 15.73113042, 24.75527121, 20.24320081,\n",
              "       21.37121841, 21.37121841, 24.75527121, 20.24320081, 20.24320081,\n",
              "       17.98716561, 21.37121841, 16.85914802, 19.11518321, 16.85914802,\n",
              "       21.37121841, 20.24320081, 14.60311282, 14.60311282, 17.98716561,\n",
              "       20.24320081, 12.34707762, 23.62725361, 21.37121841, 19.11518321,\n",
              "       15.73113042, 20.24320081, 19.11518321, 21.37121841, 17.98716561,\n",
              "       15.73113042, 15.73113042, 22.49923601, 22.49923601, 20.24320081,\n",
              "       15.73113042, 16.85914802, 16.85914802, 16.85914802, 17.98716561,\n",
              "       15.73113042, 20.24320081, 20.24320081, 22.49923601, 15.73113042,\n",
              "       21.37121841, 17.98716561, 13.47509522, 15.73113042, 21.37121841,\n",
              "       19.11518321, 20.24320081, 17.98716561, 15.73113042, 22.49923601,\n",
              "       22.49923601, 21.37121841, 20.24320081, 15.73113042, 20.24320081,\n",
              "       15.73113042, 15.73113042, 15.73113042, 20.24320081, 17.98716561,\n",
              "       21.37121841, 20.24320081, 19.11518321, 19.11518321, 20.24320081,\n",
              "       23.62725361, 22.49923601, 15.73113042, 15.73113042, 21.37121841,\n",
              "       15.73113042, 20.24320081, 16.85914802, 20.24320081, 15.73113042,\n",
              "       20.24320081, 22.49923601, 22.49923601, 21.37121841, 17.98716561,\n",
              "       17.98716561, 15.73113042, 16.85914802, 17.98716561, 11.21906002,\n",
              "       20.24320081, 19.11518321, 19.11518321, 16.85914802, 20.24320081,\n",
              "       21.37121841, 16.85914802, 21.37121841, 21.37121841, 15.73113042,\n",
              "       20.24320081, 24.75527121, 20.24320081, 20.24320081, 20.24320081,\n",
              "       20.24320081, 15.73113042, 20.24320081, 20.24320081, 15.73113042,\n",
              "       22.49923601, 22.49923601, 11.21906002, 12.34707762, 20.24320081,\n",
              "       20.24320081, 19.11518321, 17.98716561, 12.34707762, 22.49923601,\n",
              "       15.73113042, 19.11518321, 21.37121841, 15.73113042, 21.37121841,\n",
              "       20.24320081, 15.73113042, 15.73113042, 21.37121841, 15.73113042,\n",
              "       20.24320081, 15.73113042, 22.49923601, 20.24320081, 23.62725361,\n",
              "       16.85914802, 21.37121841, 17.98716561, 22.49923601, 20.24320081,\n",
              "       15.73113042, 16.85914802, 22.49923601, 16.85914802, 20.24320081,\n",
              "       21.37121841, 13.47509522, 20.24320081, 17.98716561, 15.73113042,\n",
              "       17.98716561, 20.24320081, 20.24320081, 15.73113042, 16.85914802,\n",
              "       19.11518321, 23.62725361, 20.24320081, 15.73113042, 16.85914802,\n",
              "       20.24320081, 22.49923601, 20.24320081, 16.85914802, 22.49923601,\n",
              "       20.24320081, 21.37121841, 19.11518321, 22.49923601, 22.49923601,\n",
              "       14.60311282, 15.73113042, 12.34707762, 13.47509522, 21.37121841,\n",
              "       20.24320081, 20.24320081, 15.73113042, 20.24320081, 20.24320081,\n",
              "       16.85914802, 23.62725361, 22.49923601, 17.98716561, 17.98716561,\n",
              "       16.85914802, 21.37121841, 15.73113042, 22.49923601, 20.24320081,\n",
              "       16.85914802, 20.24320081, 11.21906002, 15.73113042, 21.37121841,\n",
              "       17.98716561, 20.24320081, 20.24320081, 20.24320081, 12.34707762,\n",
              "       20.24320081, 15.73113042, 21.37121841, 21.37121841, 19.11518321,\n",
              "       22.49923601, 22.49923601, 20.24320081, 15.73113042, 20.24320081,\n",
              "       17.98716561, 15.73113042, 21.37121841, 14.60311282, 22.49923601,\n",
              "       21.37121841, 19.11518321, 13.47509522, 16.85914802, 24.75527121,\n",
              "       22.49923601, 20.24320081, 16.85914802, 24.75527121, 15.73113042,\n",
              "       15.73113042, 12.34707762, 20.24320081, 15.73113042, 22.49923601,\n",
              "       23.62725361, 24.75527121, 20.24320081, 20.24320081, 15.73113042,\n",
              "       16.85914802, 24.75527121, 16.85914802, 15.73113042, 21.37121841,\n",
              "       21.37121841, 14.60311282, 22.49923601, 24.75527121, 20.24320081,\n",
              "       13.47509522, 20.24320081, 16.85914802, 20.24320081, 16.85914802,\n",
              "       12.34707762, 20.24320081, 15.73113042, 15.73113042, 21.37121841,\n",
              "       15.73113042, 20.24320081, 12.34707762, 17.98716561, 17.98716561,\n",
              "       20.24320081, 15.73113042, 21.37121841, 21.37121841, 22.49923601,\n",
              "       22.49923601, 24.75527121, 20.24320081, 20.24320081, 14.60311282,\n",
              "       20.24320081, 22.49923601, 15.73113042, 15.73113042, 15.73113042,\n",
              "       23.62725361, 17.98716561, 20.24320081, 17.98716561, 16.85914802,\n",
              "       21.37121841, 20.24320081, 21.37121841, 15.73113042, 20.24320081,\n",
              "       15.73113042, 20.24320081, 21.37121841, 22.49923601, 16.85914802,\n",
              "       20.24320081, 22.49923601, 21.37121841, 21.37121841, 17.98716561,\n",
              "       19.11518321, 20.24320081, 15.73113042, 20.24320081, 20.24320081,\n",
              "       16.85914802, 20.24320081, 15.73113042, 13.47509522, 20.24320081,\n",
              "       11.21906002, 17.98716561, 24.75527121, 22.49923601, 24.75527121,\n",
              "       22.49923601, 20.24320081, 23.62725361, 23.62725361, 16.85914802,\n",
              "       17.98716561, 16.85914802, 20.24320081, 15.73113042, 21.37121841,\n",
              "       22.49923601, 12.34707762, 17.98716561, 21.37121841, 20.24320081,\n",
              "       15.73113042, 13.47509522, 16.85914802, 11.21906002, 16.85914802,\n",
              "       20.24320081, 22.49923601, 11.21906002, 15.73113042, 15.73113042,\n",
              "       21.37121841, 24.75527121, 16.85914802])"
            ]
          },
          "metadata": {},
          "execution_count": 102
        }
      ]
    },
    {
      "cell_type": "code",
      "source": [
        "predicted_y\n",
        "plt.hist(predicted_y, bins=50)"
      ],
      "metadata": {
        "colab": {
          "base_uri": "https://localhost:8080/",
          "height": 543
        },
        "id": "j629rUxFdDXS",
        "outputId": "d8d3c0be-129b-40af-801e-c64d980483dc"
      },
      "execution_count": null,
      "outputs": [
        {
          "output_type": "execute_result",
          "data": {
            "text/plain": [
              "(array([ 6.,  0.,  0.,  0., 10.,  0.,  0.,  0.,  7.,  0.,  0.,  0.,  8.,\n",
              "         0.,  0.,  0., 68.,  0.,  0.,  0., 36.,  0.,  0.,  0.,  0., 35.,\n",
              "         0.,  0.,  0., 19.,  0.,  0.,  0., 90.,  0.,  0.,  0., 48.,  0.,\n",
              "         0.,  0., 40.,  0.,  0.,  0., 13.,  0.,  0.,  0., 13.]),\n",
              " array([11.21906002, 11.48978424, 11.76050847, 12.03123269, 12.30195691,\n",
              "        12.57268114, 12.84340536, 13.11412959, 13.38485381, 13.65557803,\n",
              "        13.92630226, 14.19702648, 14.4677507 , 14.73847493, 15.00919915,\n",
              "        15.27992338, 15.5506476 , 15.82137182, 16.09209605, 16.36282027,\n",
              "        16.6335445 , 16.90426872, 17.17499294, 17.44571717, 17.71644139,\n",
              "        17.98716561, 18.25788984, 18.52861406, 18.79933829, 19.07006251,\n",
              "        19.34078673, 19.61151096, 19.88223518, 20.15295941, 20.42368363,\n",
              "        20.69440785, 20.96513208, 21.2358563 , 21.50658053, 21.77730475,\n",
              "        22.04802897, 22.3187532 , 22.58947742, 22.86020164, 23.13092587,\n",
              "        23.40165009, 23.67237432, 23.94309854, 24.21382276, 24.48454699,\n",
              "        24.75527121]),\n",
              " <a list of 50 Patch objects>)"
            ]
          },
          "metadata": {},
          "execution_count": 107
        },
        {
          "output_type": "display_data",
          "data": {
            "text/plain": [
              "<Figure size 432x288 with 1 Axes>"
            ],
            "image/png": "[encoded data removed]"
          },
          "metadata": {
            "needs_background": "light"
          }
        }
      ]
    },
    {
      "cell_type": "code",
      "source": [
        "predicted_values = liregr.predict(X_train)\n",
        "plt.figure(figsize = (8,6), dpi=100)\n",
        "plt.scatter(y_train, predicted_values, c='purple', alpha=0.5)\n",
        "plt.plot(y_train, y_train, c='cyan')\n",
        "plt.show()"
      ],
      "metadata": {
        "colab": {
          "base_uri": "https://localhost:8080/",
          "height": 513
        },
        "id": "wQfVbUKtdsri",
        "outputId": "8987c61d-5126-4277-c45b-46d1a9aa19c1"
      },
      "execution_count": null,
      "outputs": [
        {
          "output_type": "display_data",
          "data": {
            "text/plain": [
              "<Figure size 800x600 with 1 Axes>"
            ],
            "image/png": "[encoded data removed]"
          },
          "metadata": {
            "needs_background": "light"
          }
        }
      ]
    },
    {
      "cell_type": "code",
      "source": [
        "residuals = y_train - predicted_values\n",
        "plt.figure(figsize=(8,6), dpi=120)\n",
        "plt.scatter(predicted_values, residuals, c='indigo', alpha=0.5)\n",
        "plt.show()"
      ],
      "metadata": {
        "colab": {
          "base_uri": "https://localhost:8080/",
          "height": 614
        },
        "id": "oS4EdLy-eYVv",
        "outputId": "5634f9a7-f48b-4b26-b225-10503e8e26ac"
      },
      "execution_count": null,
      "outputs": [
        {
          "output_type": "display_data",
          "data": {
            "text/plain": [
              "<Figure size 960x720 with 1 Axes>"
            ],
            "image/png": "[encoded data removed]"
          },
          "metadata": {
            "needs_background": "light"
          }
        }
      ]
    },
    {
      "cell_type": "code",
      "source": [
        "with sns.axes_style('darkgrid'):\n",
        "  sns.displot(residuals, kde=True, color='purple')\n",
        "plt.title(f'Residuals Skew {residuals.skew():.2f} and Mean {residuals.mean():.2f}')\n",
        "plt.xlabel('Residuals')\n",
        "plt.show()"
      ],
      "metadata": {
        "colab": {
          "base_uri": "https://localhost:8080/",
          "height": 385
        },
        "id": "p-aBXclVe8-s",
        "outputId": "2d495327-f5a4-4682-c2a6-6df6c5da12d0"
      },
      "execution_count": null,
      "outputs": [
        {
          "output_type": "display_data",
          "data": {
            "text/plain": [
              "<Figure size 360x360 with 1 Axes>"
            ],
            "image/png": "[encoded data removed]"
          },
          "metadata": {}
        }
      ]
    },
    {
      "cell_type": "code",
      "metadata": {
        "id": "m_diDXSXotm6",
        "colab": {
          "base_uri": "https://localhost:8080/",
          "height": 265
        },
        "outputId": "1c5bf3c0-43a3-4e4f-e4e0-9ba3a981ac68"
      },
      "source": [
        "plt.scatter(X_train, \n",
        "            y_train,\n",
        "            color = 'red')\n",
        "plt.scatter(X_train,\n",
        "            predicted_y,\n",
        "            color = 'blue')\n",
        "plt.show()"
      ],
      "execution_count": null,
      "outputs": [
        {
          "output_type": "display_data",
          "data": {
            "text/plain": [
              "<Figure size 432x288 with 1 Axes>"
            ],
            "image/png": "[encoded data removed]"
          },
          "metadata": {
            "needs_background": "light"
          }
        }
      ]
    },
    {
      "cell_type": "code",
      "source": [
        "plt.scatter(y_train,\n",
        "            predicted_y)"
      ],
      "metadata": {
        "colab": {
          "base_uri": "https://localhost:8080/",
          "height": 282
        },
        "id": "ShE2TsdHR14l",
        "outputId": "3180fb15-bf73-4f61-e912-f994a1366f93"
      },
      "execution_count": null,
      "outputs": [
        {
          "output_type": "execute_result",
          "data": {
            "text/plain": [
              "<matplotlib.collections.PathCollection at 0x7f42e71beed0>"
            ]
          },
          "metadata": {},
          "execution_count": 61
        },
        {
          "output_type": "display_data",
          "data": {
            "text/plain": [
              "<Figure size 432x288 with 1 Axes>"
            ],
            "image/png": "[encoded data removed]"
          },
          "metadata": {
            "needs_background": "light"
          }
        }
      ]
    },
    {
      "cell_type": "code",
      "metadata": {
        "id": "6DfAEUWNosHd"
      },
      "source": [
        "residuals = y_train - predicted_y"
      ],
      "execution_count": null,
      "outputs": []
    },
    {
      "cell_type": "code",
      "source": [
        "plt.scatter(y_train,\n",
        "            residuals)"
      ],
      "metadata": {
        "colab": {
          "base_uri": "https://localhost:8080/",
          "height": 282
        },
        "id": "1OYdfk53SsIz",
        "outputId": "a567b96d-2add-4d4d-a0ee-4c914c53c06a"
      },
      "execution_count": null,
      "outputs": [
        {
          "output_type": "execute_result",
          "data": {
            "text/plain": [
              "<matplotlib.collections.PathCollection at 0x7f42e50b8b90>"
            ]
          },
          "metadata": {},
          "execution_count": 83
        },
        {
          "output_type": "display_data",
          "data": {
            "text/plain": [
              "<Figure size 432x288 with 1 Axes>"
            ],
            "image/png": "[encoded data removed]"
          },
          "metadata": {
            "needs_background": "light"
          }
        }
      ]
    },
    {
      "cell_type": "code",
      "source": [
        "sns.displot(clean_df['EARNINGS'],\n",
        "            kde = True,\n",
        "            color = 'cyan')\n",
        "plt.title(f\"Target skew: {clean_df['EARNINGS'].skew():.2f}\")\n",
        "plt.show()"
      ],
      "metadata": {
        "colab": {
          "base_uri": "https://localhost:8080/",
          "height": 385
        },
        "id": "9-pm6__5f0Wy",
        "outputId": "effed864-82db-44a5-ac59-428f6698f0a8"
      },
      "execution_count": null,
      "outputs": [
        {
          "output_type": "display_data",
          "data": {
            "text/plain": [
              "<Figure size 360x360 with 1 Axes>"
            ],
            "image/png": "[encoded data removed]"
          },
          "metadata": {
            "needs_background": "light"
          }
        }
      ]
    },
    {
      "cell_type": "code",
      "source": [
        "log_earning = np.log(clean_df['EARNINGS'])\n",
        "sns.displot(log_earning,\n",
        "            kde = True,\n",
        "            color = 'blue')\n",
        "plt.title(f\"Log target skewness: {log_earning.skew():.2f}\")\n",
        "plt.show()\n"
      ],
      "metadata": {
        "colab": {
          "base_uri": "https://localhost:8080/",
          "height": 385
        },
        "id": "mC7zlqvtf0pk",
        "outputId": "f1ebada1-aab8-4343-df00-619f3308c357"
      },
      "execution_count": null,
      "outputs": [
        {
          "output_type": "display_data",
          "data": {
            "text/plain": [
              "<Figure size 360x360 with 1 Axes>"
            ],
            "image/png": "[encoded data removed]"
          },
          "metadata": {
            "needs_background": "light"
          }
        }
      ]
    },
    {
      "cell_type": "code",
      "source": [
        "log_target = log_earning\n",
        "feature = clean_df['S']\n",
        "feature = np.array(feature).reshape(-1,1)\n",
        "X_train_log, X_test_log, y_train_log, y_test_log = train_test_split(feature, log_target, train_size=0.8, random_state=10)"
      ],
      "metadata": {
        "id": "jg69dhIsgpRP"
      },
      "execution_count": null,
      "outputs": []
    },
    {
      "cell_type": "code",
      "source": [
        "liregr_log = LinearRegression()\n",
        "reg_log = liregr_log.fit(X_train_log, y_train_log)\n",
        "print(f'Coefficient: {reg_log.coef_}')\n",
        "print(f'Intersect: {reg_log.intercept_}')\n",
        "print(f'The new r-squared using log: {liregr_log.score(X_train_log, y_train_log)}')\n",
        "print(f'The old r-squared: {liregr.score(X_train, y_train)}')\n",
        "\n",
        "print(f'The new r-squared using log: {reg_log.score(X_train_log, y_train_log)}')\n",
        "print(f'The old r-squared: {reg.score(X_train, y_train)}')"
      ],
      "metadata": {
        "colab": {
          "base_uri": "https://localhost:8080/"
        },
        "id": "nIaf7-h4hjvJ",
        "outputId": "5ecb6b57-d049-4e88-e8d8-441094595063"
      },
      "execution_count": null,
      "outputs": [
        {
          "output_type": "stream",
          "name": "stdout",
          "text": [
            "Coefficient: [0.06505319]\n",
            "Intersect: 1.8260506465854798\n",
            "The new r-squared using log: 0.10582509601290191\n",
            "The old r-squared: 0.06583332219487104\n",
            "The new r-squared using log: 0.10582509601290191\n",
            "The old r-squared: 0.06583332219487104\n"
          ]
        }
      ]
    },
    {
      "cell_type": "code",
      "source": [
        "print(f'Using test dataset, The new r-squared using log: {liregr_log.score(X_test_log, y_test_log)}')\n",
        "print(f'Using test dataset, The old r-squared: {liregr.score(X_test, y_test)}')\n",
        "\n",
        "print(f'Using test dataset, The new r-squared using log: {reg_log.score(X_test_log, y_test_log)}')\n",
        "print(f'Using test dataset, The old r-squared: {reg.score(X_test, y_test)}')"
      ],
      "metadata": {
        "colab": {
          "base_uri": "https://localhost:8080/"
        },
        "id": "2Fo4i4Lghkqz",
        "outputId": "2842ffb9-493a-4290-c322-1a4aa30c9c28"
      },
      "execution_count": null,
      "outputs": [
        {
          "output_type": "stream",
          "name": "stdout",
          "text": [
            "Using test dataset, The new r-squared using log: 0.11868701290827244\n",
            "Using test dataset, The old r-squared: 0.16461900998376156\n",
            "Using test dataset, The new r-squared using log: 0.11868701290827244\n",
            "Using test dataset, The old r-squared: 0.16461900998376156\n"
          ]
        }
      ]
    },
    {
      "cell_type": "code",
      "source": [
        "predicted_values_log = liregr_log.predict(X_train_log)\n",
        "plt.scatter(y_train_log, predicted_values_log)"
      ],
      "metadata": {
        "colab": {
          "base_uri": "https://localhost:8080/",
          "height": 282
        },
        "id": "Oc0Jstc1kODH",
        "outputId": "7f70a63a-d675-41d6-bd1e-11852c9b9822"
      },
      "execution_count": null,
      "outputs": [
        {
          "output_type": "execute_result",
          "data": {
            "text/plain": [
              "<matplotlib.collections.PathCollection at 0x7f42e474cad0>"
            ]
          },
          "metadata": {},
          "execution_count": 129
        },
        {
          "output_type": "display_data",
          "data": {
            "text/plain": [
              "<Figure size 432x288 with 1 Axes>"
            ],
            "image/png": "[encoded data removed]"
          },
          "metadata": {
            "needs_background": "light"
          }
        }
      ]
    },
    {
      "cell_type": "code",
      "source": [
        "residuals_log = y_train_log - predicted_values_log\n",
        "sns.displot(residuals_log,\n",
        "            kde = True,\n",
        "            color = 'cyan')\n",
        "plt.title(f'Sknews of residual: {residuals_log.skew()}')"
      ],
      "metadata": {
        "colab": {
          "base_uri": "https://localhost:8080/",
          "height": 402
        },
        "id": "L0c8IGOBkOHN",
        "outputId": "9689fbbb-1c5c-4677-9ba7-b2098a038193"
      },
      "execution_count": null,
      "outputs": [
        {
          "output_type": "execute_result",
          "data": {
            "text/plain": [
              "Text(0.5, 1.0, 'Sknews of residual: -0.1139850352338295')"
            ]
          },
          "metadata": {},
          "execution_count": 147
        },
        {
          "output_type": "display_data",
          "data": {
            "text/plain": [
              "<Figure size 360x360 with 1 Axes>"
            ],
            "image/png": "[encoded data removed]"
          },
          "metadata": {
            "needs_background": "light"
          }
        }
      ]
    },
    {
      "cell_type": "code",
      "source": [
        "plt.scatter(predicted_values_log, residuals_log)"
      ],
      "metadata": {
        "colab": {
          "base_uri": "https://localhost:8080/",
          "height": 282
        },
        "id": "rDkJ_iy5laLS",
        "outputId": "a07e0e88-ec96-45aa-f21c-b7bdaead02ca"
      },
      "execution_count": null,
      "outputs": [
        {
          "output_type": "execute_result",
          "data": {
            "text/plain": [
              "<matplotlib.collections.PathCollection at 0x7f42e4611a50>"
            ]
          },
          "metadata": {},
          "execution_count": 131
        },
        {
          "output_type": "display_data",
          "data": {
            "text/plain": [
              "<Figure size 432x288 with 1 Axes>"
            ],
            "image/png": "[encoded data removed]"
          },
          "metadata": {
            "needs_background": "light"
          }
        }
      ]
    },
    {
      "cell_type": "markdown",
      "metadata": {
        "id": "zNBuJ1iBnvpl"
      },
      "source": [
        "# Multivariable Regression\n",
        "\n",
        "Now use both years of schooling and the years work experience to predict earnings. How high is the r-squared for the regression on the training data? "
      ]
    },
    {
      "cell_type": "code",
      "metadata": {
        "id": "Ihq-C4looCSM"
      },
      "source": [
        "target2 = clean_df['EARNINGS']\n",
        "features2 = clean_df[['S','EXP']]"
      ],
      "execution_count": null,
      "outputs": []
    },
    {
      "cell_type": "code",
      "metadata": {
        "id": "dRhB7Iwboyfq"
      },
      "source": [
        "liregr2 = LinearRegression()"
      ],
      "execution_count": null,
      "outputs": []
    },
    {
      "cell_type": "code",
      "source": [
        "X_train2, X_test2, y_train2, y_test2 = train_test_split(features2, target2, train_size = 0.8)"
      ],
      "metadata": {
        "id": "85UBGEoOTG60"
      },
      "execution_count": null,
      "outputs": []
    },
    {
      "cell_type": "code",
      "source": [
        "reg2 = liregr2.fit(X_train2, y_train2)"
      ],
      "metadata": {
        "id": "LzNga1ZlTDfp"
      },
      "execution_count": null,
      "outputs": []
    },
    {
      "cell_type": "code",
      "source": [
        "print(f'The coefficient is: {reg2.coef_}')\n",
        "print(f'The intersect is: {reg2.intercept_}')"
      ],
      "metadata": {
        "colab": {
          "base_uri": "https://localhost:8080/"
        },
        "id": "EtnZFzazTDi7",
        "outputId": "8be23b05-914e-477e-c58d-db92ac6f8bc9"
      },
      "execution_count": null,
      "outputs": [
        {
          "output_type": "stream",
          "name": "stdout",
          "text": [
            "The coefficient is: [1.7056688  0.81096464]\n",
            "The intersect is: -11.280039490928907\n"
          ]
        }
      ]
    },
    {
      "cell_type": "code",
      "source": [
        "print(f'The R score is: {reg2.score(X_train2, y_train2)}')"
      ],
      "metadata": {
        "colab": {
          "base_uri": "https://localhost:8080/"
        },
        "id": "fNrg4BmzTDnK",
        "outputId": "82db4693-c6c0-45e4-bfc8-121f882e54db"
      },
      "execution_count": null,
      "outputs": [
        {
          "output_type": "stream",
          "name": "stdout",
          "text": [
            "The R score is: 0.12327521277499054\n"
          ]
        }
      ]
    },
    {
      "cell_type": "code",
      "source": [
        "target2_log = np.log(clean_df['EARNINGS'])\n",
        "X_train2_log, X_test2_log, y_train2_log, y_test2_log = train_test_split(features2, target2_log, train_size = 0.8)\n",
        "liregr2_log = LinearRegression()\n",
        "reg2_log = liregr2_log.fit(X_train2_log, y_train2_log)"
      ],
      "metadata": {
        "id": "pmtCettBlr0d"
      },
      "execution_count": null,
      "outputs": []
    },
    {
      "cell_type": "code",
      "source": [
        "print(f'The coefficient is: {reg2_log.coef_}')\n",
        "print(f'The intersect is: {reg2_log.intercept_}')\n",
        "print(f'The R score using log is: {reg2_log.score(X_train2_log, y_train2_log)}')"
      ],
      "metadata": {
        "colab": {
          "base_uri": "https://localhost:8080/"
        },
        "id": "xQ6mzwDelr3s",
        "outputId": "f136a60e-83d7-4564-8bdb-ca692da3230b"
      },
      "execution_count": null,
      "outputs": [
        {
          "output_type": "stream",
          "name": "stdout",
          "text": [
            "The coefficient is: [0.09947078 0.04846096]\n",
            "The intersect is: 1.035697735903163\n",
            "The R score using log is: 0.15053599045558164\n"
          ]
        }
      ]
    },
    {
      "cell_type": "code",
      "source": [
        "print(f'Using test dataset, The R score using log is: {reg2_log.score(X_test2_log, y_test2_log)}')"
      ],
      "metadata": {
        "colab": {
          "base_uri": "https://localhost:8080/"
        },
        "id": "24mm_LdBlr7G",
        "outputId": "b3e279d4-6850-4840-ac21-519e2bcdc573"
      },
      "execution_count": null,
      "outputs": [
        {
          "output_type": "stream",
          "name": "stdout",
          "text": [
            "Using test dataset, The R score using log is: 0.11626326640399998\n"
          ]
        }
      ]
    },
    {
      "cell_type": "code",
      "source": [
        "predicted_values2_log = liregr2_log.predict(X_train2_log)\n",
        "residuals2_log = y_train2_log - predicted_values2_log"
      ],
      "metadata": {
        "id": "7zA-A_A3lr-e"
      },
      "execution_count": null,
      "outputs": []
    },
    {
      "cell_type": "code",
      "source": [
        "plt.scatter(y_train2_log, predicted_values2_log)\n"
      ],
      "metadata": {
        "colab": {
          "base_uri": "https://localhost:8080/",
          "height": 285
        },
        "id": "5lx4Tk7dprIo",
        "outputId": "12e547c5-0972-4d92-897d-246d38bc16db"
      },
      "execution_count": null,
      "outputs": [
        {
          "output_type": "execute_result",
          "data": {
            "text/plain": [
              "<matplotlib.collections.PathCollection at 0x7f42e457a5d0>"
            ]
          },
          "metadata": {},
          "execution_count": 143
        },
        {
          "output_type": "display_data",
          "data": {
            "text/plain": [
              "<Figure size 432x288 with 1 Axes>"
            ],
            "image/png": "[encoded data removed]"
          },
          "metadata": {
            "needs_background": "light"
          }
        }
      ]
    },
    {
      "cell_type": "code",
      "source": [
        "plt.scatter(predicted_values2_log, residuals2_log)"
      ],
      "metadata": {
        "colab": {
          "base_uri": "https://localhost:8080/",
          "height": 282
        },
        "id": "3HyelEQUpy-A",
        "outputId": "73c03e41-5eee-4bcf-ab74-d13447a41d41"
      },
      "execution_count": null,
      "outputs": [
        {
          "output_type": "execute_result",
          "data": {
            "text/plain": [
              "<matplotlib.collections.PathCollection at 0x7f42e451a290>"
            ]
          },
          "metadata": {},
          "execution_count": 144
        },
        {
          "output_type": "display_data",
          "data": {
            "text/plain": [
              "<Figure size 432x288 with 1 Axes>"
            ],
            "image/png": "[encoded data removed]"
          },
          "metadata": {
            "needs_background": "light"
          }
        }
      ]
    },
    {
      "cell_type": "code",
      "source": [
        "sns.displot(residuals2,\n",
        "            kde = True,\n",
        "            color = 'purple')\n",
        "plt.title(f'Skewness of residuals: {residuals2.skew()}')\n",
        "plt.show()"
      ],
      "metadata": {
        "colab": {
          "base_uri": "https://localhost:8080/",
          "height": 385
        },
        "id": "LehP_bYTp47Z",
        "outputId": "1c3e4520-34ba-4d27-de56-58172f3693b3"
      },
      "execution_count": null,
      "outputs": [
        {
          "output_type": "display_data",
          "data": {
            "text/plain": [
              "<Figure size 360x360 with 1 Axes>"
            ],
            "image/png": "[encoded data removed]"
          },
          "metadata": {
            "needs_background": "light"
          }
        }
      ]
    },
    {
      "cell_type": "code",
      "source": [
        "sns.displot(residuals2_log,\n",
        "            kde = True,\n",
        "            color = 'purple')\n",
        "plt.title(f'Skewness of residuals: {residuals2_log.skew()}')\n",
        "plt.show()"
      ],
      "metadata": {
        "colab": {
          "base_uri": "https://localhost:8080/",
          "height": 385
        },
        "id": "JGVXro-np4_G",
        "outputId": "29c21617-359f-4613-cca6-aefac6484e6f"
      },
      "execution_count": null,
      "outputs": [
        {
          "output_type": "display_data",
          "data": {
            "text/plain": [
              "<Figure size 360x360 with 1 Axes>"
            ],
            "image/png": "[encoded data removed]"
          },
          "metadata": {
            "needs_background": "light"
          }
        }
      ]
    },
    {
      "cell_type": "code",
      "source": [
        ""
      ],
      "metadata": {
        "id": "qjmhvYGCp5ER"
      },
      "execution_count": null,
      "outputs": []
    },
    {
      "cell_type": "code",
      "source": [
        "predicted_y2 = liregr2.predict(X_train2)"
      ],
      "metadata": {
        "id": "9jxcOOXGUFzE"
      },
      "execution_count": null,
      "outputs": []
    },
    {
      "cell_type": "code",
      "source": [
        "plt.scatter(y_train2,\n",
        "            predicted_y2)"
      ],
      "metadata": {
        "colab": {
          "base_uri": "https://localhost:8080/",
          "height": 283
        },
        "id": "di6-X-4pUTlH",
        "outputId": "8a16c011-e37f-4662-d9c8-263297dee4ab"
      },
      "execution_count": null,
      "outputs": [
        {
          "output_type": "execute_result",
          "data": {
            "text/plain": [
              "<matplotlib.collections.PathCollection at 0x7f42e52c63d0>"
            ]
          },
          "metadata": {},
          "execution_count": 78
        },
        {
          "output_type": "display_data",
          "data": {
            "text/plain": [
              "<Figure size 432x288 with 1 Axes>"
            ],
            "image/png": "[encoded data removed]"
          },
          "metadata": {
            "needs_background": "light"
          }
        }
      ]
    },
    {
      "cell_type": "code",
      "source": [
        "residuals2 = y_train2 - predicted_y2"
      ],
      "metadata": {
        "id": "t9wPrPt5Ubyd"
      },
      "execution_count": null,
      "outputs": []
    },
    {
      "cell_type": "code",
      "source": [
        "plt.figure(figsize = (12,8))\n",
        "plt.scatter(y_train2, residuals2, color ='blue')\n",
        "plt.scatter(y_train, residuals, color = 'red')\n",
        "plt.show()"
      ],
      "metadata": {
        "colab": {
          "base_uri": "https://localhost:8080/",
          "height": 483
        },
        "id": "zvUxhPk3Ukqr",
        "outputId": "75cf8a3d-f0fc-47af-e560-bb77edd85ade"
      },
      "execution_count": null,
      "outputs": [
        {
          "output_type": "display_data",
          "data": {
            "text/plain": [
              "<Figure size 864x576 with 1 Axes>"
            ],
            "image/png": "[encoded data removed]"
          },
          "metadata": {
            "needs_background": "light"
          }
        }
      ]
    },
    {
      "cell_type": "code",
      "source": [
        "plt.scatter(predicted_y, residuals)"
      ],
      "metadata": {
        "colab": {
          "base_uri": "https://localhost:8080/",
          "height": 282
        },
        "id": "MRlnuM9hcRYc",
        "outputId": "ead9f694-0c39-46e6-e077-69ea3025055d"
      },
      "execution_count": null,
      "outputs": [
        {
          "output_type": "execute_result",
          "data": {
            "text/plain": [
              "<matplotlib.collections.PathCollection at 0x7f42e50a19d0>"
            ]
          },
          "metadata": {},
          "execution_count": 97
        },
        {
          "output_type": "display_data",
          "data": {
            "text/plain": [
              "<Figure size 432x288 with 1 Axes>"
            ],
            "image/png": "[encoded data removed]"
          },
          "metadata": {
            "needs_background": "light"
          }
        }
      ]
    },
    {
      "cell_type": "code",
      "source": [
        "plt.scatter(predicted_y2, residuals2)"
      ],
      "metadata": {
        "colab": {
          "base_uri": "https://localhost:8080/",
          "height": 282
        },
        "id": "_Wh543bucVfu",
        "outputId": "0a6499bd-2904-4b57-cde3-ccee1d69b573"
      },
      "execution_count": null,
      "outputs": [
        {
          "output_type": "execute_result",
          "data": {
            "text/plain": [
              "<matplotlib.collections.PathCollection at 0x7f42e50345d0>"
            ]
          },
          "metadata": {},
          "execution_count": 98
        },
        {
          "output_type": "display_data",
          "data": {
            "text/plain": [
              "<Figure size 432x288 with 1 Axes>"
            ],
            "image/png": "[encoded data removed]"
          },
          "metadata": {
            "needs_background": "light"
          }
        }
      ]
    },
    {
      "cell_type": "code",
      "source": [
        "print(f'R square in test set in single variable regression: {reg.score(X_test, y_test)}')\n",
        "print(f'R square in test set in multi variable regression: {reg2.score(X_test2, y_test2)}')"
      ],
      "metadata": {
        "colab": {
          "base_uri": "https://localhost:8080/"
        },
        "id": "AydgWg3kUkuO",
        "outputId": "649c7a90-80f0-490f-f741-b8bcefd915ca"
      },
      "execution_count": null,
      "outputs": [
        {
          "output_type": "stream",
          "name": "stdout",
          "text": [
            "R square in test set in single variable regression: 0.16461900998376156\n",
            "R square in test set in multi variable regression: 0.15062190150941668\n"
          ]
        }
      ]
    },
    {
      "cell_type": "code",
      "source": [
        ""
      ],
      "metadata": {
        "id": "1Qbyk2ZbUkx2"
      },
      "execution_count": null,
      "outputs": []
    },
    {
      "cell_type": "markdown",
      "metadata": {
        "id": "nHDtunM0oyuk"
      },
      "source": [
        "### Evaluate the Coefficients of the Model"
      ]
    },
    {
      "cell_type": "code",
      "metadata": {
        "id": "5vasqInIoydB"
      },
      "source": [
        ""
      ],
      "execution_count": null,
      "outputs": []
    },
    {
      "cell_type": "markdown",
      "metadata": {
        "id": "Yv8q90IYou2Q"
      },
      "source": [
        "### Analyse the Estimated Values & Regression Residuals"
      ]
    },
    {
      "cell_type": "code",
      "metadata": {
        "id": "8NmXnsxfowkI"
      },
      "source": [
        ""
      ],
      "execution_count": null,
      "outputs": []
    },
    {
      "cell_type": "code",
      "metadata": {
        "id": "0ZZ1e0spo5o1"
      },
      "source": [
        ""
      ],
      "execution_count": null,
      "outputs": []
    },
    {
      "cell_type": "markdown",
      "metadata": {
        "id": "YWNeoqPLpjVb"
      },
      "source": [
        "# Use Your Model to Make a Prediction\n",
        "\n",
        "How much can someone with a bachelors degree (12 + 4) years of schooling and 5 years work experience expect to earn in 2011?"
      ]
    },
    {
      "cell_type": "code",
      "source": [
        "someone = pd.DataFrame(data=[16], columns=['S'])\n",
        "someone"
      ],
      "metadata": {
        "colab": {
          "base_uri": "https://localhost:8080/",
          "height": 81
        },
        "id": "gP9iWy4McBti",
        "outputId": "dd53420d-f7f6-49d1-dd86-d0ffcdec9f0f"
      },
      "execution_count": null,
      "outputs": [
        {
          "output_type": "execute_result",
          "data": {
            "text/plain": [
              "    S\n",
              "0  16"
            ],
            "text/html": [
              "\n",
              "  <div id=\"df-2504cd0f-4e5c-45c5-913d-33b68cde4b04\">\n",
              "    <div class=\"colab-df-container\">\n",
              "      <div>\n",
              "<style scoped>\n",
              "    .dataframe tbody tr th:only-of-type {\n",
              "        vertical-align: middle;\n",
              "    }\n",
              "\n",
              "    .dataframe tbody tr th {\n",
              "        vertical-align: top;\n",
              "    }\n",
              "\n",
              "    .dataframe thead th {\n",
              "        text-align: right;\n",
              "    }\n",
              "</style>\n",
              "<table border=\"1\" class=\"dataframe\">\n",
              "  <thead>\n",
              "    <tr style=\"text-align: right;\">\n",
              "      <th></th>\n",
              "      <th>S</th>\n",
              "    </tr>\n",
              "  </thead>\n",
              "  <tbody>\n",
              "    <tr>\n",
              "      <th>0</th>\n",
              "      <td>16</td>\n",
              "    </tr>\n",
              "  </tbody>\n",
              "</table>\n",
              "</div>\n",
              "      <button class=\"colab-df-convert\" onclick=\"convertToInteractive('df-2504cd0f-4e5c-45c5-913d-33b68cde4b04')\"\n",
              "              title=\"Convert this dataframe to an interactive table.\"\n",
              "              style=\"display:none;\">\n",
              "        \n",
              "  <svg xmlns=\"http://www.w3.org/2000/svg\" height=\"24px\"viewBox=\"0 0 24 24\"\n",
              "       width=\"24px\">\n",
              "    <path d=\"M0 0h24v24H0V0z\" fill=\"none\"/>\n",
              "    <path d=\"M18.56 5.44l.94 2.06.94-2.06 2.06-.94-2.06-.94-.94-2.06-.94 2.06-2.06.94zm-11 1L8.5 8.5l.94-2.06 2.06-.94-2.06-.94L8.5 2.5l-.94 2.06-2.06.94zm10 10l.94 2.06.94-2.06 2.06-.94-2.06-.94-.94-2.06-.94 2.06-2.06.94z\"/><path d=\"M17.41 7.96l-1.37-1.37c-.4-.4-.92-.59-1.43-.59-.52 0-1.04.2-1.43.59L10.3 9.45l-7.72 7.72c-.78.78-.78 2.05 0 2.83L4 21.41c.39.39.9.59 1.41.59.51 0 1.02-.2 1.41-.59l7.78-7.78 2.81-2.81c.8-.78.8-2.07 0-2.86zM5.41 20L4 18.59l7.72-7.72 1.47 1.35L5.41 20z\"/>\n",
              "  </svg>\n",
              "      </button>\n",
              "      \n",
              "  <style>\n",
              "    .colab-df-container {\n",
              "      display:flex;\n",
              "      flex-wrap:wrap;\n",
              "      gap: 12px;\n",
              "    }\n",
              "\n",
              "    .colab-df-convert {\n",
              "      background-color: #E8F0FE;\n",
              "      border: none;\n",
              "      border-radius: 50%;\n",
              "      cursor: pointer;\n",
              "      display: none;\n",
              "      fill: #1967D2;\n",
              "      height: 32px;\n",
              "      padding: 0 0 0 0;\n",
              "      width: 32px;\n",
              "    }\n",
              "\n",
              "    .colab-df-convert:hover {\n",
              "      background-color: #E2EBFA;\n",
              "      box-shadow: 0px 1px 2px rgba(60, 64, 67, 0.3), 0px 1px 3px 1px rgba(60, 64, 67, 0.15);\n",
              "      fill: #174EA6;\n",
              "    }\n",
              "\n",
              "    [theme=dark] .colab-df-convert {\n",
              "      background-color: #3B4455;\n",
              "      fill: #D2E3FC;\n",
              "    }\n",
              "\n",
              "    [theme=dark] .colab-df-convert:hover {\n",
              "      background-color: #434B5C;\n",
              "      box-shadow: 0px 1px 3px 1px rgba(0, 0, 0, 0.15);\n",
              "      filter: drop-shadow(0px 1px 2px rgba(0, 0, 0, 0.3));\n",
              "      fill: #FFFFFF;\n",
              "    }\n",
              "  </style>\n",
              "\n",
              "      <script>\n",
              "        const buttonEl =\n",
              "          document.querySelector('#df-2504cd0f-4e5c-45c5-913d-33b68cde4b04 button.colab-df-convert');\n",
              "        buttonEl.style.display =\n",
              "          google.colab.kernel.accessAllowed ? 'block' : 'none';\n",
              "\n",
              "        async function convertToInteractive(key) {\n",
              "          const element = document.querySelector('#df-2504cd0f-4e5c-45c5-913d-33b68cde4b04');\n",
              "          const dataTable =\n",
              "            await google.colab.kernel.invokeFunction('convertToInteractive',\n",
              "                                                     [key], {});\n",
              "          if (!dataTable) return;\n",
              "\n",
              "          const docLinkHtml = 'Like what you see? Visit the ' +\n",
              "            '<a target=\"_blank\" href=https://colab.research.google.com/notebooks/data_table.ipynb>data table notebook</a>'\n",
              "            + ' to learn more about interactive tables.';\n",
              "          element.innerHTML = '';\n",
              "          dataTable['output_type'] = 'display_data';\n",
              "          await google.colab.output.renderOutput(dataTable, element);\n",
              "          const docLink = document.createElement('div');\n",
              "          docLink.innerHTML = docLinkHtml;\n",
              "          element.appendChild(docLink);\n",
              "        }\n",
              "      </script>\n",
              "    </div>\n",
              "  </div>\n",
              "  "
            ]
          },
          "metadata": {},
          "execution_count": 150
        }
      ]
    },
    {
      "cell_type": "code",
      "source": [
        "liregr.predict(someone)"
      ],
      "metadata": {
        "colab": {
          "base_uri": "https://localhost:8080/"
        },
        "id": "fdFgVE1NcByC",
        "outputId": "80b9f680-480d-4426-eacb-37b3326775f4"
      },
      "execution_count": null,
      "outputs": [
        {
          "output_type": "stream",
          "name": "stderr",
          "text": [
            "/usr/local/lib/python3.7/dist-packages/sklearn/base.py:444: UserWarning:\n",
            "\n",
            "X has feature names, but LinearRegression was fitted without feature names\n",
            "\n"
          ]
        },
        {
          "output_type": "execute_result",
          "data": {
            "text/plain": [
              "array([20.24320081])"
            ]
          },
          "metadata": {},
          "execution_count": 151
        }
      ]
    },
    {
      "cell_type": "code",
      "source": [
        "np.exp(liregr_log.predict(someone))"
      ],
      "metadata": {
        "colab": {
          "base_uri": "https://localhost:8080/"
        },
        "id": "bNts79bhcB1o",
        "outputId": "723a6d60-62c9-430b-d6cc-d0bc4d8e415e"
      },
      "execution_count": null,
      "outputs": [
        {
          "output_type": "stream",
          "name": "stderr",
          "text": [
            "/usr/local/lib/python3.7/dist-packages/sklearn/base.py:444: UserWarning:\n",
            "\n",
            "X has feature names, but LinearRegression was fitted without feature names\n",
            "\n"
          ]
        },
        {
          "output_type": "execute_result",
          "data": {
            "text/plain": [
              "array([17.58245802])"
            ]
          },
          "metadata": {},
          "execution_count": 152
        }
      ]
    },
    {
      "cell_type": "code",
      "source": [
        ""
      ],
      "metadata": {
        "id": "_bS4QKftcB6Z"
      },
      "execution_count": null,
      "outputs": []
    },
    {
      "cell_type": "code",
      "metadata": {
        "id": "Mof-14lCpv60",
        "colab": {
          "base_uri": "https://localhost:8080/"
        },
        "outputId": "67403222-8683-4a51-e51b-97ceaeee5f20"
      },
      "source": [
        "reg.predict([[16],])"
      ],
      "execution_count": null,
      "outputs": [
        {
          "output_type": "execute_result",
          "data": {
            "text/plain": [
              "array([20.24320081])"
            ]
          },
          "metadata": {},
          "execution_count": 94
        }
      ]
    },
    {
      "cell_type": "code",
      "source": [
        "reg2.predict([[16,5]])"
      ],
      "metadata": {
        "colab": {
          "base_uri": "https://localhost:8080/"
        },
        "id": "968XMz3wYrCg",
        "outputId": "6f00d0a6-f22a-4f35-f3d0-bd0929cc3ec5"
      },
      "execution_count": null,
      "outputs": [
        {
          "output_type": "stream",
          "name": "stderr",
          "text": [
            "/usr/local/lib/python3.7/dist-packages/sklearn/base.py:451: UserWarning:\n",
            "\n",
            "X does not have valid feature names, but LinearRegression was fitted with feature names\n",
            "\n"
          ]
        },
        {
          "output_type": "execute_result",
          "data": {
            "text/plain": [
              "array([20.45114649])"
            ]
          },
          "metadata": {},
          "execution_count": 96
        }
      ]
    },
    {
      "cell_type": "code",
      "metadata": {
        "id": "3htX8_SBpvyb",
        "colab": {
          "base_uri": "https://localhost:8080/",
          "height": 81
        },
        "outputId": "78f3e496-a5a7-4d5a-b418-c0023bf5b284"
      },
      "source": [
        "someone2 = pd.DataFrame(data=[[16,5]], columns=['S','EXP'])\n",
        "someone2"
      ],
      "execution_count": null,
      "outputs": [
        {
          "output_type": "execute_result",
          "data": {
            "text/plain": [
              "    S  EXP\n",
              "0  16    5"
            ],
            "text/html": [
              "\n",
              "  <div id=\"df-8a8e4b49-6948-4702-92f8-53705dc2ff54\">\n",
              "    <div class=\"colab-df-container\">\n",
              "      <div>\n",
              "<style scoped>\n",
              "    .dataframe tbody tr th:only-of-type {\n",
              "        vertical-align: middle;\n",
              "    }\n",
              "\n",
              "    .dataframe tbody tr th {\n",
              "        vertical-align: top;\n",
              "    }\n",
              "\n",
              "    .dataframe thead th {\n",
              "        text-align: right;\n",
              "    }\n",
              "</style>\n",
              "<table border=\"1\" class=\"dataframe\">\n",
              "  <thead>\n",
              "    <tr style=\"text-align: right;\">\n",
              "      <th></th>\n",
              "      <th>S</th>\n",
              "      <th>EXP</th>\n",
              "    </tr>\n",
              "  </thead>\n",
              "  <tbody>\n",
              "    <tr>\n",
              "      <th>0</th>\n",
              "      <td>16</td>\n",
              "      <td>5</td>\n",
              "    </tr>\n",
              "  </tbody>\n",
              "</table>\n",
              "</div>\n",
              "      <button class=\"colab-df-convert\" onclick=\"convertToInteractive('df-8a8e4b49-6948-4702-92f8-53705dc2ff54')\"\n",
              "              title=\"Convert this dataframe to an interactive table.\"\n",
              "              style=\"display:none;\">\n",
              "        \n",
              "  <svg xmlns=\"http://www.w3.org/2000/svg\" height=\"24px\"viewBox=\"0 0 24 24\"\n",
              "       width=\"24px\">\n",
              "    <path d=\"M0 0h24v24H0V0z\" fill=\"none\"/>\n",
              "    <path d=\"M18.56 5.44l.94 2.06.94-2.06 2.06-.94-2.06-.94-.94-2.06-.94 2.06-2.06.94zm-11 1L8.5 8.5l.94-2.06 2.06-.94-2.06-.94L8.5 2.5l-.94 2.06-2.06.94zm10 10l.94 2.06.94-2.06 2.06-.94-2.06-.94-.94-2.06-.94 2.06-2.06.94z\"/><path d=\"M17.41 7.96l-1.37-1.37c-.4-.4-.92-.59-1.43-.59-.52 0-1.04.2-1.43.59L10.3 9.45l-7.72 7.72c-.78.78-.78 2.05 0 2.83L4 21.41c.39.39.9.59 1.41.59.51 0 1.02-.2 1.41-.59l7.78-7.78 2.81-2.81c.8-.78.8-2.07 0-2.86zM5.41 20L4 18.59l7.72-7.72 1.47 1.35L5.41 20z\"/>\n",
              "  </svg>\n",
              "      </button>\n",
              "      \n",
              "  <style>\n",
              "    .colab-df-container {\n",
              "      display:flex;\n",
              "      flex-wrap:wrap;\n",
              "      gap: 12px;\n",
              "    }\n",
              "\n",
              "    .colab-df-convert {\n",
              "      background-color: #E8F0FE;\n",
              "      border: none;\n",
              "      border-radius: 50%;\n",
              "      cursor: pointer;\n",
              "      display: none;\n",
              "      fill: #1967D2;\n",
              "      height: 32px;\n",
              "      padding: 0 0 0 0;\n",
              "      width: 32px;\n",
              "    }\n",
              "\n",
              "    .colab-df-convert:hover {\n",
              "      background-color: #E2EBFA;\n",
              "      box-shadow: 0px 1px 2px rgba(60, 64, 67, 0.3), 0px 1px 3px 1px rgba(60, 64, 67, 0.15);\n",
              "      fill: #174EA6;\n",
              "    }\n",
              "\n",
              "    [theme=dark] .colab-df-convert {\n",
              "      background-color: #3B4455;\n",
              "      fill: #D2E3FC;\n",
              "    }\n",
              "\n",
              "    [theme=dark] .colab-df-convert:hover {\n",
              "      background-color: #434B5C;\n",
              "      box-shadow: 0px 1px 3px 1px rgba(0, 0, 0, 0.15);\n",
              "      filter: drop-shadow(0px 1px 2px rgba(0, 0, 0, 0.3));\n",
              "      fill: #FFFFFF;\n",
              "    }\n",
              "  </style>\n",
              "\n",
              "      <script>\n",
              "        const buttonEl =\n",
              "          document.querySelector('#df-8a8e4b49-6948-4702-92f8-53705dc2ff54 button.colab-df-convert');\n",
              "        buttonEl.style.display =\n",
              "          google.colab.kernel.accessAllowed ? 'block' : 'none';\n",
              "\n",
              "        async function convertToInteractive(key) {\n",
              "          const element = document.querySelector('#df-8a8e4b49-6948-4702-92f8-53705dc2ff54');\n",
              "          const dataTable =\n",
              "            await google.colab.kernel.invokeFunction('convertToInteractive',\n",
              "                                                     [key], {});\n",
              "          if (!dataTable) return;\n",
              "\n",
              "          const docLinkHtml = 'Like what you see? Visit the ' +\n",
              "            '<a target=\"_blank\" href=https://colab.research.google.com/notebooks/data_table.ipynb>data table notebook</a>'\n",
              "            + ' to learn more about interactive tables.';\n",
              "          element.innerHTML = '';\n",
              "          dataTable['output_type'] = 'display_data';\n",
              "          await google.colab.output.renderOutput(dataTable, element);\n",
              "          const docLink = document.createElement('div');\n",
              "          docLink.innerHTML = docLinkHtml;\n",
              "          element.appendChild(docLink);\n",
              "        }\n",
              "      </script>\n",
              "    </div>\n",
              "  </div>\n",
              "  "
            ]
          },
          "metadata": {},
          "execution_count": 154
        }
      ]
    },
    {
      "cell_type": "code",
      "source": [
        "liregr2.predict(someone2)"
      ],
      "metadata": {
        "colab": {
          "base_uri": "https://localhost:8080/"
        },
        "id": "xBO2lJ2xsAoL",
        "outputId": "443261f5-675c-4348-a531-470434d9e6d3"
      },
      "execution_count": null,
      "outputs": [
        {
          "output_type": "execute_result",
          "data": {
            "text/plain": [
              "array([20.06548447])"
            ]
          },
          "metadata": {},
          "execution_count": 156
        }
      ]
    },
    {
      "cell_type": "code",
      "source": [
        "np.exp(liregr2_log.predict(someone2))"
      ],
      "metadata": {
        "colab": {
          "base_uri": "https://localhost:8080/"
        },
        "id": "-NEB9AFnsAro",
        "outputId": "24e69bbc-73f4-4c9f-e3c7-6c7f1f075df6"
      },
      "execution_count": null,
      "outputs": [
        {
          "output_type": "execute_result",
          "data": {
            "text/plain": [
              "array([17.6288183])"
            ]
          },
          "metadata": {},
          "execution_count": 158
        }
      ]
    },
    {
      "cell_type": "code",
      "source": [
        ""
      ],
      "metadata": {
        "id": "Tr7XJMkisAvJ"
      },
      "execution_count": null,
      "outputs": []
    },
    {
      "cell_type": "markdown",
      "metadata": {
        "id": "TIYI-eQepDSQ"
      },
      "source": [
        "# Experiment and Investigate Further\n",
        "\n",
        "Which other features could you consider adding to further improve the regression to better predict earnings? "
      ]
    },
    {
      "cell_type": "code",
      "metadata": {
        "id": "sd07-pKopJgo"
      },
      "source": [
        ""
      ],
      "execution_count": null,
      "outputs": []
    },
    {
      "cell_type": "code",
      "metadata": {
        "id": "Fohe2-Rdp1MO"
      },
      "source": [
        ""
      ],
      "execution_count": null,
      "outputs": []
    }
  ]
}